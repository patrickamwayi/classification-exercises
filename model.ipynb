{
 "cells": [
  {
   "cell_type": "code",
   "execution_count": 648,
   "id": "08ffc693",
   "metadata": {},
   "outputs": [],
   "source": [
    "import numpy as np\n",
    "import pandas as pd\n",
    "from io import StringIO\n",
    "import warnings\n",
    "warnings.filterwarnings('ignore')\n",
    "\n",
    "import acquire\n",
    "import prepare\n",
    "# grab Decision Tree Classifier and some helping friends from sklearn.tree\n",
    "from sklearn.tree import DecisionTreeClassifier, plot_tree, export_text\n",
    "# get classification report for model assessment\n",
    "from sklearn.metrics import classification_report\n",
    "import sklearn"
   ]
  },
  {
   "cell_type": "markdown",
   "id": "bb59d8f7",
   "metadata": {},
   "source": [
    "### Exercises\n",
    "\n",
    "### Using the titanic data, in your classification-exercises repository, create a notebook, model.ipynb where you will do the following:\n",
    "\n"
   ]
  },
  {
   "cell_type": "markdown",
   "id": "b43593f1",
   "metadata": {},
   "source": [
    "### 1. What is your baseline prediction? What is your baseline accuracy? remember: your baseline prediction for a classification problem is predicting the most prevelant class in the training dataset (the mode). When you make those predictions, what is your accuracy? This is your baseline accuracy."
   ]
  },
  {
   "cell_type": "code",
   "execution_count": 649,
   "id": "2e947551",
   "metadata": {},
   "outputs": [],
   "source": [
    "# get titanic data\n",
    "df = acquire.get_titanic_data()\n"
   ]
  },
  {
   "cell_type": "code",
   "execution_count": 650,
   "id": "5177abf4",
   "metadata": {},
   "outputs": [
    {
     "data": {
      "text/html": [
       "<div>\n",
       "<style scoped>\n",
       "    .dataframe tbody tr th:only-of-type {\n",
       "        vertical-align: middle;\n",
       "    }\n",
       "\n",
       "    .dataframe tbody tr th {\n",
       "        vertical-align: top;\n",
       "    }\n",
       "\n",
       "    .dataframe thead th {\n",
       "        text-align: right;\n",
       "    }\n",
       "</style>\n",
       "<table border=\"1\" class=\"dataframe\">\n",
       "  <thead>\n",
       "    <tr style=\"text-align: right;\">\n",
       "      <th></th>\n",
       "      <th>passenger_id</th>\n",
       "      <th>survived</th>\n",
       "      <th>pclass</th>\n",
       "      <th>sex</th>\n",
       "      <th>age</th>\n",
       "      <th>sibsp</th>\n",
       "      <th>parch</th>\n",
       "      <th>fare</th>\n",
       "      <th>embarked</th>\n",
       "      <th>class</th>\n",
       "      <th>deck</th>\n",
       "      <th>embark_town</th>\n",
       "      <th>alone</th>\n",
       "    </tr>\n",
       "  </thead>\n",
       "  <tbody>\n",
       "    <tr>\n",
       "      <th>0</th>\n",
       "      <td>0</td>\n",
       "      <td>0</td>\n",
       "      <td>3</td>\n",
       "      <td>male</td>\n",
       "      <td>22.0</td>\n",
       "      <td>1</td>\n",
       "      <td>0</td>\n",
       "      <td>7.2500</td>\n",
       "      <td>S</td>\n",
       "      <td>Third</td>\n",
       "      <td>NaN</td>\n",
       "      <td>Southampton</td>\n",
       "      <td>0</td>\n",
       "    </tr>\n",
       "    <tr>\n",
       "      <th>1</th>\n",
       "      <td>1</td>\n",
       "      <td>1</td>\n",
       "      <td>1</td>\n",
       "      <td>female</td>\n",
       "      <td>38.0</td>\n",
       "      <td>1</td>\n",
       "      <td>0</td>\n",
       "      <td>71.2833</td>\n",
       "      <td>C</td>\n",
       "      <td>First</td>\n",
       "      <td>C</td>\n",
       "      <td>Cherbourg</td>\n",
       "      <td>0</td>\n",
       "    </tr>\n",
       "    <tr>\n",
       "      <th>2</th>\n",
       "      <td>2</td>\n",
       "      <td>1</td>\n",
       "      <td>3</td>\n",
       "      <td>female</td>\n",
       "      <td>26.0</td>\n",
       "      <td>0</td>\n",
       "      <td>0</td>\n",
       "      <td>7.9250</td>\n",
       "      <td>S</td>\n",
       "      <td>Third</td>\n",
       "      <td>NaN</td>\n",
       "      <td>Southampton</td>\n",
       "      <td>1</td>\n",
       "    </tr>\n",
       "    <tr>\n",
       "      <th>3</th>\n",
       "      <td>3</td>\n",
       "      <td>1</td>\n",
       "      <td>1</td>\n",
       "      <td>female</td>\n",
       "      <td>35.0</td>\n",
       "      <td>1</td>\n",
       "      <td>0</td>\n",
       "      <td>53.1000</td>\n",
       "      <td>S</td>\n",
       "      <td>First</td>\n",
       "      <td>C</td>\n",
       "      <td>Southampton</td>\n",
       "      <td>0</td>\n",
       "    </tr>\n",
       "    <tr>\n",
       "      <th>4</th>\n",
       "      <td>4</td>\n",
       "      <td>0</td>\n",
       "      <td>3</td>\n",
       "      <td>male</td>\n",
       "      <td>35.0</td>\n",
       "      <td>0</td>\n",
       "      <td>0</td>\n",
       "      <td>8.0500</td>\n",
       "      <td>S</td>\n",
       "      <td>Third</td>\n",
       "      <td>NaN</td>\n",
       "      <td>Southampton</td>\n",
       "      <td>1</td>\n",
       "    </tr>\n",
       "  </tbody>\n",
       "</table>\n",
       "</div>"
      ],
      "text/plain": [
       "   passenger_id  survived  pclass     sex   age  sibsp  parch     fare  \\\n",
       "0             0         0       3    male  22.0      1      0   7.2500   \n",
       "1             1         1       1  female  38.0      1      0  71.2833   \n",
       "2             2         1       3  female  26.0      0      0   7.9250   \n",
       "3             3         1       1  female  35.0      1      0  53.1000   \n",
       "4             4         0       3    male  35.0      0      0   8.0500   \n",
       "\n",
       "  embarked  class deck  embark_town  alone  \n",
       "0        S  Third  NaN  Southampton      0  \n",
       "1        C  First    C    Cherbourg      0  \n",
       "2        S  Third  NaN  Southampton      1  \n",
       "3        S  First    C  Southampton      0  \n",
       "4        S  Third  NaN  Southampton      1  "
      ]
     },
     "execution_count": 650,
     "metadata": {},
     "output_type": "execute_result"
    }
   ],
   "source": [
    "# view first few rows\n",
    "df.head()"
   ]
  },
  {
   "cell_type": "code",
   "execution_count": 651,
   "id": "c255e9b3",
   "metadata": {},
   "outputs": [],
   "source": [
    "df1 = prepare.prep_titanic(df)"
   ]
  },
  {
   "cell_type": "code",
   "execution_count": 652,
   "id": "10abe4ed",
   "metadata": {},
   "outputs": [
    {
     "data": {
      "text/html": [
       "<div>\n",
       "<style scoped>\n",
       "    .dataframe tbody tr th:only-of-type {\n",
       "        vertical-align: middle;\n",
       "    }\n",
       "\n",
       "    .dataframe tbody tr th {\n",
       "        vertical-align: top;\n",
       "    }\n",
       "\n",
       "    .dataframe thead th {\n",
       "        text-align: right;\n",
       "    }\n",
       "</style>\n",
       "<table border=\"1\" class=\"dataframe\">\n",
       "  <thead>\n",
       "    <tr style=\"text-align: right;\">\n",
       "      <th></th>\n",
       "      <th>survived</th>\n",
       "      <th>pclass</th>\n",
       "      <th>sibsp</th>\n",
       "      <th>parch</th>\n",
       "      <th>fare</th>\n",
       "      <th>alone</th>\n",
       "      <th>sex_male</th>\n",
       "      <th>embark_town_Queenstown</th>\n",
       "      <th>embark_town_Southampton</th>\n",
       "    </tr>\n",
       "  </thead>\n",
       "  <tbody>\n",
       "    <tr>\n",
       "      <th>0</th>\n",
       "      <td>0</td>\n",
       "      <td>3</td>\n",
       "      <td>1</td>\n",
       "      <td>0</td>\n",
       "      <td>7.2500</td>\n",
       "      <td>0</td>\n",
       "      <td>1</td>\n",
       "      <td>0</td>\n",
       "      <td>1</td>\n",
       "    </tr>\n",
       "    <tr>\n",
       "      <th>1</th>\n",
       "      <td>1</td>\n",
       "      <td>1</td>\n",
       "      <td>1</td>\n",
       "      <td>0</td>\n",
       "      <td>71.2833</td>\n",
       "      <td>0</td>\n",
       "      <td>0</td>\n",
       "      <td>0</td>\n",
       "      <td>0</td>\n",
       "    </tr>\n",
       "    <tr>\n",
       "      <th>2</th>\n",
       "      <td>1</td>\n",
       "      <td>3</td>\n",
       "      <td>0</td>\n",
       "      <td>0</td>\n",
       "      <td>7.9250</td>\n",
       "      <td>1</td>\n",
       "      <td>0</td>\n",
       "      <td>0</td>\n",
       "      <td>1</td>\n",
       "    </tr>\n",
       "    <tr>\n",
       "      <th>3</th>\n",
       "      <td>1</td>\n",
       "      <td>1</td>\n",
       "      <td>1</td>\n",
       "      <td>0</td>\n",
       "      <td>53.1000</td>\n",
       "      <td>0</td>\n",
       "      <td>0</td>\n",
       "      <td>0</td>\n",
       "      <td>1</td>\n",
       "    </tr>\n",
       "    <tr>\n",
       "      <th>4</th>\n",
       "      <td>0</td>\n",
       "      <td>3</td>\n",
       "      <td>0</td>\n",
       "      <td>0</td>\n",
       "      <td>8.0500</td>\n",
       "      <td>1</td>\n",
       "      <td>1</td>\n",
       "      <td>0</td>\n",
       "      <td>1</td>\n",
       "    </tr>\n",
       "    <tr>\n",
       "      <th>...</th>\n",
       "      <td>...</td>\n",
       "      <td>...</td>\n",
       "      <td>...</td>\n",
       "      <td>...</td>\n",
       "      <td>...</td>\n",
       "      <td>...</td>\n",
       "      <td>...</td>\n",
       "      <td>...</td>\n",
       "      <td>...</td>\n",
       "    </tr>\n",
       "    <tr>\n",
       "      <th>886</th>\n",
       "      <td>0</td>\n",
       "      <td>2</td>\n",
       "      <td>0</td>\n",
       "      <td>0</td>\n",
       "      <td>13.0000</td>\n",
       "      <td>1</td>\n",
       "      <td>1</td>\n",
       "      <td>0</td>\n",
       "      <td>1</td>\n",
       "    </tr>\n",
       "    <tr>\n",
       "      <th>887</th>\n",
       "      <td>1</td>\n",
       "      <td>1</td>\n",
       "      <td>0</td>\n",
       "      <td>0</td>\n",
       "      <td>30.0000</td>\n",
       "      <td>1</td>\n",
       "      <td>0</td>\n",
       "      <td>0</td>\n",
       "      <td>1</td>\n",
       "    </tr>\n",
       "    <tr>\n",
       "      <th>888</th>\n",
       "      <td>0</td>\n",
       "      <td>3</td>\n",
       "      <td>1</td>\n",
       "      <td>2</td>\n",
       "      <td>23.4500</td>\n",
       "      <td>0</td>\n",
       "      <td>0</td>\n",
       "      <td>0</td>\n",
       "      <td>1</td>\n",
       "    </tr>\n",
       "    <tr>\n",
       "      <th>889</th>\n",
       "      <td>1</td>\n",
       "      <td>1</td>\n",
       "      <td>0</td>\n",
       "      <td>0</td>\n",
       "      <td>30.0000</td>\n",
       "      <td>1</td>\n",
       "      <td>1</td>\n",
       "      <td>0</td>\n",
       "      <td>0</td>\n",
       "    </tr>\n",
       "    <tr>\n",
       "      <th>890</th>\n",
       "      <td>0</td>\n",
       "      <td>3</td>\n",
       "      <td>0</td>\n",
       "      <td>0</td>\n",
       "      <td>7.7500</td>\n",
       "      <td>1</td>\n",
       "      <td>1</td>\n",
       "      <td>1</td>\n",
       "      <td>0</td>\n",
       "    </tr>\n",
       "  </tbody>\n",
       "</table>\n",
       "<p>891 rows × 9 columns</p>\n",
       "</div>"
      ],
      "text/plain": [
       "     survived  pclass  sibsp  parch     fare  alone  sex_male  \\\n",
       "0           0       3      1      0   7.2500      0         1   \n",
       "1           1       1      1      0  71.2833      0         0   \n",
       "2           1       3      0      0   7.9250      1         0   \n",
       "3           1       1      1      0  53.1000      0         0   \n",
       "4           0       3      0      0   8.0500      1         1   \n",
       "..        ...     ...    ...    ...      ...    ...       ...   \n",
       "886         0       2      0      0  13.0000      1         1   \n",
       "887         1       1      0      0  30.0000      1         0   \n",
       "888         0       3      1      2  23.4500      0         0   \n",
       "889         1       1      0      0  30.0000      1         1   \n",
       "890         0       3      0      0   7.7500      1         1   \n",
       "\n",
       "     embark_town_Queenstown  embark_town_Southampton  \n",
       "0                         0                        1  \n",
       "1                         0                        0  \n",
       "2                         0                        1  \n",
       "3                         0                        1  \n",
       "4                         0                        1  \n",
       "..                      ...                      ...  \n",
       "886                       0                        1  \n",
       "887                       0                        1  \n",
       "888                       0                        1  \n",
       "889                       0                        0  \n",
       "890                       1                        0  \n",
       "\n",
       "[891 rows x 9 columns]"
      ]
     },
     "execution_count": 652,
     "metadata": {},
     "output_type": "execute_result"
    }
   ],
   "source": [
    "df1= df1.drop(columns = ['embarked', 'class',\"passenger_id\"])\n",
    "df1"
   ]
  },
  {
   "cell_type": "code",
   "execution_count": 653,
   "id": "ea06a0bf",
   "metadata": {},
   "outputs": [
    {
     "name": "stdout",
     "output_type": "stream",
     "text": [
      "(534, 9) (178, 9) (179, 9)\n",
      "                         count       mean        std  min     25%   50%  \\\n",
      "survived                 534.0   0.383895   0.486789  0.0  0.0000   0.0   \n",
      "pclass                   534.0   2.323970   0.822928  1.0  2.0000   3.0   \n",
      "sibsp                    534.0   0.514981   1.143856  0.0  0.0000   0.0   \n",
      "parch                    534.0   0.352060   0.759941  0.0  0.0000   0.0   \n",
      "fare                     534.0  31.058106  46.866121  0.0  7.8958  13.5   \n",
      "alone                    534.0   0.627341   0.483966  0.0  0.0000   1.0   \n",
      "sex_male                 534.0   0.651685   0.476883  0.0  0.0000   1.0   \n",
      "embark_town_Queenstown   534.0   0.086142   0.280837  0.0  0.0000   0.0   \n",
      "embark_town_Southampton  534.0   0.713483   0.452558  0.0  0.0000   1.0   \n",
      "\n",
      "                             75%       max  \n",
      "survived                  1.0000    1.0000  \n",
      "pclass                    3.0000    3.0000  \n",
      "sibsp                     1.0000    8.0000  \n",
      "parch                     0.0000    5.0000  \n",
      "fare                     30.0531  512.3292  \n",
      "alone                     1.0000    1.0000  \n",
      "sex_male                  1.0000    1.0000  \n",
      "embark_town_Queenstown    0.0000    1.0000  \n",
      "embark_town_Southampton   1.0000    1.0000  \n"
     ]
    }
   ],
   "source": [
    "titanic_train, titanic_validate, titanic_test = prepare.my_train_test_split(df1,\"survived\")\n",
    "print(titanic_train.shape, titanic_validate.shape, titanic_test.shape)\n",
    "print(titanic_train.describe().T)\n"
   ]
  },
  {
   "cell_type": "code",
   "execution_count": 654,
   "id": "d1c1cc0b",
   "metadata": {},
   "outputs": [
    {
     "data": {
      "text/html": [
       "<div>\n",
       "<style scoped>\n",
       "    .dataframe tbody tr th:only-of-type {\n",
       "        vertical-align: middle;\n",
       "    }\n",
       "\n",
       "    .dataframe tbody tr th {\n",
       "        vertical-align: top;\n",
       "    }\n",
       "\n",
       "    .dataframe thead th {\n",
       "        text-align: right;\n",
       "    }\n",
       "</style>\n",
       "<table border=\"1\" class=\"dataframe\">\n",
       "  <thead>\n",
       "    <tr style=\"text-align: right;\">\n",
       "      <th></th>\n",
       "      <th>survived</th>\n",
       "      <th>pclass</th>\n",
       "      <th>sibsp</th>\n",
       "      <th>parch</th>\n",
       "      <th>fare</th>\n",
       "      <th>alone</th>\n",
       "      <th>sex_male</th>\n",
       "      <th>embark_town_Queenstown</th>\n",
       "      <th>embark_town_Southampton</th>\n",
       "    </tr>\n",
       "  </thead>\n",
       "  <tbody>\n",
       "    <tr>\n",
       "      <th>count</th>\n",
       "      <td>534.000000</td>\n",
       "      <td>534.000000</td>\n",
       "      <td>534.000000</td>\n",
       "      <td>534.000000</td>\n",
       "      <td>534.000000</td>\n",
       "      <td>534.000000</td>\n",
       "      <td>534.000000</td>\n",
       "      <td>534.000000</td>\n",
       "      <td>534.000000</td>\n",
       "    </tr>\n",
       "    <tr>\n",
       "      <th>mean</th>\n",
       "      <td>0.383895</td>\n",
       "      <td>2.323970</td>\n",
       "      <td>0.514981</td>\n",
       "      <td>0.352060</td>\n",
       "      <td>31.058106</td>\n",
       "      <td>0.627341</td>\n",
       "      <td>0.651685</td>\n",
       "      <td>0.086142</td>\n",
       "      <td>0.713483</td>\n",
       "    </tr>\n",
       "    <tr>\n",
       "      <th>std</th>\n",
       "      <td>0.486789</td>\n",
       "      <td>0.822928</td>\n",
       "      <td>1.143856</td>\n",
       "      <td>0.759941</td>\n",
       "      <td>46.866121</td>\n",
       "      <td>0.483966</td>\n",
       "      <td>0.476883</td>\n",
       "      <td>0.280837</td>\n",
       "      <td>0.452558</td>\n",
       "    </tr>\n",
       "    <tr>\n",
       "      <th>min</th>\n",
       "      <td>0.000000</td>\n",
       "      <td>1.000000</td>\n",
       "      <td>0.000000</td>\n",
       "      <td>0.000000</td>\n",
       "      <td>0.000000</td>\n",
       "      <td>0.000000</td>\n",
       "      <td>0.000000</td>\n",
       "      <td>0.000000</td>\n",
       "      <td>0.000000</td>\n",
       "    </tr>\n",
       "    <tr>\n",
       "      <th>25%</th>\n",
       "      <td>0.000000</td>\n",
       "      <td>2.000000</td>\n",
       "      <td>0.000000</td>\n",
       "      <td>0.000000</td>\n",
       "      <td>7.895800</td>\n",
       "      <td>0.000000</td>\n",
       "      <td>0.000000</td>\n",
       "      <td>0.000000</td>\n",
       "      <td>0.000000</td>\n",
       "    </tr>\n",
       "    <tr>\n",
       "      <th>50%</th>\n",
       "      <td>0.000000</td>\n",
       "      <td>3.000000</td>\n",
       "      <td>0.000000</td>\n",
       "      <td>0.000000</td>\n",
       "      <td>13.500000</td>\n",
       "      <td>1.000000</td>\n",
       "      <td>1.000000</td>\n",
       "      <td>0.000000</td>\n",
       "      <td>1.000000</td>\n",
       "    </tr>\n",
       "    <tr>\n",
       "      <th>75%</th>\n",
       "      <td>1.000000</td>\n",
       "      <td>3.000000</td>\n",
       "      <td>1.000000</td>\n",
       "      <td>0.000000</td>\n",
       "      <td>30.053100</td>\n",
       "      <td>1.000000</td>\n",
       "      <td>1.000000</td>\n",
       "      <td>0.000000</td>\n",
       "      <td>1.000000</td>\n",
       "    </tr>\n",
       "    <tr>\n",
       "      <th>max</th>\n",
       "      <td>1.000000</td>\n",
       "      <td>3.000000</td>\n",
       "      <td>8.000000</td>\n",
       "      <td>5.000000</td>\n",
       "      <td>512.329200</td>\n",
       "      <td>1.000000</td>\n",
       "      <td>1.000000</td>\n",
       "      <td>1.000000</td>\n",
       "      <td>1.000000</td>\n",
       "    </tr>\n",
       "  </tbody>\n",
       "</table>\n",
       "</div>"
      ],
      "text/plain": [
       "         survived      pclass       sibsp       parch        fare       alone  \\\n",
       "count  534.000000  534.000000  534.000000  534.000000  534.000000  534.000000   \n",
       "mean     0.383895    2.323970    0.514981    0.352060   31.058106    0.627341   \n",
       "std      0.486789    0.822928    1.143856    0.759941   46.866121    0.483966   \n",
       "min      0.000000    1.000000    0.000000    0.000000    0.000000    0.000000   \n",
       "25%      0.000000    2.000000    0.000000    0.000000    7.895800    0.000000   \n",
       "50%      0.000000    3.000000    0.000000    0.000000   13.500000    1.000000   \n",
       "75%      1.000000    3.000000    1.000000    0.000000   30.053100    1.000000   \n",
       "max      1.000000    3.000000    8.000000    5.000000  512.329200    1.000000   \n",
       "\n",
       "         sex_male  embark_town_Queenstown  embark_town_Southampton  \n",
       "count  534.000000              534.000000               534.000000  \n",
       "mean     0.651685                0.086142                 0.713483  \n",
       "std      0.476883                0.280837                 0.452558  \n",
       "min      0.000000                0.000000                 0.000000  \n",
       "25%      0.000000                0.000000                 0.000000  \n",
       "50%      1.000000                0.000000                 1.000000  \n",
       "75%      1.000000                0.000000                 1.000000  \n",
       "max      1.000000                1.000000                 1.000000  "
      ]
     },
     "execution_count": 654,
     "metadata": {},
     "output_type": "execute_result"
    }
   ],
   "source": [
    "titanic_train.describe()"
   ]
  },
  {
   "cell_type": "code",
   "execution_count": 655,
   "id": "3985c32e",
   "metadata": {},
   "outputs": [
    {
     "data": {
      "text/plain": [
       "(Index(['survived', 'pclass', 'sibsp', 'parch', 'fare', 'alone', 'sex_male',\n",
       "        'embark_town_Queenstown', 'embark_town_Southampton'],\n",
       "       dtype='object'),\n",
       " Index(['survived', 'pclass', 'sibsp', 'parch', 'fare', 'alone', 'sex_male',\n",
       "        'embark_town_Queenstown', 'embark_town_Southampton'],\n",
       "       dtype='object'))"
      ]
     },
     "execution_count": 655,
     "metadata": {},
     "output_type": "execute_result"
    }
   ],
   "source": [
    "titanic_train.columns, titanic_validate.columns\n"
   ]
  },
  {
   "cell_type": "code",
   "execution_count": 656,
   "id": "d7a44a82",
   "metadata": {},
   "outputs": [],
   "source": [
    "# X is indepedent variables\n",
    "# y is target variable\n",
    "\n",
    "# x and y train\n",
    "X_titanic_train = titanic_train.drop(columns = 'survived')\n",
    "y_titanic_train = titanic_train.survived\n",
    "\n",
    "# x and y validate\n",
    "X_titanic_validate = titanic_validate.drop(columns = 'survived')\n",
    "y_titanic_validate = titanic_validate.survived\n",
    "\n",
    "# x and y test\n",
    "X_titanic_test = titanic_test.drop(columns = 'survived')\n",
    "y_titanic_test = titanic_test.survived"
   ]
  },
  {
   "cell_type": "code",
   "execution_count": 657,
   "id": "6604f4dc",
   "metadata": {},
   "outputs": [
    {
     "data": {
      "text/plain": [
       "0    329\n",
       "1    205\n",
       "Name: survived, dtype: int64"
      ]
     },
     "execution_count": 657,
     "metadata": {},
     "output_type": "execute_result"
    }
   ],
   "source": [
    "# y_train data\n",
    "y_titanic_train.value_counts()"
   ]
  },
  {
   "cell_type": "code",
   "execution_count": 658,
   "id": "1429cfcd",
   "metadata": {},
   "outputs": [
    {
     "name": "stdout",
     "output_type": "stream",
     "text": [
      "The survival baseline is: 0.6161048689138576\n"
     ]
    }
   ],
   "source": [
    "# create a baseline model\n",
    "titanic_baseline = (y_titanic_train == 0).mean()\n",
    "print('The survival baseline is:', titanic_baseline)"
   ]
  },
  {
   "cell_type": "code",
   "execution_count": 659,
   "id": "bdec0598",
   "metadata": {},
   "outputs": [],
   "source": [
    "# baseline model is the mode of target varible that did not survive.\n",
    "# baseline accuracy is the survival baseline of 61.61% "
   ]
  },
  {
   "cell_type": "markdown",
   "id": "9395cd98",
   "metadata": {},
   "source": [
    "### 2. Fit the decision tree classifier to your training sample and transform (i.e. make predictions on the training sample)\n",
    "\n"
   ]
  },
  {
   "cell_type": "code",
   "execution_count": 660,
   "id": "794e0448",
   "metadata": {},
   "outputs": [
    {
     "name": "stdout",
     "output_type": "stream",
     "text": [
      "training score: 79.21%\n",
      "validate score: 77.53%\n"
     ]
    }
   ],
   "source": [
    "# make the thing\n",
    "model1 = DecisionTreeClassifier(max_depth=1)\n",
    "# fit the thing\n",
    "model1.fit(X_titanic_train, y_titanic_train)\n",
    "# use the thing\n",
    "print(f'training score: {model1.score(X_titanic_train, y_titanic_train):.2%}')\n",
    "print(f'validate score: {model1.score(X_titanic_validate, y_titanic_validate):.2%}')"
   ]
  },
  {
   "cell_type": "code",
   "execution_count": 661,
   "id": "3fe539bc",
   "metadata": {},
   "outputs": [
    {
     "data": {
      "image/png": "[encoded data removed]",
      "text/plain": [
       "<Figure size 1440x720 with 1 Axes>"
      ]
     },
     "metadata": {
      "needs_background": "light"
     },
     "output_type": "display_data"
    }
   ],
   "source": [
    "import matplotlib.pyplot as plt\n",
    "plt.figure(figsize=(20,10))\n",
    "plot_tree(model1, feature_names=X_titanic_train.columns.to_list(), class_names=['perished', 'survived']);"
   ]
  },
  {
   "cell_type": "code",
   "execution_count": 662,
   "id": "cc4eb07a",
   "metadata": {},
   "outputs": [
    {
     "data": {
      "image/png": "[encoded data removed]",
      "text/plain": [
       "<Figure size 1152x648 with 1 Axes>"
      ]
     },
     "metadata": {
      "needs_background": "light"
     },
     "output_type": "display_data"
    }
   ],
   "source": [
    "plt.figure(figsize=(16, 9))\n",
    "plot_tree(\n",
    "    # what thing:\n",
    "          model1, \n",
    "    # what are the features called for the sake of the diagram?\n",
    "          feature_names=X_titanic_train.columns.tolist(), \n",
    "    # what are the classes called for the sake of the diagram?\n",
    "          class_names=['perished', 'survived'], \n",
    "    # fill the nodes with color!\n",
    "          filled=True, \n",
    "    # round the corners\n",
    "          rounded=True);\n",
    "# note the opacity associates with the gini impurity!"
   ]
  },
  {
   "cell_type": "code",
   "execution_count": 663,
   "id": "4de196f8",
   "metadata": {},
   "outputs": [],
   "source": [
    "# for classification you can change the algorithm to gini or entropy (information gain).  \n",
    "# Default is gini.\n",
    "\n",
    "clf = DecisionTreeClassifier(max_depth=1, random_state=123)\n"
   ]
  },
  {
   "cell_type": "code",
   "execution_count": 664,
   "id": "c100ce63",
   "metadata": {},
   "outputs": [],
   "source": [
    "# model1.fit(X, y)\n",
    "\n",
    "clf = clf.fit(X_titanic_train, y_titanic_train)\n"
   ]
  },
  {
   "cell_type": "code",
   "execution_count": 665,
   "id": "fd301c33",
   "metadata": {},
   "outputs": [
    {
     "data": {
      "text/plain": [
       "array([0, 1, 0, 0, 0])"
      ]
     },
     "execution_count": 665,
     "metadata": {},
     "output_type": "execute_result"
    }
   ],
   "source": [
    "# make prediction on train obeservations\n",
    "\n",
    "y_titanic_pred = clf.predict(X_titanic_train)\n",
    "y_titanic_pred[0:5]\n"
   ]
  },
  {
   "cell_type": "code",
   "execution_count": 666,
   "id": "d91eb80c",
   "metadata": {},
   "outputs": [
    {
     "name": "stdout",
     "output_type": "stream",
     "text": [
      "              precision    recall  f1-score   support\n",
      "\n",
      "           0       0.81      0.86      0.84       329\n",
      "           1       0.75      0.68      0.72       205\n",
      "\n",
      "    accuracy                           0.79       534\n",
      "   macro avg       0.78      0.77      0.78       534\n",
      "weighted avg       0.79      0.79      0.79       534\n",
      "\n"
     ]
    }
   ],
   "source": [
    "print(classification_report(y_titanic_train, y_titanic_pred))\n"
   ]
  },
  {
   "cell_type": "markdown",
   "id": "1efa2918",
   "metadata": {},
   "source": [
    "### 3. Evaluate your in-sample results using the model score, confusion matrix, and classification report."
   ]
  },
  {
   "cell_type": "code",
   "execution_count": 667,
   "id": "665da04b",
   "metadata": {},
   "outputs": [
    {
     "data": {
      "text/plain": [
       "0.7752808988764045"
      ]
     },
     "execution_count": 667,
     "metadata": {},
     "output_type": "execute_result"
    }
   ],
   "source": [
    "#model1 score\n",
    "model1.score(X_titanic_validate,y_titanic_validate)"
   ]
  },
  {
   "cell_type": "code",
   "execution_count": 668,
   "id": "ac9ab2ca",
   "metadata": {},
   "outputs": [
    {
     "name": "stdout",
     "output_type": "stream",
     "text": [
      "              precision    recall  f1-score   support\n",
      "\n",
      "           0       0.81      0.86      0.84       329\n",
      "           1       0.75      0.68      0.72       205\n",
      "\n",
      "    accuracy                           0.79       534\n",
      "   macro avg       0.78      0.77      0.78       534\n",
      "weighted avg       0.79      0.79      0.79       534\n",
      "\n"
     ]
    }
   ],
   "source": [
    "#classification report\n",
    "print(classification_report(y_titanic_train, y_titanic_pred))"
   ]
  },
  {
   "cell_type": "markdown",
   "id": "7f100ccc",
   "metadata": {},
   "source": [
    "### 4. Compute: Accuracy, true positive rate, false positive rate, true negative rate, false negative rate, precision, recall, f1-score, and support."
   ]
  },
  {
   "cell_type": "code",
   "execution_count": 669,
   "id": "b09a173d",
   "metadata": {},
   "outputs": [
    {
     "data": {
      "text/plain": [
       "array([[283,  46],\n",
       "       [ 65, 140]])"
      ]
     },
     "execution_count": 669,
     "metadata": {},
     "output_type": "execute_result"
    }
   ],
   "source": [
    "# confusion matrix\n",
    "\n",
    "sklearn.metrics.confusion_matrix(y_titanic_train, y_titanic_pred)\n"
   ]
  },
  {
   "cell_type": "code",
   "execution_count": 670,
   "id": "b4454878",
   "metadata": {},
   "outputs": [
    {
     "data": {
      "text/plain": [
       "0    329\n",
       "1    205\n",
       "Name: survived, dtype: int64"
      ]
     },
     "execution_count": 670,
     "metadata": {},
     "output_type": "execute_result"
    }
   ],
   "source": [
    "y_titanic_train.value_counts()\n"
   ]
  },
  {
   "cell_type": "code",
   "execution_count": 671,
   "id": "31a28cb8",
   "metadata": {},
   "outputs": [
    {
     "data": {
      "text/html": [
       "<div>\n",
       "<style scoped>\n",
       "    .dataframe tbody tr th:only-of-type {\n",
       "        vertical-align: middle;\n",
       "    }\n",
       "\n",
       "    .dataframe tbody tr th {\n",
       "        vertical-align: top;\n",
       "    }\n",
       "\n",
       "    .dataframe thead th {\n",
       "        text-align: right;\n",
       "    }\n",
       "</style>\n",
       "<table border=\"1\" class=\"dataframe\">\n",
       "  <thead>\n",
       "    <tr style=\"text-align: right;\">\n",
       "      <th></th>\n",
       "      <th>0</th>\n",
       "      <th>1</th>\n",
       "    </tr>\n",
       "  </thead>\n",
       "  <tbody>\n",
       "    <tr>\n",
       "      <th>0</th>\n",
       "      <td>283</td>\n",
       "      <td>46</td>\n",
       "    </tr>\n",
       "    <tr>\n",
       "      <th>1</th>\n",
       "      <td>65</td>\n",
       "      <td>140</td>\n",
       "    </tr>\n",
       "  </tbody>\n",
       "</table>\n",
       "</div>"
      ],
      "text/plain": [
       "     0    1\n",
       "0  283   46\n",
       "1   65  140"
      ]
     },
     "execution_count": 671,
     "metadata": {},
     "output_type": "execute_result"
    }
   ],
   "source": [
    "import pandas as pd\n",
    "\n",
    "labels = sorted(y_titanic_train.unique())\n",
    "\n",
    "df1_confused = pd.DataFrame(sklearn.metrics.confusion_matrix(y_titanic_train, y_titanic_pred), index=labels, columns=labels)\n",
    "df1_confused\n"
   ]
  },
  {
   "cell_type": "markdown",
   "id": "c1955add",
   "metadata": {},
   "source": [
    "### 5.Run through steps 2-4 using a different max_depth value.\n",
    "\n"
   ]
  },
  {
   "cell_type": "code",
   "execution_count": 672,
   "id": "ea220445",
   "metadata": {},
   "outputs": [
    {
     "name": "stdout",
     "output_type": "stream",
     "text": [
      "training score: 81.84%\n",
      "validate score: 79.21%\n"
     ]
    }
   ],
   "source": [
    "#model2\n",
    "# make the thing\n",
    "model2 = DecisionTreeClassifier(max_depth=3)\n",
    "# fit the thing\n",
    "model2.fit(X_titanic_train, y_titanic_train)\n",
    "# use the thing\n",
    "print(f'training score: {model2.score(X_titanic_train, y_titanic_train):.2%}')\n",
    "print(f'validate score: {model2.score(X_titanic_validate, y_titanic_validate):.2%}')"
   ]
  },
  {
   "cell_type": "code",
   "execution_count": 673,
   "id": "00e45ac8",
   "metadata": {},
   "outputs": [],
   "source": [
    "# model2.fit(X, y)\n",
    "\n",
    "clf = clf.fit(X_titanic_train, y_titanic_train)\n"
   ]
  },
  {
   "cell_type": "code",
   "execution_count": 674,
   "id": "ea41727e",
   "metadata": {},
   "outputs": [
    {
     "data": {
      "text/plain": [
       "array([0, 1, 0, 0, 0])"
      ]
     },
     "execution_count": 674,
     "metadata": {},
     "output_type": "execute_result"
    }
   ],
   "source": [
    "# make prediction on train obeservations\n",
    "\n",
    "y_titanic_pred = clf.predict(X_titanic_train)\n",
    "y_titanic_pred[0:5]\n"
   ]
  },
  {
   "cell_type": "code",
   "execution_count": 675,
   "id": "9c59fe43",
   "metadata": {},
   "outputs": [
    {
     "name": "stdout",
     "output_type": "stream",
     "text": [
      "              precision    recall  f1-score   support\n",
      "\n",
      "           0       0.81      0.86      0.84       329\n",
      "           1       0.75      0.68      0.72       205\n",
      "\n",
      "    accuracy                           0.79       534\n",
      "   macro avg       0.78      0.77      0.78       534\n",
      "weighted avg       0.79      0.79      0.79       534\n",
      "\n"
     ]
    }
   ],
   "source": [
    "print(classification_report(y_titanic_train, y_titanic_pred))\n"
   ]
  },
  {
   "cell_type": "code",
   "execution_count": 676,
   "id": "5ae5b46c",
   "metadata": {},
   "outputs": [
    {
     "data": {
      "image/png": "[encoded data removed]",
      "text/plain": [
       "<Figure size 1440x720 with 1 Axes>"
      ]
     },
     "metadata": {
      "needs_background": "light"
     },
     "output_type": "display_data"
    }
   ],
   "source": [
    "import matplotlib.pyplot as plt\n",
    "plt.figure(figsize=(20,10))\n",
    "plot_tree(model2, feature_names=X_titanic_train.columns.to_list(), class_names=['perished', 'survived']);"
   ]
  },
  {
   "cell_type": "code",
   "execution_count": 677,
   "id": "a8e48f79",
   "metadata": {},
   "outputs": [],
   "source": [
    "# model2.fit(X, y)\n",
    "\n",
    "clf = clf.fit(X_titanic_train, y_titanic_train)\n"
   ]
  },
  {
   "cell_type": "code",
   "execution_count": 678,
   "id": "f9f07b7f",
   "metadata": {},
   "outputs": [
    {
     "data": {
      "text/plain": [
       "array([0, 1, 0, 0, 0])"
      ]
     },
     "execution_count": 678,
     "metadata": {},
     "output_type": "execute_result"
    }
   ],
   "source": [
    "# make prediction on train obeservations\n",
    "\n",
    "y_titanic_pred = clf.predict(X_titanic_train)\n",
    "y_titanic_pred[0:5]\n"
   ]
  },
  {
   "cell_type": "code",
   "execution_count": 679,
   "id": "8735f036",
   "metadata": {},
   "outputs": [
    {
     "name": "stdout",
     "output_type": "stream",
     "text": [
      "              precision    recall  f1-score   support\n",
      "\n",
      "           0       0.81      0.86      0.84       329\n",
      "           1       0.75      0.68      0.72       205\n",
      "\n",
      "    accuracy                           0.79       534\n",
      "   macro avg       0.78      0.77      0.78       534\n",
      "weighted avg       0.79      0.79      0.79       534\n",
      "\n"
     ]
    }
   ],
   "source": [
    "#classification report\n",
    "print(classification_report(y_titanic_train, y_titanic_pred))\n"
   ]
  },
  {
   "cell_type": "code",
   "execution_count": 680,
   "id": "45f19203",
   "metadata": {},
   "outputs": [
    {
     "data": {
      "text/plain": [
       "0.7921348314606742"
      ]
     },
     "execution_count": 680,
     "metadata": {},
     "output_type": "execute_result"
    }
   ],
   "source": [
    "#model2 score\n",
    "model2.score(X_titanic_validate,y_titanic_validate)"
   ]
  },
  {
   "cell_type": "code",
   "execution_count": 681,
   "id": "1aa3fed1",
   "metadata": {},
   "outputs": [
    {
     "data": {
      "text/plain": [
       "array([[283,  46],\n",
       "       [ 65, 140]])"
      ]
     },
     "execution_count": 681,
     "metadata": {},
     "output_type": "execute_result"
    }
   ],
   "source": [
    "# confusion matrix\n",
    "\n",
    "sklearn.metrics.confusion_matrix(y_titanic_train, y_titanic_pred)\n"
   ]
  },
  {
   "cell_type": "code",
   "execution_count": 682,
   "id": "601ee873",
   "metadata": {},
   "outputs": [
    {
     "data": {
      "text/plain": [
       "0    329\n",
       "1    205\n",
       "Name: survived, dtype: int64"
      ]
     },
     "execution_count": 682,
     "metadata": {},
     "output_type": "execute_result"
    }
   ],
   "source": [
    "y_titanic_train.value_counts()\n"
   ]
  },
  {
   "cell_type": "markdown",
   "id": "d5b380de",
   "metadata": {},
   "source": [
    "### 6. Which model performs better on your in-sample data?"
   ]
  },
  {
   "cell_type": "code",
   "execution_count": 683,
   "id": "9447014a",
   "metadata": {},
   "outputs": [
    {
     "data": {
      "text/plain": [
       "0.7921348314606742"
      ]
     },
     "execution_count": 683,
     "metadata": {},
     "output_type": "execute_result"
    }
   ],
   "source": [
    "# make a new column in y_preds\n",
    "y_titanic_pred = clf.predict(X_titanic_train)\n",
    "clf.score(X_titanic_train, y_titanic_train)"
   ]
  },
  {
   "cell_type": "code",
   "execution_count": 684,
   "id": "a09b7992",
   "metadata": {},
   "outputs": [],
   "source": [
    "# loop it!\n",
    "models = []\n",
    "model_scores = []\n",
    "for i in range(2,8):\n",
    "    model = DecisionTreeClassifier(max_depth=i)\n",
    "    model.fit(X_titanic_train, y_titanic_train)\n",
    "    models.append(model)\n",
    "    model_scores.append(model.score(X_titanic_train, y_titanic_train))"
   ]
  },
  {
   "cell_type": "code",
   "execution_count": 685,
   "id": "84d25615",
   "metadata": {},
   "outputs": [
    {
     "data": {
      "text/plain": [
       "6"
      ]
     },
     "execution_count": 685,
     "metadata": {},
     "output_type": "execute_result"
    }
   ],
   "source": [
    "len(models)"
   ]
  },
  {
   "cell_type": "code",
   "execution_count": 687,
   "id": "c26b5e0e",
   "metadata": {},
   "outputs": [],
   "source": [
    "# depth 1 and depth 3 accuracy,  is the same at 79%\n"
   ]
  },
  {
   "cell_type": "markdown",
   "id": "a9b1a2c0",
   "metadata": {},
   "source": [
    "## TELCO DATASET "
   ]
  },
  {
   "cell_type": "markdown",
   "id": "b183401e",
   "metadata": {},
   "source": [
    "### Exercise continuation"
   ]
  },
  {
   "cell_type": "markdown",
   "id": "770c492a",
   "metadata": {},
   "source": [
    "### 1. Work through these same exercises using the Telco dataset.\n",
    "### 2. Experiment with this model on other datasets with a higher number of output classes."
   ]
  },
  {
   "cell_type": "code",
   "execution_count": 688,
   "id": "02ead00e",
   "metadata": {},
   "outputs": [],
   "source": [
    "##### incomplete/ WIP #######"
   ]
  },
  {
   "cell_type": "code",
   "execution_count": null,
   "id": "9b730e2a",
   "metadata": {},
   "outputs": [],
   "source": []
  },
  {
   "cell_type": "code",
   "execution_count": 689,
   "id": "2f864de3",
   "metadata": {},
   "outputs": [],
   "source": [
    "# get telco data\n",
    "df = acquire.get_telco_data()\n"
   ]
  },
  {
   "cell_type": "code",
   "execution_count": 690,
   "id": "75aa95b0",
   "metadata": {},
   "outputs": [
    {
     "data": {
      "text/html": [
       "<div>\n",
       "<style scoped>\n",
       "    .dataframe tbody tr th:only-of-type {\n",
       "        vertical-align: middle;\n",
       "    }\n",
       "\n",
       "    .dataframe tbody tr th {\n",
       "        vertical-align: top;\n",
       "    }\n",
       "\n",
       "    .dataframe thead th {\n",
       "        text-align: right;\n",
       "    }\n",
       "</style>\n",
       "<table border=\"1\" class=\"dataframe\">\n",
       "  <thead>\n",
       "    <tr style=\"text-align: right;\">\n",
       "      <th></th>\n",
       "      <th>payment_type_id</th>\n",
       "      <th>internet_service_type_id</th>\n",
       "      <th>contract_type_id</th>\n",
       "      <th>customer_id</th>\n",
       "      <th>gender</th>\n",
       "      <th>senior_citizen</th>\n",
       "      <th>partner</th>\n",
       "      <th>dependents</th>\n",
       "      <th>tenure</th>\n",
       "      <th>phone_service</th>\n",
       "      <th>...</th>\n",
       "      <th>tech_support</th>\n",
       "      <th>streaming_tv</th>\n",
       "      <th>streaming_movies</th>\n",
       "      <th>paperless_billing</th>\n",
       "      <th>monthly_charges</th>\n",
       "      <th>total_charges</th>\n",
       "      <th>churn</th>\n",
       "      <th>contract_type</th>\n",
       "      <th>internet_service_type</th>\n",
       "      <th>payment_type</th>\n",
       "    </tr>\n",
       "  </thead>\n",
       "  <tbody>\n",
       "    <tr>\n",
       "      <th>0</th>\n",
       "      <td>2</td>\n",
       "      <td>1</td>\n",
       "      <td>2</td>\n",
       "      <td>0002-ORFBO</td>\n",
       "      <td>Female</td>\n",
       "      <td>0</td>\n",
       "      <td>Yes</td>\n",
       "      <td>Yes</td>\n",
       "      <td>9</td>\n",
       "      <td>Yes</td>\n",
       "      <td>...</td>\n",
       "      <td>Yes</td>\n",
       "      <td>Yes</td>\n",
       "      <td>No</td>\n",
       "      <td>Yes</td>\n",
       "      <td>65.6</td>\n",
       "      <td>593.3</td>\n",
       "      <td>No</td>\n",
       "      <td>One year</td>\n",
       "      <td>DSL</td>\n",
       "      <td>Mailed check</td>\n",
       "    </tr>\n",
       "    <tr>\n",
       "      <th>1</th>\n",
       "      <td>2</td>\n",
       "      <td>1</td>\n",
       "      <td>1</td>\n",
       "      <td>0003-MKNFE</td>\n",
       "      <td>Male</td>\n",
       "      <td>0</td>\n",
       "      <td>No</td>\n",
       "      <td>No</td>\n",
       "      <td>9</td>\n",
       "      <td>Yes</td>\n",
       "      <td>...</td>\n",
       "      <td>No</td>\n",
       "      <td>No</td>\n",
       "      <td>Yes</td>\n",
       "      <td>No</td>\n",
       "      <td>59.9</td>\n",
       "      <td>542.4</td>\n",
       "      <td>No</td>\n",
       "      <td>Month-to-month</td>\n",
       "      <td>DSL</td>\n",
       "      <td>Mailed check</td>\n",
       "    </tr>\n",
       "    <tr>\n",
       "      <th>2</th>\n",
       "      <td>1</td>\n",
       "      <td>2</td>\n",
       "      <td>1</td>\n",
       "      <td>0004-TLHLJ</td>\n",
       "      <td>Male</td>\n",
       "      <td>0</td>\n",
       "      <td>No</td>\n",
       "      <td>No</td>\n",
       "      <td>4</td>\n",
       "      <td>Yes</td>\n",
       "      <td>...</td>\n",
       "      <td>No</td>\n",
       "      <td>No</td>\n",
       "      <td>No</td>\n",
       "      <td>Yes</td>\n",
       "      <td>73.9</td>\n",
       "      <td>280.85</td>\n",
       "      <td>Yes</td>\n",
       "      <td>Month-to-month</td>\n",
       "      <td>Fiber optic</td>\n",
       "      <td>Electronic check</td>\n",
       "    </tr>\n",
       "    <tr>\n",
       "      <th>3</th>\n",
       "      <td>1</td>\n",
       "      <td>2</td>\n",
       "      <td>1</td>\n",
       "      <td>0011-IGKFF</td>\n",
       "      <td>Male</td>\n",
       "      <td>1</td>\n",
       "      <td>Yes</td>\n",
       "      <td>No</td>\n",
       "      <td>13</td>\n",
       "      <td>Yes</td>\n",
       "      <td>...</td>\n",
       "      <td>No</td>\n",
       "      <td>Yes</td>\n",
       "      <td>Yes</td>\n",
       "      <td>Yes</td>\n",
       "      <td>98.0</td>\n",
       "      <td>1237.85</td>\n",
       "      <td>Yes</td>\n",
       "      <td>Month-to-month</td>\n",
       "      <td>Fiber optic</td>\n",
       "      <td>Electronic check</td>\n",
       "    </tr>\n",
       "    <tr>\n",
       "      <th>4</th>\n",
       "      <td>2</td>\n",
       "      <td>2</td>\n",
       "      <td>1</td>\n",
       "      <td>0013-EXCHZ</td>\n",
       "      <td>Female</td>\n",
       "      <td>1</td>\n",
       "      <td>Yes</td>\n",
       "      <td>No</td>\n",
       "      <td>3</td>\n",
       "      <td>Yes</td>\n",
       "      <td>...</td>\n",
       "      <td>Yes</td>\n",
       "      <td>Yes</td>\n",
       "      <td>No</td>\n",
       "      <td>Yes</td>\n",
       "      <td>83.9</td>\n",
       "      <td>267.4</td>\n",
       "      <td>Yes</td>\n",
       "      <td>Month-to-month</td>\n",
       "      <td>Fiber optic</td>\n",
       "      <td>Mailed check</td>\n",
       "    </tr>\n",
       "  </tbody>\n",
       "</table>\n",
       "<p>5 rows × 24 columns</p>\n",
       "</div>"
      ],
      "text/plain": [
       "   payment_type_id  internet_service_type_id  contract_type_id customer_id  \\\n",
       "0                2                         1                 2  0002-ORFBO   \n",
       "1                2                         1                 1  0003-MKNFE   \n",
       "2                1                         2                 1  0004-TLHLJ   \n",
       "3                1                         2                 1  0011-IGKFF   \n",
       "4                2                         2                 1  0013-EXCHZ   \n",
       "\n",
       "   gender  senior_citizen partner dependents  tenure phone_service  ...  \\\n",
       "0  Female               0     Yes        Yes       9           Yes  ...   \n",
       "1    Male               0      No         No       9           Yes  ...   \n",
       "2    Male               0      No         No       4           Yes  ...   \n",
       "3    Male               1     Yes         No      13           Yes  ...   \n",
       "4  Female               1     Yes         No       3           Yes  ...   \n",
       "\n",
       "  tech_support streaming_tv streaming_movies paperless_billing  \\\n",
       "0          Yes          Yes               No               Yes   \n",
       "1           No           No              Yes                No   \n",
       "2           No           No               No               Yes   \n",
       "3           No          Yes              Yes               Yes   \n",
       "4          Yes          Yes               No               Yes   \n",
       "\n",
       "  monthly_charges total_charges churn   contract_type  internet_service_type  \\\n",
       "0            65.6         593.3    No        One year                    DSL   \n",
       "1            59.9         542.4    No  Month-to-month                    DSL   \n",
       "2            73.9        280.85   Yes  Month-to-month            Fiber optic   \n",
       "3            98.0       1237.85   Yes  Month-to-month            Fiber optic   \n",
       "4            83.9         267.4   Yes  Month-to-month            Fiber optic   \n",
       "\n",
       "       payment_type  \n",
       "0      Mailed check  \n",
       "1      Mailed check  \n",
       "2  Electronic check  \n",
       "3  Electronic check  \n",
       "4      Mailed check  \n",
       "\n",
       "[5 rows x 24 columns]"
      ]
     },
     "execution_count": 690,
     "metadata": {},
     "output_type": "execute_result"
    }
   ],
   "source": [
    "# view first few rows\n",
    "df.head()"
   ]
  },
  {
   "cell_type": "code",
   "execution_count": 691,
   "id": "bf2ba169",
   "metadata": {},
   "outputs": [],
   "source": [
    "df1 = prepare.prep_telco(df)"
   ]
  },
  {
   "cell_type": "code",
   "execution_count": 692,
   "id": "2d885620",
   "metadata": {},
   "outputs": [
    {
     "data": {
      "text/html": [
       "<div>\n",
       "<style scoped>\n",
       "    .dataframe tbody tr th:only-of-type {\n",
       "        vertical-align: middle;\n",
       "    }\n",
       "\n",
       "    .dataframe tbody tr th {\n",
       "        vertical-align: top;\n",
       "    }\n",
       "\n",
       "    .dataframe thead th {\n",
       "        text-align: right;\n",
       "    }\n",
       "</style>\n",
       "<table border=\"1\" class=\"dataframe\">\n",
       "  <thead>\n",
       "    <tr style=\"text-align: right;\">\n",
       "      <th></th>\n",
       "      <th>gender</th>\n",
       "      <th>senior_citizen</th>\n",
       "      <th>partner</th>\n",
       "      <th>dependents</th>\n",
       "      <th>tenure</th>\n",
       "      <th>phone_service</th>\n",
       "      <th>multiple_lines</th>\n",
       "      <th>online_security</th>\n",
       "      <th>online_backup</th>\n",
       "      <th>device_protection</th>\n",
       "      <th>...</th>\n",
       "      <th>streaming_tv_Yes</th>\n",
       "      <th>streaming_movies_No internet service</th>\n",
       "      <th>streaming_movies_Yes</th>\n",
       "      <th>contract_type_One year</th>\n",
       "      <th>contract_type_Two year</th>\n",
       "      <th>internet_service_type_Fiber optic</th>\n",
       "      <th>internet_service_type_None</th>\n",
       "      <th>payment_type_Credit card (automatic)</th>\n",
       "      <th>payment_type_Electronic check</th>\n",
       "      <th>payment_type_Mailed check</th>\n",
       "    </tr>\n",
       "  </thead>\n",
       "  <tbody>\n",
       "    <tr>\n",
       "      <th>0</th>\n",
       "      <td>Female</td>\n",
       "      <td>0</td>\n",
       "      <td>Yes</td>\n",
       "      <td>Yes</td>\n",
       "      <td>9</td>\n",
       "      <td>Yes</td>\n",
       "      <td>No</td>\n",
       "      <td>No</td>\n",
       "      <td>Yes</td>\n",
       "      <td>No</td>\n",
       "      <td>...</td>\n",
       "      <td>1</td>\n",
       "      <td>0</td>\n",
       "      <td>0</td>\n",
       "      <td>1</td>\n",
       "      <td>0</td>\n",
       "      <td>0</td>\n",
       "      <td>0</td>\n",
       "      <td>0</td>\n",
       "      <td>0</td>\n",
       "      <td>1</td>\n",
       "    </tr>\n",
       "    <tr>\n",
       "      <th>1</th>\n",
       "      <td>Male</td>\n",
       "      <td>0</td>\n",
       "      <td>No</td>\n",
       "      <td>No</td>\n",
       "      <td>9</td>\n",
       "      <td>Yes</td>\n",
       "      <td>Yes</td>\n",
       "      <td>No</td>\n",
       "      <td>No</td>\n",
       "      <td>No</td>\n",
       "      <td>...</td>\n",
       "      <td>0</td>\n",
       "      <td>0</td>\n",
       "      <td>1</td>\n",
       "      <td>0</td>\n",
       "      <td>0</td>\n",
       "      <td>0</td>\n",
       "      <td>0</td>\n",
       "      <td>0</td>\n",
       "      <td>0</td>\n",
       "      <td>1</td>\n",
       "    </tr>\n",
       "    <tr>\n",
       "      <th>2</th>\n",
       "      <td>Male</td>\n",
       "      <td>0</td>\n",
       "      <td>No</td>\n",
       "      <td>No</td>\n",
       "      <td>4</td>\n",
       "      <td>Yes</td>\n",
       "      <td>No</td>\n",
       "      <td>No</td>\n",
       "      <td>No</td>\n",
       "      <td>Yes</td>\n",
       "      <td>...</td>\n",
       "      <td>0</td>\n",
       "      <td>0</td>\n",
       "      <td>0</td>\n",
       "      <td>0</td>\n",
       "      <td>0</td>\n",
       "      <td>1</td>\n",
       "      <td>0</td>\n",
       "      <td>0</td>\n",
       "      <td>1</td>\n",
       "      <td>0</td>\n",
       "    </tr>\n",
       "    <tr>\n",
       "      <th>3</th>\n",
       "      <td>Male</td>\n",
       "      <td>1</td>\n",
       "      <td>Yes</td>\n",
       "      <td>No</td>\n",
       "      <td>13</td>\n",
       "      <td>Yes</td>\n",
       "      <td>No</td>\n",
       "      <td>No</td>\n",
       "      <td>Yes</td>\n",
       "      <td>Yes</td>\n",
       "      <td>...</td>\n",
       "      <td>1</td>\n",
       "      <td>0</td>\n",
       "      <td>1</td>\n",
       "      <td>0</td>\n",
       "      <td>0</td>\n",
       "      <td>1</td>\n",
       "      <td>0</td>\n",
       "      <td>0</td>\n",
       "      <td>1</td>\n",
       "      <td>0</td>\n",
       "    </tr>\n",
       "    <tr>\n",
       "      <th>4</th>\n",
       "      <td>Female</td>\n",
       "      <td>1</td>\n",
       "      <td>Yes</td>\n",
       "      <td>No</td>\n",
       "      <td>3</td>\n",
       "      <td>Yes</td>\n",
       "      <td>No</td>\n",
       "      <td>No</td>\n",
       "      <td>No</td>\n",
       "      <td>No</td>\n",
       "      <td>...</td>\n",
       "      <td>1</td>\n",
       "      <td>0</td>\n",
       "      <td>0</td>\n",
       "      <td>0</td>\n",
       "      <td>0</td>\n",
       "      <td>1</td>\n",
       "      <td>0</td>\n",
       "      <td>0</td>\n",
       "      <td>0</td>\n",
       "      <td>1</td>\n",
       "    </tr>\n",
       "    <tr>\n",
       "      <th>...</th>\n",
       "      <td>...</td>\n",
       "      <td>...</td>\n",
       "      <td>...</td>\n",
       "      <td>...</td>\n",
       "      <td>...</td>\n",
       "      <td>...</td>\n",
       "      <td>...</td>\n",
       "      <td>...</td>\n",
       "      <td>...</td>\n",
       "      <td>...</td>\n",
       "      <td>...</td>\n",
       "      <td>...</td>\n",
       "      <td>...</td>\n",
       "      <td>...</td>\n",
       "      <td>...</td>\n",
       "      <td>...</td>\n",
       "      <td>...</td>\n",
       "      <td>...</td>\n",
       "      <td>...</td>\n",
       "      <td>...</td>\n",
       "      <td>...</td>\n",
       "    </tr>\n",
       "    <tr>\n",
       "      <th>7038</th>\n",
       "      <td>Female</td>\n",
       "      <td>0</td>\n",
       "      <td>No</td>\n",
       "      <td>No</td>\n",
       "      <td>13</td>\n",
       "      <td>Yes</td>\n",
       "      <td>No</td>\n",
       "      <td>Yes</td>\n",
       "      <td>No</td>\n",
       "      <td>No</td>\n",
       "      <td>...</td>\n",
       "      <td>0</td>\n",
       "      <td>0</td>\n",
       "      <td>0</td>\n",
       "      <td>1</td>\n",
       "      <td>0</td>\n",
       "      <td>0</td>\n",
       "      <td>0</td>\n",
       "      <td>0</td>\n",
       "      <td>0</td>\n",
       "      <td>1</td>\n",
       "    </tr>\n",
       "    <tr>\n",
       "      <th>7039</th>\n",
       "      <td>Male</td>\n",
       "      <td>0</td>\n",
       "      <td>Yes</td>\n",
       "      <td>No</td>\n",
       "      <td>22</td>\n",
       "      <td>Yes</td>\n",
       "      <td>Yes</td>\n",
       "      <td>No</td>\n",
       "      <td>No</td>\n",
       "      <td>No</td>\n",
       "      <td>...</td>\n",
       "      <td>0</td>\n",
       "      <td>0</td>\n",
       "      <td>1</td>\n",
       "      <td>0</td>\n",
       "      <td>0</td>\n",
       "      <td>1</td>\n",
       "      <td>0</td>\n",
       "      <td>0</td>\n",
       "      <td>1</td>\n",
       "      <td>0</td>\n",
       "    </tr>\n",
       "    <tr>\n",
       "      <th>7040</th>\n",
       "      <td>Male</td>\n",
       "      <td>0</td>\n",
       "      <td>No</td>\n",
       "      <td>No</td>\n",
       "      <td>2</td>\n",
       "      <td>Yes</td>\n",
       "      <td>No</td>\n",
       "      <td>No</td>\n",
       "      <td>Yes</td>\n",
       "      <td>No</td>\n",
       "      <td>...</td>\n",
       "      <td>0</td>\n",
       "      <td>0</td>\n",
       "      <td>0</td>\n",
       "      <td>0</td>\n",
       "      <td>0</td>\n",
       "      <td>0</td>\n",
       "      <td>0</td>\n",
       "      <td>0</td>\n",
       "      <td>0</td>\n",
       "      <td>1</td>\n",
       "    </tr>\n",
       "    <tr>\n",
       "      <th>7041</th>\n",
       "      <td>Male</td>\n",
       "      <td>0</td>\n",
       "      <td>Yes</td>\n",
       "      <td>Yes</td>\n",
       "      <td>67</td>\n",
       "      <td>Yes</td>\n",
       "      <td>No</td>\n",
       "      <td>Yes</td>\n",
       "      <td>No</td>\n",
       "      <td>Yes</td>\n",
       "      <td>...</td>\n",
       "      <td>0</td>\n",
       "      <td>0</td>\n",
       "      <td>1</td>\n",
       "      <td>0</td>\n",
       "      <td>1</td>\n",
       "      <td>0</td>\n",
       "      <td>0</td>\n",
       "      <td>0</td>\n",
       "      <td>0</td>\n",
       "      <td>1</td>\n",
       "    </tr>\n",
       "    <tr>\n",
       "      <th>7042</th>\n",
       "      <td>Male</td>\n",
       "      <td>0</td>\n",
       "      <td>Yes</td>\n",
       "      <td>Yes</td>\n",
       "      <td>63</td>\n",
       "      <td>No</td>\n",
       "      <td>No phone service</td>\n",
       "      <td>Yes</td>\n",
       "      <td>Yes</td>\n",
       "      <td>Yes</td>\n",
       "      <td>...</td>\n",
       "      <td>1</td>\n",
       "      <td>0</td>\n",
       "      <td>1</td>\n",
       "      <td>0</td>\n",
       "      <td>1</td>\n",
       "      <td>0</td>\n",
       "      <td>0</td>\n",
       "      <td>0</td>\n",
       "      <td>1</td>\n",
       "      <td>0</td>\n",
       "    </tr>\n",
       "  </tbody>\n",
       "</table>\n",
       "<p>7043 rows × 47 columns</p>\n",
       "</div>"
      ],
      "text/plain": [
       "      gender  senior_citizen partner dependents  tenure phone_service  \\\n",
       "0     Female               0     Yes        Yes       9           Yes   \n",
       "1       Male               0      No         No       9           Yes   \n",
       "2       Male               0      No         No       4           Yes   \n",
       "3       Male               1     Yes         No      13           Yes   \n",
       "4     Female               1     Yes         No       3           Yes   \n",
       "...      ...             ...     ...        ...     ...           ...   \n",
       "7038  Female               0      No         No      13           Yes   \n",
       "7039    Male               0     Yes         No      22           Yes   \n",
       "7040    Male               0      No         No       2           Yes   \n",
       "7041    Male               0     Yes        Yes      67           Yes   \n",
       "7042    Male               0     Yes        Yes      63            No   \n",
       "\n",
       "        multiple_lines online_security online_backup device_protection  ...  \\\n",
       "0                   No              No           Yes                No  ...   \n",
       "1                  Yes              No            No                No  ...   \n",
       "2                   No              No            No               Yes  ...   \n",
       "3                   No              No           Yes               Yes  ...   \n",
       "4                   No              No            No                No  ...   \n",
       "...                ...             ...           ...               ...  ...   \n",
       "7038                No             Yes            No                No  ...   \n",
       "7039               Yes              No            No                No  ...   \n",
       "7040                No              No           Yes                No  ...   \n",
       "7041                No             Yes            No               Yes  ...   \n",
       "7042  No phone service             Yes           Yes               Yes  ...   \n",
       "\n",
       "     streaming_tv_Yes streaming_movies_No internet service  \\\n",
       "0                   1                                    0   \n",
       "1                   0                                    0   \n",
       "2                   0                                    0   \n",
       "3                   1                                    0   \n",
       "4                   1                                    0   \n",
       "...               ...                                  ...   \n",
       "7038                0                                    0   \n",
       "7039                0                                    0   \n",
       "7040                0                                    0   \n",
       "7041                0                                    0   \n",
       "7042                1                                    0   \n",
       "\n",
       "     streaming_movies_Yes contract_type_One year  contract_type_Two year  \\\n",
       "0                       0                      1                       0   \n",
       "1                       1                      0                       0   \n",
       "2                       0                      0                       0   \n",
       "3                       1                      0                       0   \n",
       "4                       0                      0                       0   \n",
       "...                   ...                    ...                     ...   \n",
       "7038                    0                      1                       0   \n",
       "7039                    1                      0                       0   \n",
       "7040                    0                      0                       0   \n",
       "7041                    1                      0                       1   \n",
       "7042                    1                      0                       1   \n",
       "\n",
       "     internet_service_type_Fiber optic internet_service_type_None  \\\n",
       "0                                    0                          0   \n",
       "1                                    0                          0   \n",
       "2                                    1                          0   \n",
       "3                                    1                          0   \n",
       "4                                    1                          0   \n",
       "...                                ...                        ...   \n",
       "7038                                 0                          0   \n",
       "7039                                 1                          0   \n",
       "7040                                 0                          0   \n",
       "7041                                 0                          0   \n",
       "7042                                 0                          0   \n",
       "\n",
       "     payment_type_Credit card (automatic) payment_type_Electronic check  \\\n",
       "0                                       0                             0   \n",
       "1                                       0                             0   \n",
       "2                                       0                             1   \n",
       "3                                       0                             1   \n",
       "4                                       0                             0   \n",
       "...                                   ...                           ...   \n",
       "7038                                    0                             0   \n",
       "7039                                    0                             1   \n",
       "7040                                    0                             0   \n",
       "7041                                    0                             0   \n",
       "7042                                    0                             1   \n",
       "\n",
       "     payment_type_Mailed check  \n",
       "0                            1  \n",
       "1                            1  \n",
       "2                            0  \n",
       "3                            0  \n",
       "4                            1  \n",
       "...                        ...  \n",
       "7038                         1  \n",
       "7039                         0  \n",
       "7040                         1  \n",
       "7041                         1  \n",
       "7042                         0  \n",
       "\n",
       "[7043 rows x 47 columns]"
      ]
     },
     "execution_count": 692,
     "metadata": {},
     "output_type": "execute_result"
    }
   ],
   "source": [
    "df1= df1.drop(columns = ['customer_id'])\n",
    "df1"
   ]
  },
  {
   "cell_type": "code",
   "execution_count": 693,
   "id": "1bd523a1",
   "metadata": {},
   "outputs": [
    {
     "name": "stdout",
     "output_type": "stream",
     "text": [
      "(4225, 47) (1409, 47) (1409, 47)\n",
      "                                        count       mean        std    min  \\\n",
      "senior_citizen                         4225.0   0.161893   0.368397   0.00   \n",
      "tenure                                 4225.0  32.500828  24.532563   0.00   \n",
      "monthly_charges                        4225.0  65.056142  30.268493  18.25   \n",
      "gender_encoded                         4225.0   0.491361   0.499985   0.00   \n",
      "partner_encoded                        4225.0   0.488521   0.499927   0.00   \n",
      "dependents_encoded                     4225.0   0.306272   0.460999   0.00   \n",
      "phone_service_encoded                  4225.0   0.906982   0.290492   0.00   \n",
      "paperless_billing_encoded              4225.0   0.593846   0.491172   0.00   \n",
      "churn_encoded                          4225.0   0.265325   0.441559   0.00   \n",
      "multiple_lines_No phone service        4225.0   0.093018   0.290492   0.00   \n",
      "multiple_lines_Yes                     4225.0   0.427692   0.494803   0.00   \n",
      "online_security_No internet service    4225.0   0.218462   0.413251   0.00   \n",
      "online_security_Yes                    4225.0   0.291598   0.454552   0.00   \n",
      "online_backup_No internet service      4225.0   0.218462   0.413251   0.00   \n",
      "online_backup_Yes                      4225.0   0.350059   0.477045   0.00   \n",
      "device_protection_No internet service  4225.0   0.218462   0.413251   0.00   \n",
      "device_protection_Yes                  4225.0   0.351006   0.477341   0.00   \n",
      "tech_support_No internet service       4225.0   0.218462   0.413251   0.00   \n",
      "tech_support_Yes                       4225.0   0.289467   0.453569   0.00   \n",
      "streaming_tv_No internet service       4225.0   0.218462   0.413251   0.00   \n",
      "streaming_tv_Yes                       4225.0   0.392189   0.488296   0.00   \n",
      "streaming_movies_No internet service   4225.0   0.218462   0.413251   0.00   \n",
      "streaming_movies_Yes                   4225.0   0.395503   0.489016   0.00   \n",
      "contract_type_One year                 4225.0   0.216095   0.411628   0.00   \n",
      "contract_type_Two year                 4225.0   0.235503   0.424363   0.00   \n",
      "internet_service_type_Fiber optic      4225.0   0.439053   0.496330   0.00   \n",
      "internet_service_type_None             4225.0   0.218462   0.413251   0.00   \n",
      "payment_type_Credit card (automatic)   4225.0   0.217515   0.412604   0.00   \n",
      "payment_type_Electronic check          4225.0   0.336805   0.472673   0.00   \n",
      "payment_type_Mailed check              4225.0   0.224852   0.417534   0.00   \n",
      "\n",
      "                                         25%   50%    75%     max  \n",
      "senior_citizen                          0.00   0.0   0.00    1.00  \n",
      "tenure                                  9.00  29.0  55.00   72.00  \n",
      "monthly_charges                        35.65  70.4  90.15  118.75  \n",
      "gender_encoded                          0.00   0.0   1.00    1.00  \n",
      "partner_encoded                         0.00   0.0   1.00    1.00  \n",
      "dependents_encoded                      0.00   0.0   1.00    1.00  \n",
      "phone_service_encoded                   1.00   1.0   1.00    1.00  \n",
      "paperless_billing_encoded               0.00   1.0   1.00    1.00  \n",
      "churn_encoded                           0.00   0.0   1.00    1.00  \n",
      "multiple_lines_No phone service         0.00   0.0   0.00    1.00  \n",
      "multiple_lines_Yes                      0.00   0.0   1.00    1.00  \n",
      "online_security_No internet service     0.00   0.0   0.00    1.00  \n",
      "online_security_Yes                     0.00   0.0   1.00    1.00  \n",
      "online_backup_No internet service       0.00   0.0   0.00    1.00  \n",
      "online_backup_Yes                       0.00   0.0   1.00    1.00  \n",
      "device_protection_No internet service   0.00   0.0   0.00    1.00  \n",
      "device_protection_Yes                   0.00   0.0   1.00    1.00  \n",
      "tech_support_No internet service        0.00   0.0   0.00    1.00  \n",
      "tech_support_Yes                        0.00   0.0   1.00    1.00  \n",
      "streaming_tv_No internet service        0.00   0.0   0.00    1.00  \n",
      "streaming_tv_Yes                        0.00   0.0   1.00    1.00  \n",
      "streaming_movies_No internet service    0.00   0.0   0.00    1.00  \n",
      "streaming_movies_Yes                    0.00   0.0   1.00    1.00  \n",
      "contract_type_One year                  0.00   0.0   0.00    1.00  \n",
      "contract_type_Two year                  0.00   0.0   0.00    1.00  \n",
      "internet_service_type_Fiber optic       0.00   0.0   1.00    1.00  \n",
      "internet_service_type_None              0.00   0.0   0.00    1.00  \n",
      "payment_type_Credit card (automatic)    0.00   0.0   0.00    1.00  \n",
      "payment_type_Electronic check           0.00   0.0   1.00    1.00  \n",
      "payment_type_Mailed check               0.00   0.0   0.00    1.00  \n"
     ]
    }
   ],
   "source": [
    "telco_train, telco_validate, telco_test = prepare.my_train_test_split(df1,\"churn\")\n",
    "print(telco_train.shape, telco_validate.shape, telco_test.shape)\n",
    "print(telco_train.describe().T)\n"
   ]
  },
  {
   "cell_type": "code",
   "execution_count": 694,
   "id": "d8fd9696",
   "metadata": {},
   "outputs": [
    {
     "data": {
      "text/html": [
       "<div>\n",
       "<style scoped>\n",
       "    .dataframe tbody tr th:only-of-type {\n",
       "        vertical-align: middle;\n",
       "    }\n",
       "\n",
       "    .dataframe tbody tr th {\n",
       "        vertical-align: top;\n",
       "    }\n",
       "\n",
       "    .dataframe thead th {\n",
       "        text-align: right;\n",
       "    }\n",
       "</style>\n",
       "<table border=\"1\" class=\"dataframe\">\n",
       "  <thead>\n",
       "    <tr style=\"text-align: right;\">\n",
       "      <th></th>\n",
       "      <th>senior_citizen</th>\n",
       "      <th>tenure</th>\n",
       "      <th>monthly_charges</th>\n",
       "      <th>gender_encoded</th>\n",
       "      <th>partner_encoded</th>\n",
       "      <th>dependents_encoded</th>\n",
       "      <th>phone_service_encoded</th>\n",
       "      <th>paperless_billing_encoded</th>\n",
       "      <th>churn_encoded</th>\n",
       "      <th>multiple_lines_No phone service</th>\n",
       "      <th>...</th>\n",
       "      <th>streaming_tv_Yes</th>\n",
       "      <th>streaming_movies_No internet service</th>\n",
       "      <th>streaming_movies_Yes</th>\n",
       "      <th>contract_type_One year</th>\n",
       "      <th>contract_type_Two year</th>\n",
       "      <th>internet_service_type_Fiber optic</th>\n",
       "      <th>internet_service_type_None</th>\n",
       "      <th>payment_type_Credit card (automatic)</th>\n",
       "      <th>payment_type_Electronic check</th>\n",
       "      <th>payment_type_Mailed check</th>\n",
       "    </tr>\n",
       "  </thead>\n",
       "  <tbody>\n",
       "    <tr>\n",
       "      <th>count</th>\n",
       "      <td>4225.000000</td>\n",
       "      <td>4225.000000</td>\n",
       "      <td>4225.000000</td>\n",
       "      <td>4225.000000</td>\n",
       "      <td>4225.000000</td>\n",
       "      <td>4225.000000</td>\n",
       "      <td>4225.000000</td>\n",
       "      <td>4225.000000</td>\n",
       "      <td>4225.000000</td>\n",
       "      <td>4225.000000</td>\n",
       "      <td>...</td>\n",
       "      <td>4225.000000</td>\n",
       "      <td>4225.000000</td>\n",
       "      <td>4225.000000</td>\n",
       "      <td>4225.000000</td>\n",
       "      <td>4225.000000</td>\n",
       "      <td>4225.000000</td>\n",
       "      <td>4225.000000</td>\n",
       "      <td>4225.000000</td>\n",
       "      <td>4225.000000</td>\n",
       "      <td>4225.000000</td>\n",
       "    </tr>\n",
       "    <tr>\n",
       "      <th>mean</th>\n",
       "      <td>0.161893</td>\n",
       "      <td>32.500828</td>\n",
       "      <td>65.056142</td>\n",
       "      <td>0.491361</td>\n",
       "      <td>0.488521</td>\n",
       "      <td>0.306272</td>\n",
       "      <td>0.906982</td>\n",
       "      <td>0.593846</td>\n",
       "      <td>0.265325</td>\n",
       "      <td>0.093018</td>\n",
       "      <td>...</td>\n",
       "      <td>0.392189</td>\n",
       "      <td>0.218462</td>\n",
       "      <td>0.395503</td>\n",
       "      <td>0.216095</td>\n",
       "      <td>0.235503</td>\n",
       "      <td>0.439053</td>\n",
       "      <td>0.218462</td>\n",
       "      <td>0.217515</td>\n",
       "      <td>0.336805</td>\n",
       "      <td>0.224852</td>\n",
       "    </tr>\n",
       "    <tr>\n",
       "      <th>std</th>\n",
       "      <td>0.368397</td>\n",
       "      <td>24.532563</td>\n",
       "      <td>30.268493</td>\n",
       "      <td>0.499985</td>\n",
       "      <td>0.499927</td>\n",
       "      <td>0.460999</td>\n",
       "      <td>0.290492</td>\n",
       "      <td>0.491172</td>\n",
       "      <td>0.441559</td>\n",
       "      <td>0.290492</td>\n",
       "      <td>...</td>\n",
       "      <td>0.488296</td>\n",
       "      <td>0.413251</td>\n",
       "      <td>0.489016</td>\n",
       "      <td>0.411628</td>\n",
       "      <td>0.424363</td>\n",
       "      <td>0.496330</td>\n",
       "      <td>0.413251</td>\n",
       "      <td>0.412604</td>\n",
       "      <td>0.472673</td>\n",
       "      <td>0.417534</td>\n",
       "    </tr>\n",
       "    <tr>\n",
       "      <th>min</th>\n",
       "      <td>0.000000</td>\n",
       "      <td>0.000000</td>\n",
       "      <td>18.250000</td>\n",
       "      <td>0.000000</td>\n",
       "      <td>0.000000</td>\n",
       "      <td>0.000000</td>\n",
       "      <td>0.000000</td>\n",
       "      <td>0.000000</td>\n",
       "      <td>0.000000</td>\n",
       "      <td>0.000000</td>\n",
       "      <td>...</td>\n",
       "      <td>0.000000</td>\n",
       "      <td>0.000000</td>\n",
       "      <td>0.000000</td>\n",
       "      <td>0.000000</td>\n",
       "      <td>0.000000</td>\n",
       "      <td>0.000000</td>\n",
       "      <td>0.000000</td>\n",
       "      <td>0.000000</td>\n",
       "      <td>0.000000</td>\n",
       "      <td>0.000000</td>\n",
       "    </tr>\n",
       "    <tr>\n",
       "      <th>25%</th>\n",
       "      <td>0.000000</td>\n",
       "      <td>9.000000</td>\n",
       "      <td>35.650000</td>\n",
       "      <td>0.000000</td>\n",
       "      <td>0.000000</td>\n",
       "      <td>0.000000</td>\n",
       "      <td>1.000000</td>\n",
       "      <td>0.000000</td>\n",
       "      <td>0.000000</td>\n",
       "      <td>0.000000</td>\n",
       "      <td>...</td>\n",
       "      <td>0.000000</td>\n",
       "      <td>0.000000</td>\n",
       "      <td>0.000000</td>\n",
       "      <td>0.000000</td>\n",
       "      <td>0.000000</td>\n",
       "      <td>0.000000</td>\n",
       "      <td>0.000000</td>\n",
       "      <td>0.000000</td>\n",
       "      <td>0.000000</td>\n",
       "      <td>0.000000</td>\n",
       "    </tr>\n",
       "    <tr>\n",
       "      <th>50%</th>\n",
       "      <td>0.000000</td>\n",
       "      <td>29.000000</td>\n",
       "      <td>70.400000</td>\n",
       "      <td>0.000000</td>\n",
       "      <td>0.000000</td>\n",
       "      <td>0.000000</td>\n",
       "      <td>1.000000</td>\n",
       "      <td>1.000000</td>\n",
       "      <td>0.000000</td>\n",
       "      <td>0.000000</td>\n",
       "      <td>...</td>\n",
       "      <td>0.000000</td>\n",
       "      <td>0.000000</td>\n",
       "      <td>0.000000</td>\n",
       "      <td>0.000000</td>\n",
       "      <td>0.000000</td>\n",
       "      <td>0.000000</td>\n",
       "      <td>0.000000</td>\n",
       "      <td>0.000000</td>\n",
       "      <td>0.000000</td>\n",
       "      <td>0.000000</td>\n",
       "    </tr>\n",
       "    <tr>\n",
       "      <th>75%</th>\n",
       "      <td>0.000000</td>\n",
       "      <td>55.000000</td>\n",
       "      <td>90.150000</td>\n",
       "      <td>1.000000</td>\n",
       "      <td>1.000000</td>\n",
       "      <td>1.000000</td>\n",
       "      <td>1.000000</td>\n",
       "      <td>1.000000</td>\n",
       "      <td>1.000000</td>\n",
       "      <td>0.000000</td>\n",
       "      <td>...</td>\n",
       "      <td>1.000000</td>\n",
       "      <td>0.000000</td>\n",
       "      <td>1.000000</td>\n",
       "      <td>0.000000</td>\n",
       "      <td>0.000000</td>\n",
       "      <td>1.000000</td>\n",
       "      <td>0.000000</td>\n",
       "      <td>0.000000</td>\n",
       "      <td>1.000000</td>\n",
       "      <td>0.000000</td>\n",
       "    </tr>\n",
       "    <tr>\n",
       "      <th>max</th>\n",
       "      <td>1.000000</td>\n",
       "      <td>72.000000</td>\n",
       "      <td>118.750000</td>\n",
       "      <td>1.000000</td>\n",
       "      <td>1.000000</td>\n",
       "      <td>1.000000</td>\n",
       "      <td>1.000000</td>\n",
       "      <td>1.000000</td>\n",
       "      <td>1.000000</td>\n",
       "      <td>1.000000</td>\n",
       "      <td>...</td>\n",
       "      <td>1.000000</td>\n",
       "      <td>1.000000</td>\n",
       "      <td>1.000000</td>\n",
       "      <td>1.000000</td>\n",
       "      <td>1.000000</td>\n",
       "      <td>1.000000</td>\n",
       "      <td>1.000000</td>\n",
       "      <td>1.000000</td>\n",
       "      <td>1.000000</td>\n",
       "      <td>1.000000</td>\n",
       "    </tr>\n",
       "  </tbody>\n",
       "</table>\n",
       "<p>8 rows × 30 columns</p>\n",
       "</div>"
      ],
      "text/plain": [
       "       senior_citizen       tenure  monthly_charges  gender_encoded  \\\n",
       "count     4225.000000  4225.000000      4225.000000     4225.000000   \n",
       "mean         0.161893    32.500828        65.056142        0.491361   \n",
       "std          0.368397    24.532563        30.268493        0.499985   \n",
       "min          0.000000     0.000000        18.250000        0.000000   \n",
       "25%          0.000000     9.000000        35.650000        0.000000   \n",
       "50%          0.000000    29.000000        70.400000        0.000000   \n",
       "75%          0.000000    55.000000        90.150000        1.000000   \n",
       "max          1.000000    72.000000       118.750000        1.000000   \n",
       "\n",
       "       partner_encoded  dependents_encoded  phone_service_encoded  \\\n",
       "count      4225.000000         4225.000000            4225.000000   \n",
       "mean          0.488521            0.306272               0.906982   \n",
       "std           0.499927            0.460999               0.290492   \n",
       "min           0.000000            0.000000               0.000000   \n",
       "25%           0.000000            0.000000               1.000000   \n",
       "50%           0.000000            0.000000               1.000000   \n",
       "75%           1.000000            1.000000               1.000000   \n",
       "max           1.000000            1.000000               1.000000   \n",
       "\n",
       "       paperless_billing_encoded  churn_encoded  \\\n",
       "count                4225.000000    4225.000000   \n",
       "mean                    0.593846       0.265325   \n",
       "std                     0.491172       0.441559   \n",
       "min                     0.000000       0.000000   \n",
       "25%                     0.000000       0.000000   \n",
       "50%                     1.000000       0.000000   \n",
       "75%                     1.000000       1.000000   \n",
       "max                     1.000000       1.000000   \n",
       "\n",
       "       multiple_lines_No phone service  ...  streaming_tv_Yes  \\\n",
       "count                      4225.000000  ...       4225.000000   \n",
       "mean                          0.093018  ...          0.392189   \n",
       "std                           0.290492  ...          0.488296   \n",
       "min                           0.000000  ...          0.000000   \n",
       "25%                           0.000000  ...          0.000000   \n",
       "50%                           0.000000  ...          0.000000   \n",
       "75%                           0.000000  ...          1.000000   \n",
       "max                           1.000000  ...          1.000000   \n",
       "\n",
       "       streaming_movies_No internet service  streaming_movies_Yes  \\\n",
       "count                           4225.000000           4225.000000   \n",
       "mean                               0.218462              0.395503   \n",
       "std                                0.413251              0.489016   \n",
       "min                                0.000000              0.000000   \n",
       "25%                                0.000000              0.000000   \n",
       "50%                                0.000000              0.000000   \n",
       "75%                                0.000000              1.000000   \n",
       "max                                1.000000              1.000000   \n",
       "\n",
       "       contract_type_One year  contract_type_Two year  \\\n",
       "count             4225.000000             4225.000000   \n",
       "mean                 0.216095                0.235503   \n",
       "std                  0.411628                0.424363   \n",
       "min                  0.000000                0.000000   \n",
       "25%                  0.000000                0.000000   \n",
       "50%                  0.000000                0.000000   \n",
       "75%                  0.000000                0.000000   \n",
       "max                  1.000000                1.000000   \n",
       "\n",
       "       internet_service_type_Fiber optic  internet_service_type_None  \\\n",
       "count                        4225.000000                 4225.000000   \n",
       "mean                            0.439053                    0.218462   \n",
       "std                             0.496330                    0.413251   \n",
       "min                             0.000000                    0.000000   \n",
       "25%                             0.000000                    0.000000   \n",
       "50%                             0.000000                    0.000000   \n",
       "75%                             1.000000                    0.000000   \n",
       "max                             1.000000                    1.000000   \n",
       "\n",
       "       payment_type_Credit card (automatic)  payment_type_Electronic check  \\\n",
       "count                           4225.000000                    4225.000000   \n",
       "mean                               0.217515                       0.336805   \n",
       "std                                0.412604                       0.472673   \n",
       "min                                0.000000                       0.000000   \n",
       "25%                                0.000000                       0.000000   \n",
       "50%                                0.000000                       0.000000   \n",
       "75%                                0.000000                       1.000000   \n",
       "max                                1.000000                       1.000000   \n",
       "\n",
       "       payment_type_Mailed check  \n",
       "count                4225.000000  \n",
       "mean                    0.224852  \n",
       "std                     0.417534  \n",
       "min                     0.000000  \n",
       "25%                     0.000000  \n",
       "50%                     0.000000  \n",
       "75%                     0.000000  \n",
       "max                     1.000000  \n",
       "\n",
       "[8 rows x 30 columns]"
      ]
     },
     "execution_count": 694,
     "metadata": {},
     "output_type": "execute_result"
    }
   ],
   "source": [
    "telco_train.describe()"
   ]
  },
  {
   "cell_type": "code",
   "execution_count": 695,
   "id": "619df34e",
   "metadata": {},
   "outputs": [
    {
     "data": {
      "text/plain": [
       "(Index(['gender', 'senior_citizen', 'partner', 'dependents', 'tenure',\n",
       "        'phone_service', 'multiple_lines', 'online_security', 'online_backup',\n",
       "        'device_protection', 'tech_support', 'streaming_tv', 'streaming_movies',\n",
       "        'paperless_billing', 'monthly_charges', 'total_charges', 'churn',\n",
       "        'contract_type', 'internet_service_type', 'payment_type',\n",
       "        'gender_encoded', 'partner_encoded', 'dependents_encoded',\n",
       "        'phone_service_encoded', 'paperless_billing_encoded', 'churn_encoded',\n",
       "        'multiple_lines_No phone service', 'multiple_lines_Yes',\n",
       "        'online_security_No internet service', 'online_security_Yes',\n",
       "        'online_backup_No internet service', 'online_backup_Yes',\n",
       "        'device_protection_No internet service', 'device_protection_Yes',\n",
       "        'tech_support_No internet service', 'tech_support_Yes',\n",
       "        'streaming_tv_No internet service', 'streaming_tv_Yes',\n",
       "        'streaming_movies_No internet service', 'streaming_movies_Yes',\n",
       "        'contract_type_One year', 'contract_type_Two year',\n",
       "        'internet_service_type_Fiber optic', 'internet_service_type_None',\n",
       "        'payment_type_Credit card (automatic)', 'payment_type_Electronic check',\n",
       "        'payment_type_Mailed check'],\n",
       "       dtype='object'),\n",
       " Index(['gender', 'senior_citizen', 'partner', 'dependents', 'tenure',\n",
       "        'phone_service', 'multiple_lines', 'online_security', 'online_backup',\n",
       "        'device_protection', 'tech_support', 'streaming_tv', 'streaming_movies',\n",
       "        'paperless_billing', 'monthly_charges', 'total_charges', 'churn',\n",
       "        'contract_type', 'internet_service_type', 'payment_type',\n",
       "        'gender_encoded', 'partner_encoded', 'dependents_encoded',\n",
       "        'phone_service_encoded', 'paperless_billing_encoded', 'churn_encoded',\n",
       "        'multiple_lines_No phone service', 'multiple_lines_Yes',\n",
       "        'online_security_No internet service', 'online_security_Yes',\n",
       "        'online_backup_No internet service', 'online_backup_Yes',\n",
       "        'device_protection_No internet service', 'device_protection_Yes',\n",
       "        'tech_support_No internet service', 'tech_support_Yes',\n",
       "        'streaming_tv_No internet service', 'streaming_tv_Yes',\n",
       "        'streaming_movies_No internet service', 'streaming_movies_Yes',\n",
       "        'contract_type_One year', 'contract_type_Two year',\n",
       "        'internet_service_type_Fiber optic', 'internet_service_type_None',\n",
       "        'payment_type_Credit card (automatic)', 'payment_type_Electronic check',\n",
       "        'payment_type_Mailed check'],\n",
       "       dtype='object'))"
      ]
     },
     "execution_count": 695,
     "metadata": {},
     "output_type": "execute_result"
    }
   ],
   "source": [
    "telco_train.columns, telco_validate.columns\n"
   ]
  },
  {
   "cell_type": "code",
   "execution_count": 696,
   "id": "9449f6d5",
   "metadata": {},
   "outputs": [],
   "source": [
    "# X is indepedent variables\n",
    "# y is target variable\n",
    "\n",
    "# x and y train\n",
    "X_telco_train = telco_train.drop(columns = 'churn')\n",
    "y_telco_train = telco_train.churn\n",
    "\n",
    "# x and y validate\n",
    "X_telco_validate = telco_validate.drop(columns = 'churn')\n",
    "y_telco_validate = telco_validate.churn\n",
    "\n",
    "# x and y test\n",
    "X_telco_test = telco_test.drop(columns = 'churn')\n",
    "y_telco_test = telco_test.churn"
   ]
  },
  {
   "cell_type": "code",
   "execution_count": 697,
   "id": "61fb5e0d",
   "metadata": {},
   "outputs": [
    {
     "data": {
      "text/plain": [
       "No     3104\n",
       "Yes    1121\n",
       "Name: churn, dtype: int64"
      ]
     },
     "execution_count": 697,
     "metadata": {},
     "output_type": "execute_result"
    }
   ],
   "source": [
    "# y_train data\n",
    "y_telco_train.value_counts()"
   ]
  },
  {
   "cell_type": "code",
   "execution_count": 698,
   "id": "87b908b5",
   "metadata": {},
   "outputs": [
    {
     "name": "stdout",
     "output_type": "stream",
     "text": [
      "The churn baseline is: 0.0\n"
     ]
    }
   ],
   "source": [
    "# create a baseline model\n",
    "telco_baseline = (y_telco_train == 0).mean()\n",
    "print('The churn baseline is:', telco_baseline)"
   ]
  },
  {
   "cell_type": "code",
   "execution_count": null,
   "id": "0a6cb3ea",
   "metadata": {},
   "outputs": [],
   "source": [
    "# baseline model is the mode of target varible that did not churn.\n",
    "# baseline churn accuracy shows 0 as above "
   ]
  },
  {
   "cell_type": "markdown",
   "id": "fef79465",
   "metadata": {},
   "source": [
    "### 2. Fit the decision tree classifier to your training sample and transform (i.e. make predictions on the training sample)\n"
   ]
  },
  {
   "cell_type": "code",
   "execution_count": 703,
   "id": "a1030bb3",
   "metadata": {},
   "outputs": [],
   "source": [
    "# make the thing\n",
    "model1 = DecisionTreeClassifier(max_depth=1)\n",
    "# fit the thing\n",
    "model1.fit(X_telco_train, y_telco_train)\n",
    "# use the thing\n",
    "print(f'training score: {model1.score(X_telco_train, y_telco_train):.2%}')\n",
    "print(f'validate score: {model1.score(X_telco_validate, y_telco_validate):.2%}')"
   ]
  },
  {
   "cell_type": "code",
   "execution_count": null,
   "id": "31f9a1b0",
   "metadata": {},
   "outputs": [],
   "source": []
  },
  {
   "cell_type": "code",
   "execution_count": null,
   "id": "3865759b",
   "metadata": {},
   "outputs": [],
   "source": []
  },
  {
   "cell_type": "code",
   "execution_count": null,
   "id": "f0e6cb2b",
   "metadata": {},
   "outputs": [],
   "source": []
  },
  {
   "cell_type": "code",
   "execution_count": null,
   "id": "16e67457",
   "metadata": {},
   "outputs": [],
   "source": []
  },
  {
   "cell_type": "code",
   "execution_count": null,
   "id": "259e525a",
   "metadata": {},
   "outputs": [],
   "source": []
  },
  {
   "cell_type": "markdown",
   "id": "4a4f6af1",
   "metadata": {},
   "source": [
    "### RANDOM FOREST"
   ]
  },
  {
   "cell_type": "markdown",
   "id": "c2eec422",
   "metadata": {},
   "source": [
    "### Exercises\n",
    "### Continue working in your model file with titanic data to do the following:\n",
    "\n"
   ]
  },
  {
   "cell_type": "markdown",
   "id": "7def3ba2",
   "metadata": {},
   "source": [
    "### 1. Fit the Random Forest classifier to your training sample and transform (i.e. make predictions on the training sample) setting the random_state accordingly and setting min_samples_leaf = 1 and max_depth = 10."
   ]
  },
  {
   "cell_type": "code",
   "execution_count": 248,
   "id": "857cf150",
   "metadata": {},
   "outputs": [],
   "source": [
    "import numpy as np\n",
    "import pandas as pd\n",
    "\n",
    "from sklearn.model_selection import train_test_split\n",
    "from sklearn.ensemble import RandomForestClassifier\n",
    "from sklearn.metrics import classification_report, confusion_matrix, ConfusionMatrixDisplay\n",
    "\n",
    "import matplotlib.pyplot as plt\n",
    "%matplotlib inline\n",
    "import seaborn as sns\n",
    "\n",
    "# ignore warnings\n",
    "import warnings\n",
    "warnings.filterwarnings(\"ignore\")"
   ]
  },
  {
   "cell_type": "code",
   "execution_count": 258,
   "id": "022448bc",
   "metadata": {},
   "outputs": [
    {
     "data": {
      "text/html": [
       "<div>\n",
       "<style scoped>\n",
       "    .dataframe tbody tr th:only-of-type {\n",
       "        vertical-align: middle;\n",
       "    }\n",
       "\n",
       "    .dataframe tbody tr th {\n",
       "        vertical-align: top;\n",
       "    }\n",
       "\n",
       "    .dataframe thead th {\n",
       "        text-align: right;\n",
       "    }\n",
       "</style>\n",
       "<table border=\"1\" class=\"dataframe\">\n",
       "  <thead>\n",
       "    <tr style=\"text-align: right;\">\n",
       "      <th></th>\n",
       "      <th>passenger_id</th>\n",
       "      <th>survived</th>\n",
       "      <th>pclass</th>\n",
       "      <th>sex</th>\n",
       "      <th>age</th>\n",
       "      <th>sibsp</th>\n",
       "      <th>parch</th>\n",
       "      <th>fare</th>\n",
       "      <th>embarked</th>\n",
       "      <th>class</th>\n",
       "      <th>deck</th>\n",
       "      <th>embark_town</th>\n",
       "      <th>alone</th>\n",
       "    </tr>\n",
       "  </thead>\n",
       "  <tbody>\n",
       "    <tr>\n",
       "      <th>0</th>\n",
       "      <td>0</td>\n",
       "      <td>0</td>\n",
       "      <td>3</td>\n",
       "      <td>male</td>\n",
       "      <td>22.0</td>\n",
       "      <td>1</td>\n",
       "      <td>0</td>\n",
       "      <td>7.2500</td>\n",
       "      <td>S</td>\n",
       "      <td>Third</td>\n",
       "      <td>NaN</td>\n",
       "      <td>Southampton</td>\n",
       "      <td>0</td>\n",
       "    </tr>\n",
       "    <tr>\n",
       "      <th>1</th>\n",
       "      <td>1</td>\n",
       "      <td>1</td>\n",
       "      <td>1</td>\n",
       "      <td>female</td>\n",
       "      <td>38.0</td>\n",
       "      <td>1</td>\n",
       "      <td>0</td>\n",
       "      <td>71.2833</td>\n",
       "      <td>C</td>\n",
       "      <td>First</td>\n",
       "      <td>C</td>\n",
       "      <td>Cherbourg</td>\n",
       "      <td>0</td>\n",
       "    </tr>\n",
       "    <tr>\n",
       "      <th>2</th>\n",
       "      <td>2</td>\n",
       "      <td>1</td>\n",
       "      <td>3</td>\n",
       "      <td>female</td>\n",
       "      <td>26.0</td>\n",
       "      <td>0</td>\n",
       "      <td>0</td>\n",
       "      <td>7.9250</td>\n",
       "      <td>S</td>\n",
       "      <td>Third</td>\n",
       "      <td>NaN</td>\n",
       "      <td>Southampton</td>\n",
       "      <td>1</td>\n",
       "    </tr>\n",
       "    <tr>\n",
       "      <th>3</th>\n",
       "      <td>3</td>\n",
       "      <td>1</td>\n",
       "      <td>1</td>\n",
       "      <td>female</td>\n",
       "      <td>35.0</td>\n",
       "      <td>1</td>\n",
       "      <td>0</td>\n",
       "      <td>53.1000</td>\n",
       "      <td>S</td>\n",
       "      <td>First</td>\n",
       "      <td>C</td>\n",
       "      <td>Southampton</td>\n",
       "      <td>0</td>\n",
       "    </tr>\n",
       "    <tr>\n",
       "      <th>4</th>\n",
       "      <td>4</td>\n",
       "      <td>0</td>\n",
       "      <td>3</td>\n",
       "      <td>male</td>\n",
       "      <td>35.0</td>\n",
       "      <td>0</td>\n",
       "      <td>0</td>\n",
       "      <td>8.0500</td>\n",
       "      <td>S</td>\n",
       "      <td>Third</td>\n",
       "      <td>NaN</td>\n",
       "      <td>Southampton</td>\n",
       "      <td>1</td>\n",
       "    </tr>\n",
       "  </tbody>\n",
       "</table>\n",
       "</div>"
      ],
      "text/plain": [
       "   passenger_id  survived  pclass     sex   age  sibsp  parch     fare  \\\n",
       "0             0         0       3    male  22.0      1      0   7.2500   \n",
       "1             1         1       1  female  38.0      1      0  71.2833   \n",
       "2             2         1       3  female  26.0      0      0   7.9250   \n",
       "3             3         1       1  female  35.0      1      0  53.1000   \n",
       "4             4         0       3    male  35.0      0      0   8.0500   \n",
       "\n",
       "  embarked  class deck  embark_town  alone  \n",
       "0        S  Third  NaN  Southampton      0  \n",
       "1        C  First    C    Cherbourg      0  \n",
       "2        S  Third  NaN  Southampton      1  \n",
       "3        S  First    C  Southampton      0  \n",
       "4        S  Third  NaN  Southampton      1  "
      ]
     },
     "execution_count": 258,
     "metadata": {},
     "output_type": "execute_result"
    }
   ],
   "source": [
    "# get titanic data\n",
    "df = acquire.get_titanic_data()\n",
    "df.head()\n"
   ]
  },
  {
   "cell_type": "code",
   "execution_count": 259,
   "id": "857c4ff9",
   "metadata": {},
   "outputs": [],
   "source": [
    "def split_data(df):\n",
    "    '''\n",
    "    take in a DataFrame and return train, validate, and test DataFrames; stratify on survived.\n",
    "    return train, validate, test DataFrames.\n",
    "    '''\n",
    "    train_validate, test = train_test_split(df, test_size=.2, random_state=123, stratify=df.survived)\n",
    "    train, validate = train_test_split(train_validate, \n",
    "                                       test_size=.3, \n",
    "                                       random_state=123, \n",
    "                                       stratify=train_validate.survived)\n",
    "    return train, validate, test\n"
   ]
  },
  {
   "cell_type": "code",
   "execution_count": 261,
   "id": "125ceeb5",
   "metadata": {},
   "outputs": [
    {
     "data": {
      "text/html": [
       "<div>\n",
       "<style scoped>\n",
       "    .dataframe tbody tr th:only-of-type {\n",
       "        vertical-align: middle;\n",
       "    }\n",
       "\n",
       "    .dataframe tbody tr th {\n",
       "        vertical-align: top;\n",
       "    }\n",
       "\n",
       "    .dataframe thead th {\n",
       "        text-align: right;\n",
       "    }\n",
       "</style>\n",
       "<table border=\"1\" class=\"dataframe\">\n",
       "  <thead>\n",
       "    <tr style=\"text-align: right;\">\n",
       "      <th></th>\n",
       "      <th>survived</th>\n",
       "      <th>pclass</th>\n",
       "      <th>sibsp</th>\n",
       "      <th>parch</th>\n",
       "      <th>fare</th>\n",
       "      <th>alone</th>\n",
       "      <th>sex_male</th>\n",
       "      <th>embark_town_Queenstown</th>\n",
       "      <th>embark_town_Southampton</th>\n",
       "    </tr>\n",
       "  </thead>\n",
       "  <tbody>\n",
       "    <tr>\n",
       "      <th>count</th>\n",
       "      <td>534.000000</td>\n",
       "      <td>534.000000</td>\n",
       "      <td>534.000000</td>\n",
       "      <td>534.000000</td>\n",
       "      <td>534.000000</td>\n",
       "      <td>534.000000</td>\n",
       "      <td>534.000000</td>\n",
       "      <td>534.000000</td>\n",
       "      <td>534.000000</td>\n",
       "    </tr>\n",
       "    <tr>\n",
       "      <th>mean</th>\n",
       "      <td>0.383895</td>\n",
       "      <td>2.323970</td>\n",
       "      <td>0.514981</td>\n",
       "      <td>0.352060</td>\n",
       "      <td>31.058106</td>\n",
       "      <td>0.627341</td>\n",
       "      <td>0.651685</td>\n",
       "      <td>0.086142</td>\n",
       "      <td>0.713483</td>\n",
       "    </tr>\n",
       "    <tr>\n",
       "      <th>std</th>\n",
       "      <td>0.486789</td>\n",
       "      <td>0.822928</td>\n",
       "      <td>1.143856</td>\n",
       "      <td>0.759941</td>\n",
       "      <td>46.866121</td>\n",
       "      <td>0.483966</td>\n",
       "      <td>0.476883</td>\n",
       "      <td>0.280837</td>\n",
       "      <td>0.452558</td>\n",
       "    </tr>\n",
       "    <tr>\n",
       "      <th>min</th>\n",
       "      <td>0.000000</td>\n",
       "      <td>1.000000</td>\n",
       "      <td>0.000000</td>\n",
       "      <td>0.000000</td>\n",
       "      <td>0.000000</td>\n",
       "      <td>0.000000</td>\n",
       "      <td>0.000000</td>\n",
       "      <td>0.000000</td>\n",
       "      <td>0.000000</td>\n",
       "    </tr>\n",
       "    <tr>\n",
       "      <th>25%</th>\n",
       "      <td>0.000000</td>\n",
       "      <td>2.000000</td>\n",
       "      <td>0.000000</td>\n",
       "      <td>0.000000</td>\n",
       "      <td>7.895800</td>\n",
       "      <td>0.000000</td>\n",
       "      <td>0.000000</td>\n",
       "      <td>0.000000</td>\n",
       "      <td>0.000000</td>\n",
       "    </tr>\n",
       "    <tr>\n",
       "      <th>50%</th>\n",
       "      <td>0.000000</td>\n",
       "      <td>3.000000</td>\n",
       "      <td>0.000000</td>\n",
       "      <td>0.000000</td>\n",
       "      <td>13.500000</td>\n",
       "      <td>1.000000</td>\n",
       "      <td>1.000000</td>\n",
       "      <td>0.000000</td>\n",
       "      <td>1.000000</td>\n",
       "    </tr>\n",
       "    <tr>\n",
       "      <th>75%</th>\n",
       "      <td>1.000000</td>\n",
       "      <td>3.000000</td>\n",
       "      <td>1.000000</td>\n",
       "      <td>0.000000</td>\n",
       "      <td>30.053100</td>\n",
       "      <td>1.000000</td>\n",
       "      <td>1.000000</td>\n",
       "      <td>0.000000</td>\n",
       "      <td>1.000000</td>\n",
       "    </tr>\n",
       "    <tr>\n",
       "      <th>max</th>\n",
       "      <td>1.000000</td>\n",
       "      <td>3.000000</td>\n",
       "      <td>8.000000</td>\n",
       "      <td>5.000000</td>\n",
       "      <td>512.329200</td>\n",
       "      <td>1.000000</td>\n",
       "      <td>1.000000</td>\n",
       "      <td>1.000000</td>\n",
       "      <td>1.000000</td>\n",
       "    </tr>\n",
       "  </tbody>\n",
       "</table>\n",
       "</div>"
      ],
      "text/plain": [
       "         survived      pclass       sibsp       parch        fare       alone  \\\n",
       "count  534.000000  534.000000  534.000000  534.000000  534.000000  534.000000   \n",
       "mean     0.383895    2.323970    0.514981    0.352060   31.058106    0.627341   \n",
       "std      0.486789    0.822928    1.143856    0.759941   46.866121    0.483966   \n",
       "min      0.000000    1.000000    0.000000    0.000000    0.000000    0.000000   \n",
       "25%      0.000000    2.000000    0.000000    0.000000    7.895800    0.000000   \n",
       "50%      0.000000    3.000000    0.000000    0.000000   13.500000    1.000000   \n",
       "75%      1.000000    3.000000    1.000000    0.000000   30.053100    1.000000   \n",
       "max      1.000000    3.000000    8.000000    5.000000  512.329200    1.000000   \n",
       "\n",
       "         sex_male  embark_town_Queenstown  embark_town_Southampton  \n",
       "count  534.000000              534.000000               534.000000  \n",
       "mean     0.651685                0.086142                 0.713483  \n",
       "std      0.476883                0.280837                 0.452558  \n",
       "min      0.000000                0.000000                 0.000000  \n",
       "25%      0.000000                0.000000                 0.000000  \n",
       "50%      1.000000                0.000000                 1.000000  \n",
       "75%      1.000000                0.000000                 1.000000  \n",
       "max      1.000000                1.000000                 1.000000  "
      ]
     },
     "execution_count": 261,
     "metadata": {},
     "output_type": "execute_result"
    }
   ],
   "source": [
    "titanic_train.describe()"
   ]
  },
  {
   "cell_type": "code",
   "execution_count": 262,
   "id": "09622b96",
   "metadata": {},
   "outputs": [
    {
     "data": {
      "text/plain": [
       "(Index(['survived', 'pclass', 'sibsp', 'parch', 'fare', 'alone', 'sex_male',\n",
       "        'embark_town_Queenstown', 'embark_town_Southampton'],\n",
       "       dtype='object'),\n",
       " Index(['survived', 'pclass', 'sibsp', 'parch', 'fare', 'alone', 'sex_male',\n",
       "        'embark_town_Queenstown', 'embark_town_Southampton'],\n",
       "       dtype='object'))"
      ]
     },
     "execution_count": 262,
     "metadata": {},
     "output_type": "execute_result"
    }
   ],
   "source": [
    "titanic_train.columns, titanic_validate.columns\n"
   ]
  },
  {
   "cell_type": "code",
   "execution_count": 265,
   "id": "0e6c4640",
   "metadata": {},
   "outputs": [],
   "source": [
    "# X is indepedent variables\n",
    "# y is target variable\n",
    "\n",
    "# x and y train\n",
    "X_titanic_train = titanic_train.drop(columns = 'survived')\n",
    "y_titanic_train = titanic_train.survived\n",
    "\n",
    "# x and y validate\n",
    "X_titanic_validate = titanic_validate.drop(columns = 'survived')\n",
    "y_titanic_validate = titanic_validate.survived\n",
    "\n",
    "# x and y test\n",
    "X_titanic_test = titanic_test.drop(columns = 'survived')\n",
    "y_titanic_test = titanic_test.survived"
   ]
  },
  {
   "cell_type": "code",
   "execution_count": 266,
   "id": "206ceb73",
   "metadata": {},
   "outputs": [
    {
     "data": {
      "text/plain": [
       "0    329\n",
       "1    205\n",
       "Name: survived, dtype: int64"
      ]
     },
     "execution_count": 266,
     "metadata": {},
     "output_type": "execute_result"
    }
   ],
   "source": [
    "# y_train data\n",
    "y_titanic_train.value_counts()"
   ]
  },
  {
   "cell_type": "code",
   "execution_count": null,
   "id": "e23f37c9",
   "metadata": {},
   "outputs": [],
   "source": [
    "# Explore"
   ]
  },
  {
   "cell_type": "code",
   "execution_count": 276,
   "id": "f6474cb6",
   "metadata": {},
   "outputs": [
    {
     "data": {
      "text/plain": [
       "RandomForestClassifier(max_depth=10)"
      ]
     },
     "execution_count": 276,
     "metadata": {},
     "output_type": "execute_result"
    }
   ],
   "source": [
    "#create an object\n",
    "rf = RandomForestClassifier(min_samples_leaf = 1, max_depth = 10)\n",
    "rf.fit(X_titanic_train, y_titanic_train)"
   ]
  },
  {
   "cell_type": "code",
   "execution_count": 272,
   "id": "31803680",
   "metadata": {},
   "outputs": [
    {
     "data": {
      "text/plain": [
       "RandomForestClassifier(max_depth=3, random_state=123)"
      ]
     },
     "execution_count": 272,
     "metadata": {},
     "output_type": "execute_result"
    }
   ],
   "source": [
    "#fit the model\n",
    "rf.fit(X_titanic_train, y_titanic_train)"
   ]
  },
  {
   "cell_type": "code",
   "execution_count": 274,
   "id": "65bd867f",
   "metadata": {},
   "outputs": [
    {
     "data": {
      "text/plain": [
       "array([0, 1, 0, 0, 0, 0, 1, 0, 0, 1, 0, 0, 0, 0, 0, 0, 1, 0, 0, 0, 1, 1,\n",
       "       0, 0, 0, 0, 0, 0, 1, 0, 0, 0, 0, 0, 0, 0, 0, 0, 0, 1, 1, 0, 0, 1,\n",
       "       0, 0, 1, 1, 0, 0, 0, 1, 0, 1, 0, 0, 0, 0, 0, 1, 0, 0, 0, 0, 1, 1,\n",
       "       0, 1, 0, 1, 0, 1, 0, 0, 0, 0, 0, 1, 0, 0, 1, 0, 0, 1, 0, 0, 0, 1,\n",
       "       0, 0, 1, 0, 0, 0, 1, 0, 0, 0, 0, 0, 0, 1, 0, 0, 1, 1, 1, 1, 0, 0,\n",
       "       0, 0, 0, 0, 0, 0, 1, 0, 0, 0, 1, 0, 1, 0, 1, 0, 0, 0, 0, 1, 0, 1,\n",
       "       0, 0, 0, 0, 1, 0, 0, 0, 0, 0, 0, 0, 0, 0, 0, 1, 1, 1, 1, 0, 0, 0,\n",
       "       0, 0, 1, 0, 0, 0, 0, 0, 1, 0, 0, 0, 0, 1, 0, 0, 1, 0, 1, 1, 1, 0,\n",
       "       1, 0, 0, 1, 0, 0, 0, 0, 1, 0, 0, 1, 1, 0, 0, 0, 0, 0, 0, 1, 0, 0,\n",
       "       0, 0, 1, 0, 0, 0, 0, 0, 0, 0, 1, 0, 0, 0, 0, 0, 0, 0, 0, 0, 0, 0,\n",
       "       0, 0, 0, 0, 0, 1, 0, 1, 0, 0, 0, 1, 1, 1, 0, 1, 1, 0, 1, 0, 0, 1,\n",
       "       1, 1, 0, 0, 1, 1, 0, 0, 0, 0, 0, 0, 1, 0, 0, 0, 1, 0, 1, 1, 1, 0,\n",
       "       1, 0, 1, 0, 0, 1, 1, 0, 0, 1, 1, 0, 0, 0, 1, 1, 0, 1, 1, 0, 0, 0,\n",
       "       1, 1, 0, 0, 0, 1, 0, 1, 0, 0, 1, 0, 1, 0, 0, 0, 0, 0, 0, 0, 0, 1,\n",
       "       1, 1, 0, 0, 0, 1, 0, 0, 0, 0, 0, 1, 0, 0, 0, 1, 0, 0, 0, 0, 0, 0,\n",
       "       0, 0, 0, 0, 1, 0, 0, 0, 1, 0, 0, 0, 1, 0, 1, 0, 0, 0, 1, 0, 0, 0,\n",
       "       1, 0, 0, 0, 0, 1, 0, 1, 1, 0, 1, 1, 1, 1, 0, 1, 0, 1, 0, 1, 0, 0,\n",
       "       1, 0, 1, 1, 1, 1, 0, 0, 0, 0, 0, 0, 0, 0, 1, 1, 1, 0, 0, 0, 0, 1,\n",
       "       1, 0, 0, 0, 0, 0, 0, 1, 1, 0, 0, 0, 0, 0, 0, 0, 0, 0, 0, 1, 0, 1,\n",
       "       0, 0, 0, 0, 0, 0, 0, 1, 0, 0, 0, 1, 0, 1, 0, 0, 0, 0, 0, 1, 0, 0,\n",
       "       0, 0, 0, 1, 0, 0, 1, 0, 1, 0, 0, 0, 0, 0, 1, 0, 0, 1, 0, 0, 0, 0,\n",
       "       0, 1, 1, 0, 1, 0, 0, 1, 1, 0, 1, 0, 0, 0, 0, 1, 0, 1, 0, 1, 1, 0,\n",
       "       0, 0, 0, 0, 0, 1, 0, 0, 0, 0, 0, 0, 1, 1, 0, 0, 1, 1, 0, 0, 0, 0,\n",
       "       0, 0, 1, 1, 0, 0, 1, 0, 0, 0, 0, 0, 0, 1, 1, 0, 0, 0, 0, 1, 0, 0,\n",
       "       0, 0, 1, 0, 0, 1])"
      ]
     },
     "execution_count": 274,
     "metadata": {},
     "output_type": "execute_result"
    }
   ],
   "source": [
    "#predict\n",
    "rf.predict(X_titanic_train)"
   ]
  },
  {
   "cell_type": "markdown",
   "id": "a73e212a",
   "metadata": {},
   "source": [
    "### 2. Evaluate your results using the model score, confusion matrix, and classification report.\n",
    "\n"
   ]
  },
  {
   "cell_type": "code",
   "execution_count": 316,
   "id": "1558f414",
   "metadata": {},
   "outputs": [
    {
     "name": "stdout",
     "output_type": "stream",
     "text": [
      "Accuracy of random forest classifier on training set: 0.94\n"
     ]
    }
   ],
   "source": [
    "#evaluate\n",
    "print('Accuracy of random forest classifier on training set: {:.2f}'\n",
    "     .format(rf.score(X_titanic_train, y_titanic_train)))"
   ]
  },
  {
   "cell_type": "code",
   "execution_count": 317,
   "id": "a64e8931",
   "metadata": {},
   "outputs": [
    {
     "name": "stdout",
     "output_type": "stream",
     "text": [
      "[[283  46]\n",
      " [ 65 140]]\n"
     ]
    }
   ],
   "source": [
    "#create a confusion matrix\n",
    "cm = confusion_matrix(y_titanic_train, y_titanic_pred)\n",
    "print(cm)"
   ]
  },
  {
   "cell_type": "code",
   "execution_count": 318,
   "id": "251357fa",
   "metadata": {},
   "outputs": [
    {
     "data": {
      "image/png": "[encoded data removed]",
      "text/plain": [
       "<Figure size 432x288 with 2 Axes>"
      ]
     },
     "metadata": {
      "needs_background": "light"
     },
     "output_type": "display_data"
    }
   ],
   "source": [
    "#create a confusion matrix\n",
    "disp = ConfusionMatrixDisplay(confusion_matrix=cm, display_labels=rf.classes_)\n",
    "\n",
    "disp.plot()\n",
    "plt.show()"
   ]
  },
  {
   "cell_type": "code",
   "execution_count": 319,
   "id": "2be76165",
   "metadata": {},
   "outputs": [],
   "source": [
    "# create a classification report"
   ]
  },
  {
   "cell_type": "code",
   "execution_count": 320,
   "id": "5b3c527a",
   "metadata": {},
   "outputs": [
    {
     "data": {
      "text/plain": [
       "0.9438202247191011"
      ]
     },
     "execution_count": 320,
     "metadata": {},
     "output_type": "execute_result"
    }
   ],
   "source": [
    "rf.score(X_titanic_train, y_titanic_train)"
   ]
  },
  {
   "cell_type": "markdown",
   "id": "9c98f242",
   "metadata": {},
   "source": [
    "### 3. Print and clearly label the following: Accuracy, true positive rate, false positive rate, true negative rate, false negative rate, precision, recall, f1-score, and support.\n",
    "\n"
   ]
  },
  {
   "cell_type": "code",
   "execution_count": 324,
   "id": "e316f515",
   "metadata": {},
   "outputs": [
    {
     "data": {
      "text/plain": [
       "(140, 283, 46, 65)"
      ]
     },
     "execution_count": 324,
     "metadata": {},
     "output_type": "execute_result"
    }
   ],
   "source": [
    "# We can create our own classification report with a bit more info\n",
    "TN, FP, FN, TP = confusion_matrix(y_titanic_train,y_titanic_pred).ravel()\n",
    "ALL = TP + TN + FP + FN\n",
    "\n",
    "TP, TN, FP, FN"
   ]
  },
  {
   "cell_type": "code",
   "execution_count": 326,
   "id": "09306608",
   "metadata": {},
   "outputs": [
    {
     "name": "stdout",
     "output_type": "stream",
     "text": [
      "              precision    recall  f1-score   support\n",
      "\n",
      "           0       0.93      0.99      0.96       329\n",
      "           1       0.98      0.87      0.92       205\n",
      "\n",
      "    accuracy                           0.94       534\n",
      "   macro avg       0.95      0.93      0.94       534\n",
      "weighted avg       0.95      0.94      0.94       534\n",
      "\n"
     ]
    }
   ],
   "source": [
    "print(classification_report(y_titanic_train, rf.predict(X_titanic_train)))\n"
   ]
  },
  {
   "cell_type": "code",
   "execution_count": 327,
   "id": "707aa9db",
   "metadata": {},
   "outputs": [
    {
     "name": "stdout",
     "output_type": "stream",
     "text": [
      "Accuracy: 0.7921348314606742\n",
      "True Positive Rate: 0.6829268292682927\n",
      "False Positive Rate: 0.1398176291793313\n",
      "True Negative Rate: 0.8601823708206687\n",
      "False Negative Rate: 0.3170731707317073\n",
      "Precision: 0.7526881720430108\n",
      "Recall: 0.6829268292682927\n",
      "F1 Score: 0.7161125319693095\n",
      "Support (0): 205\n",
      "Support (1): 329\n"
     ]
    }
   ],
   "source": [
    "accuracy = (TP + TN)/ALL\n",
    "print(f\"Accuracy: {accuracy}\")\n",
    "\n",
    "true_positive_rate = TP/(TP+FN)\n",
    "print(f\"True Positive Rate: {true_positive_rate}\")\n",
    "\n",
    "false_positive_rate = FP/(FP+TN)\n",
    "print(f\"False Positive Rate: {false_positive_rate}\")\n",
    "\n",
    "true_negative_rate = TN/(TN+FP)\n",
    "print(f\"True Negative Rate: {true_negative_rate}\")\n",
    "\n",
    "false_negative_rate = FN/(FN+TP)\n",
    "print(f\"False Negative Rate: {false_negative_rate}\")\n",
    "\n",
    "precision = TP/(TP+FP)\n",
    "print(f\"Precision: {precision}\")\n",
    "\n",
    "recall = TP/(TP+FN)\n",
    "print(f\"Recall: {recall}\")\n",
    "\n",
    "f1_score = 2*(precision*recall)/(precision+recall)\n",
    "print(f\"F1 Score: {f1_score}\")\n",
    "\n",
    "support_pos = TP + FN\n",
    "print(f\"Support (0): {support_pos}\")\n",
    "\n",
    "support_neg = FP + TN\n",
    "print(f\"Support (1): {support_neg}\")"
   ]
  },
  {
   "cell_type": "code",
   "execution_count": null,
   "id": "349f4ccf",
   "metadata": {},
   "outputs": [],
   "source": [
    "#Accuracy: 79%\n",
    "#True Positive Rate: 68%\n",
    "#False Positive Rate: 13% \n",
    "#True Negative Rate: 86% \n",
    "#False Negative Rate: 31% \n",
    "#Support: 534"
   ]
  },
  {
   "cell_type": "markdown",
   "id": "24c1148c",
   "metadata": {},
   "source": [
    "### 4. Run through steps increasing your min_samples_leaf and decreasing your max_depth.\n",
    "\n"
   ]
  },
  {
   "cell_type": "code",
   "execution_count": 289,
   "id": "c0be7996",
   "metadata": {},
   "outputs": [
    {
     "name": "stdout",
     "output_type": "stream",
     "text": [
      "              precision    recall  f1-score   support\n",
      "\n",
      "           0       0.86      0.97      0.91       329\n",
      "           1       0.94      0.75      0.84       205\n",
      "\n",
      "    accuracy                           0.89       534\n",
      "   macro avg       0.90      0.86      0.88       534\n",
      "weighted avg       0.89      0.89      0.88       534\n",
      "\n",
      "              precision    recall  f1-score   support\n",
      "\n",
      "           0       0.85      0.96      0.90       329\n",
      "           1       0.92      0.74      0.82       205\n",
      "\n",
      "    accuracy                           0.87       534\n",
      "   macro avg       0.89      0.85      0.86       534\n",
      "weighted avg       0.88      0.87      0.87       534\n",
      "\n",
      "              precision    recall  f1-score   support\n",
      "\n",
      "           0       0.84      0.96      0.89       329\n",
      "           1       0.91      0.70      0.79       205\n",
      "\n",
      "    accuracy                           0.86       534\n",
      "   macro avg       0.87      0.83      0.84       534\n",
      "weighted avg       0.86      0.86      0.85       534\n",
      "\n",
      "              precision    recall  f1-score   support\n",
      "\n",
      "           0       0.82      0.95      0.88       329\n",
      "           1       0.89      0.66      0.76       205\n",
      "\n",
      "    accuracy                           0.84       534\n",
      "   macro avg       0.86      0.80      0.82       534\n",
      "weighted avg       0.85      0.84      0.83       534\n",
      "\n",
      "              precision    recall  f1-score   support\n",
      "\n",
      "           0       0.82      0.94      0.88       329\n",
      "           1       0.88      0.66      0.76       205\n",
      "\n",
      "    accuracy                           0.84       534\n",
      "   macro avg       0.85      0.80      0.82       534\n",
      "weighted avg       0.84      0.84      0.83       534\n",
      "\n",
      "              precision    recall  f1-score   support\n",
      "\n",
      "           0       0.81      0.93      0.86       329\n",
      "           1       0.85      0.65      0.73       205\n",
      "\n",
      "    accuracy                           0.82       534\n",
      "   macro avg       0.83      0.79      0.80       534\n",
      "weighted avg       0.82      0.82      0.81       534\n",
      "\n",
      "              precision    recall  f1-score   support\n",
      "\n",
      "           0       0.76      0.95      0.84       329\n",
      "           1       0.86      0.52      0.65       205\n",
      "\n",
      "    accuracy                           0.78       534\n",
      "   macro avg       0.81      0.73      0.74       534\n",
      "weighted avg       0.80      0.78      0.77       534\n",
      "\n",
      "              precision    recall  f1-score   support\n",
      "\n",
      "           0       0.74      0.99      0.84       329\n",
      "           1       0.96      0.43      0.60       205\n",
      "\n",
      "    accuracy                           0.78       534\n",
      "   macro avg       0.85      0.71      0.72       534\n",
      "weighted avg       0.82      0.78      0.75       534\n",
      "\n"
     ]
    }
   ],
   "source": [
    "models = [rf]\n",
    "start = 2\n",
    "stop = 10\n",
    "\n",
    "for i in range(start, stop):\n",
    "    clf = RandomForestClassifier(min_samples_leaf = i, max_depth = stop - i)\n",
    "    clf.fit(X_titanic_train, y_titanic_train)\n",
    "    print(classification_report(y_titanic_train, clf.predict(X_titanic_train)))\n",
    "    \n",
    "    models.append(clf)"
   ]
  },
  {
   "cell_type": "code",
   "execution_count": 292,
   "id": "aeafa145",
   "metadata": {},
   "outputs": [
    {
     "name": "stdout",
     "output_type": "stream",
     "text": [
      "              precision    recall  f1-score   support\n",
      "\n",
      "           0       0.76      0.96      0.85       329\n",
      "           1       0.90      0.52      0.66       205\n",
      "\n",
      "    accuracy                           0.79       534\n",
      "   macro avg       0.83      0.74      0.76       534\n",
      "weighted avg       0.82      0.79      0.78       534\n",
      "\n",
      "              precision    recall  f1-score   support\n",
      "\n",
      "           0       0.81      0.93      0.87       329\n",
      "           1       0.85      0.66      0.74       205\n",
      "\n",
      "    accuracy                           0.82       534\n",
      "   macro avg       0.83      0.79      0.80       534\n",
      "weighted avg       0.83      0.82      0.82       534\n",
      "\n",
      "              precision    recall  f1-score   support\n",
      "\n",
      "           0       0.83      0.95      0.88       329\n",
      "           1       0.89      0.68      0.77       205\n",
      "\n",
      "    accuracy                           0.85       534\n",
      "   macro avg       0.86      0.82      0.83       534\n",
      "weighted avg       0.85      0.85      0.84       534\n",
      "\n",
      "              precision    recall  f1-score   support\n",
      "\n",
      "           0       0.84      0.95      0.89       329\n",
      "           1       0.91      0.71      0.79       205\n",
      "\n",
      "    accuracy                           0.86       534\n",
      "   macro avg       0.87      0.83      0.84       534\n",
      "weighted avg       0.87      0.86      0.86       534\n",
      "\n",
      "              precision    recall  f1-score   support\n",
      "\n",
      "           0       0.85      0.97      0.91       329\n",
      "           1       0.94      0.73      0.82       205\n",
      "\n",
      "    accuracy                           0.88       534\n",
      "   macro avg       0.90      0.85      0.87       534\n",
      "weighted avg       0.89      0.88      0.88       534\n",
      "\n",
      "              precision    recall  f1-score   support\n",
      "\n",
      "           0       0.88      0.97      0.92       329\n",
      "           1       0.95      0.79      0.86       205\n",
      "\n",
      "    accuracy                           0.90       534\n",
      "   macro avg       0.91      0.88      0.89       534\n",
      "weighted avg       0.91      0.90      0.90       534\n",
      "\n",
      "              precision    recall  f1-score   support\n",
      "\n",
      "           0       0.91      0.98      0.95       329\n",
      "           1       0.97      0.85      0.91       205\n",
      "\n",
      "    accuracy                           0.93       534\n",
      "   macro avg       0.94      0.92      0.93       534\n",
      "weighted avg       0.94      0.93      0.93       534\n",
      "\n",
      "              precision    recall  f1-score   support\n",
      "\n",
      "           0       0.92      0.98      0.95       329\n",
      "           1       0.97      0.87      0.92       205\n",
      "\n",
      "    accuracy                           0.94       534\n",
      "   macro avg       0.95      0.93      0.94       534\n",
      "weighted avg       0.94      0.94      0.94       534\n",
      "\n"
     ]
    }
   ],
   "source": [
    "models = [rf]\n",
    "start = 2\n",
    "stop = 10\n",
    "\n",
    "for i in range(start, stop):\n",
    "    clf = RandomForestClassifier(max_depth = i, random_state = 123)\n",
    "    clf.fit(X_titanic_train, y_titanic_train)\n",
    "    print(classification_report(y_titanic_train, clf.predict(X_titanic_train)))\n",
    "    \n",
    "    models.append(clf)"
   ]
  },
  {
   "cell_type": "code",
   "execution_count": 308,
   "id": "05706061",
   "metadata": {},
   "outputs": [
    {
     "data": {
      "text/html": [
       "<div>\n",
       "<style scoped>\n",
       "    .dataframe tbody tr th:only-of-type {\n",
       "        vertical-align: middle;\n",
       "    }\n",
       "\n",
       "    .dataframe tbody tr th {\n",
       "        vertical-align: top;\n",
       "    }\n",
       "\n",
       "    .dataframe thead th {\n",
       "        text-align: right;\n",
       "    }\n",
       "</style>\n",
       "<table border=\"1\" class=\"dataframe\">\n",
       "  <thead>\n",
       "    <tr style=\"text-align: right;\">\n",
       "      <th></th>\n",
       "      <th>max_depth</th>\n",
       "      <th>train_accuracy</th>\n",
       "      <th>validate_accuracy</th>\n",
       "      <th>difference</th>\n",
       "    </tr>\n",
       "  </thead>\n",
       "  <tbody>\n",
       "    <tr>\n",
       "      <th>0</th>\n",
       "      <td>2</td>\n",
       "      <td>0.794007</td>\n",
       "      <td>0.786517</td>\n",
       "      <td>0.007491</td>\n",
       "    </tr>\n",
       "    <tr>\n",
       "      <th>1</th>\n",
       "      <td>3</td>\n",
       "      <td>0.823970</td>\n",
       "      <td>0.803371</td>\n",
       "      <td>0.020599</td>\n",
       "    </tr>\n",
       "    <tr>\n",
       "      <th>2</th>\n",
       "      <td>4</td>\n",
       "      <td>0.846442</td>\n",
       "      <td>0.803371</td>\n",
       "      <td>0.043071</td>\n",
       "    </tr>\n",
       "    <tr>\n",
       "      <th>3</th>\n",
       "      <td>5</td>\n",
       "      <td>0.859551</td>\n",
       "      <td>0.797753</td>\n",
       "      <td>0.061798</td>\n",
       "    </tr>\n",
       "    <tr>\n",
       "      <th>4</th>\n",
       "      <td>6</td>\n",
       "      <td>0.880150</td>\n",
       "      <td>0.786517</td>\n",
       "      <td>0.093633</td>\n",
       "    </tr>\n",
       "    <tr>\n",
       "      <th>5</th>\n",
       "      <td>7</td>\n",
       "      <td>0.902622</td>\n",
       "      <td>0.792135</td>\n",
       "      <td>0.110487</td>\n",
       "    </tr>\n",
       "    <tr>\n",
       "      <th>6</th>\n",
       "      <td>8</td>\n",
       "      <td>0.932584</td>\n",
       "      <td>0.775281</td>\n",
       "      <td>0.157303</td>\n",
       "    </tr>\n",
       "    <tr>\n",
       "      <th>7</th>\n",
       "      <td>9</td>\n",
       "      <td>0.940075</td>\n",
       "      <td>0.775281</td>\n",
       "      <td>0.164794</td>\n",
       "    </tr>\n",
       "    <tr>\n",
       "      <th>8</th>\n",
       "      <td>10</td>\n",
       "      <td>0.943820</td>\n",
       "      <td>0.758427</td>\n",
       "      <td>0.185393</td>\n",
       "    </tr>\n",
       "    <tr>\n",
       "      <th>9</th>\n",
       "      <td>11</td>\n",
       "      <td>0.943820</td>\n",
       "      <td>0.764045</td>\n",
       "      <td>0.179775</td>\n",
       "    </tr>\n",
       "    <tr>\n",
       "      <th>10</th>\n",
       "      <td>12</td>\n",
       "      <td>0.945693</td>\n",
       "      <td>0.764045</td>\n",
       "      <td>0.181648</td>\n",
       "    </tr>\n",
       "    <tr>\n",
       "      <th>11</th>\n",
       "      <td>13</td>\n",
       "      <td>0.945693</td>\n",
       "      <td>0.758427</td>\n",
       "      <td>0.187266</td>\n",
       "    </tr>\n",
       "    <tr>\n",
       "      <th>12</th>\n",
       "      <td>14</td>\n",
       "      <td>0.945693</td>\n",
       "      <td>0.764045</td>\n",
       "      <td>0.181648</td>\n",
       "    </tr>\n",
       "    <tr>\n",
       "      <th>13</th>\n",
       "      <td>15</td>\n",
       "      <td>0.945693</td>\n",
       "      <td>0.758427</td>\n",
       "      <td>0.187266</td>\n",
       "    </tr>\n",
       "    <tr>\n",
       "      <th>14</th>\n",
       "      <td>16</td>\n",
       "      <td>0.945693</td>\n",
       "      <td>0.764045</td>\n",
       "      <td>0.181648</td>\n",
       "    </tr>\n",
       "    <tr>\n",
       "      <th>15</th>\n",
       "      <td>17</td>\n",
       "      <td>0.945693</td>\n",
       "      <td>0.764045</td>\n",
       "      <td>0.181648</td>\n",
       "    </tr>\n",
       "    <tr>\n",
       "      <th>16</th>\n",
       "      <td>18</td>\n",
       "      <td>0.945693</td>\n",
       "      <td>0.764045</td>\n",
       "      <td>0.181648</td>\n",
       "    </tr>\n",
       "    <tr>\n",
       "      <th>17</th>\n",
       "      <td>19</td>\n",
       "      <td>0.945693</td>\n",
       "      <td>0.764045</td>\n",
       "      <td>0.181648</td>\n",
       "    </tr>\n",
       "  </tbody>\n",
       "</table>\n",
       "</div>"
      ],
      "text/plain": [
       "    max_depth  train_accuracy  validate_accuracy  difference\n",
       "0           2        0.794007           0.786517    0.007491\n",
       "1           3        0.823970           0.803371    0.020599\n",
       "2           4        0.846442           0.803371    0.043071\n",
       "3           5        0.859551           0.797753    0.061798\n",
       "4           6        0.880150           0.786517    0.093633\n",
       "5           7        0.902622           0.792135    0.110487\n",
       "6           8        0.932584           0.775281    0.157303\n",
       "7           9        0.940075           0.775281    0.164794\n",
       "8          10        0.943820           0.758427    0.185393\n",
       "9          11        0.943820           0.764045    0.179775\n",
       "10         12        0.945693           0.764045    0.181648\n",
       "11         13        0.945693           0.758427    0.187266\n",
       "12         14        0.945693           0.764045    0.181648\n",
       "13         15        0.945693           0.758427    0.187266\n",
       "14         16        0.945693           0.764045    0.181648\n",
       "15         17        0.945693           0.764045    0.181648\n",
       "16         18        0.945693           0.764045    0.181648\n",
       "17         19        0.945693           0.764045    0.181648"
      ]
     },
     "execution_count": 308,
     "metadata": {},
     "output_type": "execute_result"
    }
   ],
   "source": [
    "# compare in-sample to out-of-sample\n",
    "metrics = []\n",
    "\n",
    "for i in range(2, 20):\n",
    "    # Make the thing\n",
    "    rf = RandomForestClassifier(max_depth=i, random_state=123)\n",
    "\n",
    "    # Fit the thing\n",
    "    rf = rf.fit(X_titanic_train, y_titanic_train)\n",
    "\n",
    "    # Use the thing\n",
    "    in_sample_accuracy = rf.score(X_titanic_train, y_titanic_train)\n",
    "    \n",
    "    out_of_sample_accuracy = rf.score(X_titanic_validate, y_titanic_validate)\n",
    "\n",
    "    output = {\n",
    "        \"max_depth\": i,\n",
    "        \"train_accuracy\": in_sample_accuracy,\n",
    "        \"validate_accuracy\": out_of_sample_accuracy\n",
    "    }\n",
    "    \n",
    "    metrics.append(output)\n",
    "    \n",
    "df = pd.DataFrame(metrics)\n",
    "df[\"difference\"] = df.train_accuracy - df.validate_accuracy\n",
    "df"
   ]
  },
  {
   "cell_type": "code",
   "execution_count": 306,
   "id": "1d3d61ce",
   "metadata": {},
   "outputs": [
    {
     "data": {
      "image/png": "[encoded data removed]",
      "text/plain": [
       "<Figure size 1296x648 with 1 Axes>"
      ]
     },
     "metadata": {
      "needs_background": "light"
     },
     "output_type": "display_data"
    }
   ],
   "source": [
    "#plot different accuracies and differences\n",
    "df.set_index('max_depth').plot(figsize = (18,9))\n",
    "plt.ylabel('Accuracy')\n",
    "plt.xticks(np.arange(0,21,1))\n",
    "plt.grid()"
   ]
  },
  {
   "cell_type": "code",
   "execution_count": 313,
   "id": "27aeb6f1",
   "metadata": {},
   "outputs": [
    {
     "data": {
      "text/html": [
       "<div>\n",
       "<style scoped>\n",
       "    .dataframe tbody tr th:only-of-type {\n",
       "        vertical-align: middle;\n",
       "    }\n",
       "\n",
       "    .dataframe tbody tr th {\n",
       "        vertical-align: top;\n",
       "    }\n",
       "\n",
       "    .dataframe thead th {\n",
       "        text-align: right;\n",
       "    }\n",
       "</style>\n",
       "<table border=\"1\" class=\"dataframe\">\n",
       "  <thead>\n",
       "    <tr style=\"text-align: right;\">\n",
       "      <th></th>\n",
       "      <th>min_samples_per_leaf</th>\n",
       "      <th>max_depth</th>\n",
       "      <th>train_accuracy</th>\n",
       "      <th>validate_accuracy</th>\n",
       "      <th>difference</th>\n",
       "    </tr>\n",
       "  </thead>\n",
       "  <tbody>\n",
       "    <tr>\n",
       "      <th>0</th>\n",
       "      <td>2</td>\n",
       "      <td>18</td>\n",
       "      <td>0.895131</td>\n",
       "      <td>0.786517</td>\n",
       "      <td>0.108614</td>\n",
       "    </tr>\n",
       "    <tr>\n",
       "      <th>1</th>\n",
       "      <td>3</td>\n",
       "      <td>17</td>\n",
       "      <td>0.880150</td>\n",
       "      <td>0.786517</td>\n",
       "      <td>0.093633</td>\n",
       "    </tr>\n",
       "    <tr>\n",
       "      <th>2</th>\n",
       "      <td>4</td>\n",
       "      <td>16</td>\n",
       "      <td>0.865169</td>\n",
       "      <td>0.803371</td>\n",
       "      <td>0.061798</td>\n",
       "    </tr>\n",
       "    <tr>\n",
       "      <th>3</th>\n",
       "      <td>5</td>\n",
       "      <td>15</td>\n",
       "      <td>0.846442</td>\n",
       "      <td>0.803371</td>\n",
       "      <td>0.043071</td>\n",
       "    </tr>\n",
       "    <tr>\n",
       "      <th>4</th>\n",
       "      <td>6</td>\n",
       "      <td>14</td>\n",
       "      <td>0.842697</td>\n",
       "      <td>0.808989</td>\n",
       "      <td>0.033708</td>\n",
       "    </tr>\n",
       "    <tr>\n",
       "      <th>5</th>\n",
       "      <td>7</td>\n",
       "      <td>13</td>\n",
       "      <td>0.840824</td>\n",
       "      <td>0.786517</td>\n",
       "      <td>0.054307</td>\n",
       "    </tr>\n",
       "    <tr>\n",
       "      <th>6</th>\n",
       "      <td>8</td>\n",
       "      <td>12</td>\n",
       "      <td>0.837079</td>\n",
       "      <td>0.792135</td>\n",
       "      <td>0.044944</td>\n",
       "    </tr>\n",
       "    <tr>\n",
       "      <th>7</th>\n",
       "      <td>9</td>\n",
       "      <td>11</td>\n",
       "      <td>0.833333</td>\n",
       "      <td>0.803371</td>\n",
       "      <td>0.029963</td>\n",
       "    </tr>\n",
       "    <tr>\n",
       "      <th>8</th>\n",
       "      <td>10</td>\n",
       "      <td>10</td>\n",
       "      <td>0.833333</td>\n",
       "      <td>0.808989</td>\n",
       "      <td>0.024345</td>\n",
       "    </tr>\n",
       "    <tr>\n",
       "      <th>9</th>\n",
       "      <td>11</td>\n",
       "      <td>9</td>\n",
       "      <td>0.823970</td>\n",
       "      <td>0.803371</td>\n",
       "      <td>0.020599</td>\n",
       "    </tr>\n",
       "    <tr>\n",
       "      <th>10</th>\n",
       "      <td>12</td>\n",
       "      <td>8</td>\n",
       "      <td>0.823970</td>\n",
       "      <td>0.808989</td>\n",
       "      <td>0.014981</td>\n",
       "    </tr>\n",
       "    <tr>\n",
       "      <th>11</th>\n",
       "      <td>13</td>\n",
       "      <td>7</td>\n",
       "      <td>0.822097</td>\n",
       "      <td>0.808989</td>\n",
       "      <td>0.013109</td>\n",
       "    </tr>\n",
       "    <tr>\n",
       "      <th>12</th>\n",
       "      <td>14</td>\n",
       "      <td>6</td>\n",
       "      <td>0.831461</td>\n",
       "      <td>0.814607</td>\n",
       "      <td>0.016854</td>\n",
       "    </tr>\n",
       "    <tr>\n",
       "      <th>13</th>\n",
       "      <td>15</td>\n",
       "      <td>5</td>\n",
       "      <td>0.823970</td>\n",
       "      <td>0.808989</td>\n",
       "      <td>0.014981</td>\n",
       "    </tr>\n",
       "    <tr>\n",
       "      <th>14</th>\n",
       "      <td>16</td>\n",
       "      <td>4</td>\n",
       "      <td>0.820225</td>\n",
       "      <td>0.797753</td>\n",
       "      <td>0.022472</td>\n",
       "    </tr>\n",
       "    <tr>\n",
       "      <th>15</th>\n",
       "      <td>17</td>\n",
       "      <td>3</td>\n",
       "      <td>0.822097</td>\n",
       "      <td>0.803371</td>\n",
       "      <td>0.018727</td>\n",
       "    </tr>\n",
       "    <tr>\n",
       "      <th>16</th>\n",
       "      <td>18</td>\n",
       "      <td>2</td>\n",
       "      <td>0.794007</td>\n",
       "      <td>0.786517</td>\n",
       "      <td>0.007491</td>\n",
       "    </tr>\n",
       "    <tr>\n",
       "      <th>17</th>\n",
       "      <td>19</td>\n",
       "      <td>1</td>\n",
       "      <td>0.754682</td>\n",
       "      <td>0.764045</td>\n",
       "      <td>-0.009363</td>\n",
       "    </tr>\n",
       "  </tbody>\n",
       "</table>\n",
       "</div>"
      ],
      "text/plain": [
       "    min_samples_per_leaf  max_depth  train_accuracy  validate_accuracy  \\\n",
       "0                      2         18        0.895131           0.786517   \n",
       "1                      3         17        0.880150           0.786517   \n",
       "2                      4         16        0.865169           0.803371   \n",
       "3                      5         15        0.846442           0.803371   \n",
       "4                      6         14        0.842697           0.808989   \n",
       "5                      7         13        0.840824           0.786517   \n",
       "6                      8         12        0.837079           0.792135   \n",
       "7                      9         11        0.833333           0.803371   \n",
       "8                     10         10        0.833333           0.808989   \n",
       "9                     11          9        0.823970           0.803371   \n",
       "10                    12          8        0.823970           0.808989   \n",
       "11                    13          7        0.822097           0.808989   \n",
       "12                    14          6        0.831461           0.814607   \n",
       "13                    15          5        0.823970           0.808989   \n",
       "14                    16          4        0.820225           0.797753   \n",
       "15                    17          3        0.822097           0.803371   \n",
       "16                    18          2        0.794007           0.786517   \n",
       "17                    19          1        0.754682           0.764045   \n",
       "\n",
       "    difference  \n",
       "0     0.108614  \n",
       "1     0.093633  \n",
       "2     0.061798  \n",
       "3     0.043071  \n",
       "4     0.033708  \n",
       "5     0.054307  \n",
       "6     0.044944  \n",
       "7     0.029963  \n",
       "8     0.024345  \n",
       "9     0.020599  \n",
       "10    0.014981  \n",
       "11    0.013109  \n",
       "12    0.016854  \n",
       "13    0.014981  \n",
       "14    0.022472  \n",
       "15    0.018727  \n",
       "16    0.007491  \n",
       "17   -0.009363  "
      ]
     },
     "execution_count": 313,
     "metadata": {},
     "output_type": "execute_result"
    }
   ],
   "source": [
    "# Increasing min_samples_per_leaf, decreasing max_depth\n",
    "metrics = []\n",
    "max_depth = 20\n",
    "\n",
    "for i in range(2, max_depth):\n",
    "    # Make the thing\n",
    "    depth = max_depth - i\n",
    "    n_samples = i\n",
    "    rf = RandomForestClassifier(max_depth=depth, min_samples_leaf=n_samples, random_state=123)\n",
    "\n",
    "    # Fit the thing\n",
    "    rf = rf.fit(X_titanic_train, y_titanic_train)\n",
    "\n",
    "    # Use the thing\n",
    "    in_sample_accuracy = rf.score(X_titanic_train, y_titanic_train)\n",
    "    \n",
    "    out_of_sample_accuracy = rf.score(X_titanic_validate, y_titanic_validate)\n",
    "\n",
    "    output = {\n",
    "        \"min_samples_per_leaf\": n_samples,\n",
    "        \"max_depth\": depth,\n",
    "        \"train_accuracy\": in_sample_accuracy,\n",
    "        \"validate_accuracy\": out_of_sample_accuracy\n",
    "    }\n",
    "    \n",
    "    metrics.append(output)\n",
    "    \n",
    "df = pd.DataFrame(metrics)\n",
    "df[\"difference\"] = df.train_accuracy - df.validate_accuracy\n",
    "df"
   ]
  },
  {
   "cell_type": "code",
   "execution_count": 314,
   "id": "832082ab",
   "metadata": {},
   "outputs": [
    {
     "data": {
      "image/png": "[encoded data removed]",
      "text/plain": [
       "<Figure size 1296x648 with 1 Axes>"
      ]
     },
     "metadata": {
      "needs_background": "light"
     },
     "output_type": "display_data"
    }
   ],
   "source": [
    "df.set_index('max_depth')[['train_accuracy', 'validate_accuracy','difference']].plot(figsize = (18,9))\n",
    "plt.ylabel('Accuracy')\n",
    "plt.xticks(np.arange(0,21,1))\n",
    "plt.grid()"
   ]
  },
  {
   "cell_type": "markdown",
   "id": "71b12ff3",
   "metadata": {},
   "source": [
    "### 5. What are the differences in the evaluation metrics? Which performs better on your in-sample data? Why?"
   ]
  },
  {
   "cell_type": "code",
   "execution_count": null,
   "id": "cad45287",
   "metadata": {},
   "outputs": [],
   "source": [
    "# there's differences in evaluation as seen above because we increased sample sizes and depth"
   ]
  },
  {
   "cell_type": "markdown",
   "id": "5ab6552f",
   "metadata": {},
   "source": [
    "## KNN EXERCISE"
   ]
  },
  {
   "cell_type": "markdown",
   "id": "a4ee7c65",
   "metadata": {},
   "source": [
    "### Continue working in your model file with the titanic dataset.\n",
    "\n",
    "### 1. Fit a K-Nearest Neighbors classifier to your training sample and transform (i.e. make predictions on the training sample)"
   ]
  },
  {
   "cell_type": "code",
   "execution_count": 489,
   "id": "52aff064",
   "metadata": {},
   "outputs": [],
   "source": [
    "# Quiet my warnings for the sake of the lesson:\n",
    "import warnings\n",
    "warnings.filterwarnings(\"ignore\")\n",
    "\n",
    "# Tabular data friends:\n",
    "import pandas as pd\n",
    "import numpy as np\n",
    "\n",
    "# Data viz:\n",
    "import matplotlib.pyplot as plt\n",
    "import seaborn as sns\n",
    "\n",
    "# Sklearn stuff:\n",
    "from sklearn.model_selection import train_test_split\n",
    "from sklearn.neighbors import KNeighborsClassifier\n",
    "from sklearn.metrics import classification_report, confusion_matrix, plot_confusion_matrix\n",
    "\n",
    "# Data acquisition\n",
    "from pydataset import data"
   ]
  },
  {
   "cell_type": "code",
   "execution_count": 490,
   "id": "02b5b5d5",
   "metadata": {},
   "outputs": [],
   "source": [
    "# get titanic data\n",
    "df = acquire.get_titanic_data()"
   ]
  },
  {
   "cell_type": "code",
   "execution_count": 491,
   "id": "86f9b52f",
   "metadata": {},
   "outputs": [
    {
     "data": {
      "text/html": [
       "<div>\n",
       "<style scoped>\n",
       "    .dataframe tbody tr th:only-of-type {\n",
       "        vertical-align: middle;\n",
       "    }\n",
       "\n",
       "    .dataframe tbody tr th {\n",
       "        vertical-align: top;\n",
       "    }\n",
       "\n",
       "    .dataframe thead th {\n",
       "        text-align: right;\n",
       "    }\n",
       "</style>\n",
       "<table border=\"1\" class=\"dataframe\">\n",
       "  <thead>\n",
       "    <tr style=\"text-align: right;\">\n",
       "      <th></th>\n",
       "      <th>passenger_id</th>\n",
       "      <th>survived</th>\n",
       "      <th>pclass</th>\n",
       "      <th>sex</th>\n",
       "      <th>age</th>\n",
       "      <th>sibsp</th>\n",
       "      <th>parch</th>\n",
       "      <th>fare</th>\n",
       "      <th>embarked</th>\n",
       "      <th>class</th>\n",
       "      <th>deck</th>\n",
       "      <th>embark_town</th>\n",
       "      <th>alone</th>\n",
       "    </tr>\n",
       "  </thead>\n",
       "  <tbody>\n",
       "    <tr>\n",
       "      <th>0</th>\n",
       "      <td>0</td>\n",
       "      <td>0</td>\n",
       "      <td>3</td>\n",
       "      <td>male</td>\n",
       "      <td>22.0</td>\n",
       "      <td>1</td>\n",
       "      <td>0</td>\n",
       "      <td>7.2500</td>\n",
       "      <td>S</td>\n",
       "      <td>Third</td>\n",
       "      <td>NaN</td>\n",
       "      <td>Southampton</td>\n",
       "      <td>0</td>\n",
       "    </tr>\n",
       "    <tr>\n",
       "      <th>1</th>\n",
       "      <td>1</td>\n",
       "      <td>1</td>\n",
       "      <td>1</td>\n",
       "      <td>female</td>\n",
       "      <td>38.0</td>\n",
       "      <td>1</td>\n",
       "      <td>0</td>\n",
       "      <td>71.2833</td>\n",
       "      <td>C</td>\n",
       "      <td>First</td>\n",
       "      <td>C</td>\n",
       "      <td>Cherbourg</td>\n",
       "      <td>0</td>\n",
       "    </tr>\n",
       "    <tr>\n",
       "      <th>2</th>\n",
       "      <td>2</td>\n",
       "      <td>1</td>\n",
       "      <td>3</td>\n",
       "      <td>female</td>\n",
       "      <td>26.0</td>\n",
       "      <td>0</td>\n",
       "      <td>0</td>\n",
       "      <td>7.9250</td>\n",
       "      <td>S</td>\n",
       "      <td>Third</td>\n",
       "      <td>NaN</td>\n",
       "      <td>Southampton</td>\n",
       "      <td>1</td>\n",
       "    </tr>\n",
       "    <tr>\n",
       "      <th>3</th>\n",
       "      <td>3</td>\n",
       "      <td>1</td>\n",
       "      <td>1</td>\n",
       "      <td>female</td>\n",
       "      <td>35.0</td>\n",
       "      <td>1</td>\n",
       "      <td>0</td>\n",
       "      <td>53.1000</td>\n",
       "      <td>S</td>\n",
       "      <td>First</td>\n",
       "      <td>C</td>\n",
       "      <td>Southampton</td>\n",
       "      <td>0</td>\n",
       "    </tr>\n",
       "    <tr>\n",
       "      <th>4</th>\n",
       "      <td>4</td>\n",
       "      <td>0</td>\n",
       "      <td>3</td>\n",
       "      <td>male</td>\n",
       "      <td>35.0</td>\n",
       "      <td>0</td>\n",
       "      <td>0</td>\n",
       "      <td>8.0500</td>\n",
       "      <td>S</td>\n",
       "      <td>Third</td>\n",
       "      <td>NaN</td>\n",
       "      <td>Southampton</td>\n",
       "      <td>1</td>\n",
       "    </tr>\n",
       "  </tbody>\n",
       "</table>\n",
       "</div>"
      ],
      "text/plain": [
       "   passenger_id  survived  pclass     sex   age  sibsp  parch     fare  \\\n",
       "0             0         0       3    male  22.0      1      0   7.2500   \n",
       "1             1         1       1  female  38.0      1      0  71.2833   \n",
       "2             2         1       3  female  26.0      0      0   7.9250   \n",
       "3             3         1       1  female  35.0      1      0  53.1000   \n",
       "4             4         0       3    male  35.0      0      0   8.0500   \n",
       "\n",
       "  embarked  class deck  embark_town  alone  \n",
       "0        S  Third  NaN  Southampton      0  \n",
       "1        C  First    C    Cherbourg      0  \n",
       "2        S  Third  NaN  Southampton      1  \n",
       "3        S  First    C  Southampton      0  \n",
       "4        S  Third  NaN  Southampton      1  "
      ]
     },
     "execution_count": 491,
     "metadata": {},
     "output_type": "execute_result"
    }
   ],
   "source": [
    "# view first few rows\n",
    "df.head()"
   ]
  },
  {
   "cell_type": "code",
   "execution_count": 492,
   "id": "836252d4",
   "metadata": {},
   "outputs": [],
   "source": [
    "df1 = prepare.prep_titanic(df)"
   ]
  },
  {
   "cell_type": "code",
   "execution_count": 493,
   "id": "a6c7c193",
   "metadata": {},
   "outputs": [
    {
     "data": {
      "text/html": [
       "<div>\n",
       "<style scoped>\n",
       "    .dataframe tbody tr th:only-of-type {\n",
       "        vertical-align: middle;\n",
       "    }\n",
       "\n",
       "    .dataframe tbody tr th {\n",
       "        vertical-align: top;\n",
       "    }\n",
       "\n",
       "    .dataframe thead th {\n",
       "        text-align: right;\n",
       "    }\n",
       "</style>\n",
       "<table border=\"1\" class=\"dataframe\">\n",
       "  <thead>\n",
       "    <tr style=\"text-align: right;\">\n",
       "      <th></th>\n",
       "      <th>survived</th>\n",
       "      <th>pclass</th>\n",
       "      <th>sex</th>\n",
       "      <th>age</th>\n",
       "      <th>sibsp</th>\n",
       "      <th>parch</th>\n",
       "      <th>fare</th>\n",
       "      <th>alone</th>\n",
       "    </tr>\n",
       "  </thead>\n",
       "  <tbody>\n",
       "    <tr>\n",
       "      <th>0</th>\n",
       "      <td>0</td>\n",
       "      <td>3</td>\n",
       "      <td>male</td>\n",
       "      <td>22.0</td>\n",
       "      <td>1</td>\n",
       "      <td>0</td>\n",
       "      <td>7.2500</td>\n",
       "      <td>0</td>\n",
       "    </tr>\n",
       "    <tr>\n",
       "      <th>1</th>\n",
       "      <td>1</td>\n",
       "      <td>1</td>\n",
       "      <td>female</td>\n",
       "      <td>38.0</td>\n",
       "      <td>1</td>\n",
       "      <td>0</td>\n",
       "      <td>71.2833</td>\n",
       "      <td>0</td>\n",
       "    </tr>\n",
       "    <tr>\n",
       "      <th>2</th>\n",
       "      <td>1</td>\n",
       "      <td>3</td>\n",
       "      <td>female</td>\n",
       "      <td>26.0</td>\n",
       "      <td>0</td>\n",
       "      <td>0</td>\n",
       "      <td>7.9250</td>\n",
       "      <td>1</td>\n",
       "    </tr>\n",
       "    <tr>\n",
       "      <th>3</th>\n",
       "      <td>1</td>\n",
       "      <td>1</td>\n",
       "      <td>female</td>\n",
       "      <td>35.0</td>\n",
       "      <td>1</td>\n",
       "      <td>0</td>\n",
       "      <td>53.1000</td>\n",
       "      <td>0</td>\n",
       "    </tr>\n",
       "    <tr>\n",
       "      <th>4</th>\n",
       "      <td>0</td>\n",
       "      <td>3</td>\n",
       "      <td>male</td>\n",
       "      <td>35.0</td>\n",
       "      <td>0</td>\n",
       "      <td>0</td>\n",
       "      <td>8.0500</td>\n",
       "      <td>1</td>\n",
       "    </tr>\n",
       "    <tr>\n",
       "      <th>...</th>\n",
       "      <td>...</td>\n",
       "      <td>...</td>\n",
       "      <td>...</td>\n",
       "      <td>...</td>\n",
       "      <td>...</td>\n",
       "      <td>...</td>\n",
       "      <td>...</td>\n",
       "      <td>...</td>\n",
       "    </tr>\n",
       "    <tr>\n",
       "      <th>886</th>\n",
       "      <td>0</td>\n",
       "      <td>2</td>\n",
       "      <td>male</td>\n",
       "      <td>27.0</td>\n",
       "      <td>0</td>\n",
       "      <td>0</td>\n",
       "      <td>13.0000</td>\n",
       "      <td>1</td>\n",
       "    </tr>\n",
       "    <tr>\n",
       "      <th>887</th>\n",
       "      <td>1</td>\n",
       "      <td>1</td>\n",
       "      <td>female</td>\n",
       "      <td>19.0</td>\n",
       "      <td>0</td>\n",
       "      <td>0</td>\n",
       "      <td>30.0000</td>\n",
       "      <td>1</td>\n",
       "    </tr>\n",
       "    <tr>\n",
       "      <th>888</th>\n",
       "      <td>0</td>\n",
       "      <td>3</td>\n",
       "      <td>female</td>\n",
       "      <td>NaN</td>\n",
       "      <td>1</td>\n",
       "      <td>2</td>\n",
       "      <td>23.4500</td>\n",
       "      <td>0</td>\n",
       "    </tr>\n",
       "    <tr>\n",
       "      <th>889</th>\n",
       "      <td>1</td>\n",
       "      <td>1</td>\n",
       "      <td>male</td>\n",
       "      <td>26.0</td>\n",
       "      <td>0</td>\n",
       "      <td>0</td>\n",
       "      <td>30.0000</td>\n",
       "      <td>1</td>\n",
       "    </tr>\n",
       "    <tr>\n",
       "      <th>890</th>\n",
       "      <td>0</td>\n",
       "      <td>3</td>\n",
       "      <td>male</td>\n",
       "      <td>32.0</td>\n",
       "      <td>0</td>\n",
       "      <td>0</td>\n",
       "      <td>7.7500</td>\n",
       "      <td>1</td>\n",
       "    </tr>\n",
       "  </tbody>\n",
       "</table>\n",
       "<p>891 rows × 8 columns</p>\n",
       "</div>"
      ],
      "text/plain": [
       "     survived  pclass     sex   age  sibsp  parch     fare  alone\n",
       "0           0       3    male  22.0      1      0   7.2500      0\n",
       "1           1       1  female  38.0      1      0  71.2833      0\n",
       "2           1       3  female  26.0      0      0   7.9250      1\n",
       "3           1       1  female  35.0      1      0  53.1000      0\n",
       "4           0       3    male  35.0      0      0   8.0500      1\n",
       "..        ...     ...     ...   ...    ...    ...      ...    ...\n",
       "886         0       2    male  27.0      0      0  13.0000      1\n",
       "887         1       1  female  19.0      0      0  30.0000      1\n",
       "888         0       3  female   NaN      1      2  23.4500      0\n",
       "889         1       1    male  26.0      0      0  30.0000      1\n",
       "890         0       3    male  32.0      0      0   7.7500      1\n",
       "\n",
       "[891 rows x 8 columns]"
      ]
     },
     "execution_count": 493,
     "metadata": {},
     "output_type": "execute_result"
    }
   ],
   "source": [
    "df1 = df.drop(columns = ['embarked', 'class','passenger_id', 'deck', 'embark_town'])\n",
    "df1"
   ]
  },
  {
   "cell_type": "code",
   "execution_count": 494,
   "id": "0f473257",
   "metadata": {},
   "outputs": [
    {
     "data": {
      "text/plain": [
       "((534, 9), (178, 9), (179, 9))"
      ]
     },
     "execution_count": 494,
     "metadata": {},
     "output_type": "execute_result"
    }
   ],
   "source": [
    "#shape\n",
    "titanic_train.shape, titanic_validate.shape, titanic_test.shape\n"
   ]
  },
  {
   "cell_type": "code",
   "execution_count": 495,
   "id": "3ce8ef92",
   "metadata": {},
   "outputs": [
    {
     "data": {
      "text/html": [
       "<div>\n",
       "<style scoped>\n",
       "    .dataframe tbody tr th:only-of-type {\n",
       "        vertical-align: middle;\n",
       "    }\n",
       "\n",
       "    .dataframe tbody tr th {\n",
       "        vertical-align: top;\n",
       "    }\n",
       "\n",
       "    .dataframe thead th {\n",
       "        text-align: right;\n",
       "    }\n",
       "</style>\n",
       "<table border=\"1\" class=\"dataframe\">\n",
       "  <thead>\n",
       "    <tr style=\"text-align: right;\">\n",
       "      <th></th>\n",
       "      <th>survived</th>\n",
       "      <th>pclass</th>\n",
       "      <th>sibsp</th>\n",
       "      <th>parch</th>\n",
       "      <th>fare</th>\n",
       "      <th>alone</th>\n",
       "      <th>sex_male</th>\n",
       "      <th>embark_town_Queenstown</th>\n",
       "      <th>embark_town_Southampton</th>\n",
       "    </tr>\n",
       "  </thead>\n",
       "  <tbody>\n",
       "    <tr>\n",
       "      <th>455</th>\n",
       "      <td>1</td>\n",
       "      <td>3</td>\n",
       "      <td>0</td>\n",
       "      <td>0</td>\n",
       "      <td>7.8958</td>\n",
       "      <td>1</td>\n",
       "      <td>1</td>\n",
       "      <td>0</td>\n",
       "      <td>0</td>\n",
       "    </tr>\n",
       "    <tr>\n",
       "      <th>380</th>\n",
       "      <td>1</td>\n",
       "      <td>1</td>\n",
       "      <td>0</td>\n",
       "      <td>0</td>\n",
       "      <td>227.5250</td>\n",
       "      <td>1</td>\n",
       "      <td>0</td>\n",
       "      <td>0</td>\n",
       "      <td>0</td>\n",
       "    </tr>\n",
       "    <tr>\n",
       "      <th>492</th>\n",
       "      <td>0</td>\n",
       "      <td>1</td>\n",
       "      <td>0</td>\n",
       "      <td>0</td>\n",
       "      <td>30.5000</td>\n",
       "      <td>1</td>\n",
       "      <td>1</td>\n",
       "      <td>0</td>\n",
       "      <td>1</td>\n",
       "    </tr>\n",
       "    <tr>\n",
       "      <th>55</th>\n",
       "      <td>1</td>\n",
       "      <td>1</td>\n",
       "      <td>0</td>\n",
       "      <td>0</td>\n",
       "      <td>35.5000</td>\n",
       "      <td>1</td>\n",
       "      <td>1</td>\n",
       "      <td>0</td>\n",
       "      <td>1</td>\n",
       "    </tr>\n",
       "    <tr>\n",
       "      <th>243</th>\n",
       "      <td>0</td>\n",
       "      <td>3</td>\n",
       "      <td>0</td>\n",
       "      <td>0</td>\n",
       "      <td>7.1250</td>\n",
       "      <td>1</td>\n",
       "      <td>1</td>\n",
       "      <td>0</td>\n",
       "      <td>1</td>\n",
       "    </tr>\n",
       "  </tbody>\n",
       "</table>\n",
       "</div>"
      ],
      "text/plain": [
       "     survived  pclass  sibsp  parch      fare  alone  sex_male  \\\n",
       "455         1       3      0      0    7.8958      1         1   \n",
       "380         1       1      0      0  227.5250      1         0   \n",
       "492         0       1      0      0   30.5000      1         1   \n",
       "55          1       1      0      0   35.5000      1         1   \n",
       "243         0       3      0      0    7.1250      1         1   \n",
       "\n",
       "     embark_town_Queenstown  embark_town_Southampton  \n",
       "455                       0                        0  \n",
       "380                       0                        0  \n",
       "492                       0                        1  \n",
       "55                        0                        1  \n",
       "243                       0                        1  "
      ]
     },
     "execution_count": 495,
     "metadata": {},
     "output_type": "execute_result"
    }
   ],
   "source": [
    "titanic_train.head()"
   ]
  },
  {
   "cell_type": "code",
   "execution_count": 496,
   "id": "35278137",
   "metadata": {},
   "outputs": [],
   "source": [
    "# X is indepedent variables\n",
    "# y is target variable\n",
    "\n",
    "# x and y train\n",
    "X_titanic_train = titanic_train.drop(columns = 'survived')\n",
    "y_titanic_train = titanic_train.survived\n",
    "\n",
    "# x and y validate\n",
    "X_titanic_validate = titanic_validate.drop(columns = 'survived')\n",
    "y_titanic_validate = titanic_validate.survived\n",
    "\n",
    "# x and y test\n",
    "X_titanic_test = titanic_test.drop(columns = 'survived')\n",
    "y_titanic_test = titanic_test.survived"
   ]
  },
  {
   "cell_type": "code",
   "execution_count": 497,
   "id": "e424d3f9",
   "metadata": {},
   "outputs": [
    {
     "data": {
      "text/plain": [
       "Index(['pclass', 'sibsp', 'parch', 'fare', 'alone', 'sex_male',\n",
       "       'embark_town_Queenstown', 'embark_town_Southampton'],\n",
       "      dtype='object')"
      ]
     },
     "execution_count": 497,
     "metadata": {},
     "output_type": "execute_result"
    }
   ],
   "source": [
    "X_titanic_train.columns"
   ]
  },
  {
   "cell_type": "code",
   "execution_count": 498,
   "id": "0bf1cb8c",
   "metadata": {},
   "outputs": [
    {
     "data": {
      "text/plain": [
       "Index(['pclass', 'sibsp', 'parch', 'fare', 'alone', 'sex_male',\n",
       "       'embark_town_Queenstown', 'embark_town_Southampton'],\n",
       "      dtype='object')"
      ]
     },
     "execution_count": 498,
     "metadata": {},
     "output_type": "execute_result"
    }
   ],
   "source": [
    "X_titanic_validate.columns"
   ]
  },
  {
   "cell_type": "markdown",
   "id": "17096c41",
   "metadata": {},
   "source": [
    "### 2. Evaluate your results using the model score, confusion matrix, and classification report."
   ]
  },
  {
   "cell_type": "code",
   "execution_count": 600,
   "id": "0b8ab126",
   "metadata": {},
   "outputs": [],
   "source": [
    "# make the thing\n",
    "knn1 = KNeighborsClassifier()"
   ]
  },
  {
   "cell_type": "code",
   "execution_count": 601,
   "id": "eedf816b",
   "metadata": {},
   "outputs": [
    {
     "data": {
      "text/plain": [
       "KNeighborsClassifier()"
      ]
     },
     "execution_count": 601,
     "metadata": {},
     "output_type": "execute_result"
    }
   ],
   "source": [
    "# fit the thing\n",
    "knn1.fit(X_titanic_train, y_titanic_train)"
   ]
  },
  {
   "cell_type": "code",
   "execution_count": 602,
   "id": "95a6167e",
   "metadata": {},
   "outputs": [],
   "source": [
    "# use the thing\n",
    "y_pred = knn1.predict(X_titanic_train)"
   ]
  },
  {
   "cell_type": "code",
   "execution_count": 618,
   "id": "bcb8d7b0",
   "metadata": {},
   "outputs": [
    {
     "data": {
      "text/plain": [
       "array([0, 1, 1, 0, 0, 1, 1, 0, 1, 1, 0, 0, 1, 0, 0, 1, 1, 0, 0, 0, 1, 0,\n",
       "       0, 0, 0, 0, 0, 0, 1, 0, 0, 0, 0, 0, 1, 0, 0, 0, 0, 1, 1, 0, 0, 0,\n",
       "       0, 0, 1, 1, 0, 0, 0, 1, 0, 1, 0, 0, 0, 1, 0, 1, 0, 0, 0, 0, 1, 1,\n",
       "       0, 1, 1, 1, 0, 1, 0, 0, 0, 0, 0, 0, 0, 0, 1, 0, 0, 1, 0, 0, 0, 1,\n",
       "       0, 0, 1, 1, 1, 0, 1, 1, 1, 0, 0, 1, 1, 0, 1, 0, 1, 0, 1, 1, 0, 0,\n",
       "       0, 0, 1, 0, 1, 0, 1, 0, 0, 0, 1, 0, 1, 0, 1, 0, 0, 1, 1, 1, 0, 1,\n",
       "       0, 1, 0, 1, 0, 0, 1, 1, 0, 0, 0, 0, 0, 1, 0, 1, 1, 1, 1, 0, 1, 0,\n",
       "       0, 1, 1, 0, 0, 0, 0, 0, 1, 0, 0, 1, 0, 1, 1, 0, 1, 0, 1, 1, 1, 0,\n",
       "       1, 0, 0, 0, 1, 0, 0, 0, 0, 0, 1, 1, 1, 0, 0, 0, 0, 0, 0, 1, 0, 1,\n",
       "       0, 1, 1, 0, 0, 0, 0, 0, 0, 0, 1, 0, 0, 0, 0, 0, 0, 0, 0, 0, 0, 0,\n",
       "       0, 0, 0, 0, 0, 0, 0, 1, 0, 0, 0, 1, 0, 1, 0, 0, 1, 0, 1, 0, 0, 1,\n",
       "       1, 1, 0, 0, 1, 0, 0, 0, 0, 0, 0, 0, 1, 0, 0, 1, 1, 0, 1, 0, 1, 1,\n",
       "       1, 1, 1, 0, 0, 0, 1, 0, 0, 1, 0, 0, 0, 1, 0, 1, 0, 1, 1, 0, 1, 0,\n",
       "       1, 1, 0, 0, 1, 1, 0, 1, 0, 1, 1, 0, 1, 0, 0, 0, 0, 0, 0, 0, 0, 1,\n",
       "       1, 1, 0, 0, 0, 1, 0, 1, 0, 0, 0, 1, 0, 0, 0, 1, 0, 0, 0, 0, 1, 0,\n",
       "       0, 0, 0, 1, 1, 0, 0, 0, 0, 0, 0, 0, 1, 0, 0, 0, 0, 1, 1, 0, 1, 0,\n",
       "       1, 0, 1, 0, 0, 1, 1, 1, 1, 0, 1, 1, 0, 0, 0, 1, 0, 1, 0, 1, 0, 0,\n",
       "       1, 1, 1, 0, 1, 1, 0, 0, 0, 0, 1, 1, 0, 0, 1, 1, 1, 1, 1, 1, 0, 0,\n",
       "       1, 0, 0, 0, 0, 0, 0, 1, 1, 0, 0, 1, 0, 0, 0, 0, 0, 0, 0, 0, 1, 1,\n",
       "       1, 0, 0, 0, 1, 0, 0, 1, 1, 0, 0, 1, 0, 1, 0, 0, 0, 0, 0, 1, 0, 0,\n",
       "       0, 1, 0, 1, 0, 0, 1, 0, 0, 1, 0, 0, 0, 1, 1, 0, 1, 1, 0, 0, 0, 0,\n",
       "       0, 1, 1, 0, 1, 1, 0, 1, 1, 0, 0, 0, 0, 0, 0, 1, 1, 1, 0, 1, 1, 0,\n",
       "       0, 0, 0, 0, 0, 1, 0, 0, 1, 0, 1, 0, 1, 1, 0, 0, 1, 1, 0, 1, 0, 0,\n",
       "       0, 0, 1, 1, 0, 0, 1, 0, 0, 0, 0, 0, 1, 1, 1, 1, 0, 1, 0, 1, 0, 0,\n",
       "       1, 0, 1, 0, 0, 1])"
      ]
     },
     "execution_count": 618,
     "metadata": {},
     "output_type": "execute_result"
    }
   ],
   "source": [
    "y_pred"
   ]
  },
  {
   "cell_type": "code",
   "execution_count": 619,
   "id": "ac30f3fa",
   "metadata": {},
   "outputs": [
    {
     "name": "stdout",
     "output_type": "stream",
     "text": [
      "              precision    recall  f1-score   support\n",
      "\n",
      "           0       0.85      0.85      0.85       329\n",
      "           1       0.76      0.76      0.76       205\n",
      "\n",
      "    accuracy                           0.81       534\n",
      "   macro avg       0.80      0.80      0.80       534\n",
      "weighted avg       0.81      0.81      0.81       534\n",
      "\n"
     ]
    }
   ],
   "source": [
    "print(classification_report(y_titanic_train, knn1.predict(X_titanic_train)))"
   ]
  },
  {
   "cell_type": "code",
   "execution_count": 620,
   "id": "931bfcb8",
   "metadata": {},
   "outputs": [
    {
     "data": {
      "text/plain": [
       "array([[280,  49],\n",
       "       [ 50, 155]])"
      ]
     },
     "execution_count": 620,
     "metadata": {},
     "output_type": "execute_result"
    }
   ],
   "source": [
    "#create a confusion matrix\n",
    "cm = confusion_matrix(y_titanic_train, y_pred)\n",
    "cm"
   ]
  },
  {
   "cell_type": "code",
   "execution_count": 621,
   "id": "edc6016d",
   "metadata": {},
   "outputs": [
    {
     "data": {
      "image/png": "[encoded data removed]",
      "text/plain": [
       "<Figure size 432x288 with 2 Axes>"
      ]
     },
     "metadata": {
      "needs_background": "light"
     },
     "output_type": "display_data"
    }
   ],
   "source": [
    "#create a confusion matrix\n",
    "disp = ConfusionMatrixDisplay(confusion_matrix=cm, display_labels=knn1.classes_)\n",
    "\n",
    "disp.plot()\n",
    "plt.show()"
   ]
  },
  {
   "cell_type": "code",
   "execution_count": 622,
   "id": "2d1f8f7f",
   "metadata": {},
   "outputs": [
    {
     "data": {
      "text/html": [
       "<div>\n",
       "<style scoped>\n",
       "    .dataframe tbody tr th:only-of-type {\n",
       "        vertical-align: middle;\n",
       "    }\n",
       "\n",
       "    .dataframe tbody tr th {\n",
       "        vertical-align: top;\n",
       "    }\n",
       "\n",
       "    .dataframe thead th {\n",
       "        text-align: right;\n",
       "    }\n",
       "</style>\n",
       "<table border=\"1\" class=\"dataframe\">\n",
       "  <thead>\n",
       "    <tr style=\"text-align: right;\">\n",
       "      <th></th>\n",
       "      <th>0</th>\n",
       "      <th>1</th>\n",
       "      <th>accuracy</th>\n",
       "      <th>macro avg</th>\n",
       "      <th>weighted avg</th>\n",
       "    </tr>\n",
       "  </thead>\n",
       "  <tbody>\n",
       "    <tr>\n",
       "      <th>precision</th>\n",
       "      <td>0.848485</td>\n",
       "      <td>0.759804</td>\n",
       "      <td>0.814607</td>\n",
       "      <td>0.804144</td>\n",
       "      <td>0.814441</td>\n",
       "    </tr>\n",
       "    <tr>\n",
       "      <th>recall</th>\n",
       "      <td>0.851064</td>\n",
       "      <td>0.756098</td>\n",
       "      <td>0.814607</td>\n",
       "      <td>0.803581</td>\n",
       "      <td>0.814607</td>\n",
       "    </tr>\n",
       "    <tr>\n",
       "      <th>f1-score</th>\n",
       "      <td>0.849772</td>\n",
       "      <td>0.757946</td>\n",
       "      <td>0.814607</td>\n",
       "      <td>0.803859</td>\n",
       "      <td>0.814521</td>\n",
       "    </tr>\n",
       "    <tr>\n",
       "      <th>support</th>\n",
       "      <td>329.000000</td>\n",
       "      <td>205.000000</td>\n",
       "      <td>0.814607</td>\n",
       "      <td>534.000000</td>\n",
       "      <td>534.000000</td>\n",
       "    </tr>\n",
       "  </tbody>\n",
       "</table>\n",
       "</div>"
      ],
      "text/plain": [
       "                    0           1  accuracy   macro avg  weighted avg\n",
       "precision    0.848485    0.759804  0.814607    0.804144      0.814441\n",
       "recall       0.851064    0.756098  0.814607    0.803581      0.814607\n",
       "f1-score     0.849772    0.757946  0.814607    0.803859      0.814521\n",
       "support    329.000000  205.000000  0.814607  534.000000    534.000000"
      ]
     },
     "execution_count": 622,
     "metadata": {},
     "output_type": "execute_result"
    }
   ],
   "source": [
    "#classification report\n",
    "pd.DataFrame(classification_report(y_titanic_train,y_pred,output_dict= True))"
   ]
  },
  {
   "cell_type": "code",
   "execution_count": 623,
   "id": "cc60298b",
   "metadata": {},
   "outputs": [
    {
     "data": {
      "text/plain": [
       "(155, 280, 49, 50)"
      ]
     },
     "execution_count": 623,
     "metadata": {},
     "output_type": "execute_result"
    }
   ],
   "source": [
    "# We can create our own classification report with a bit more info\n",
    "TN, FP, FN, TP = confusion_matrix(y_titanic_train,y_pred).ravel()\n",
    "ALL = TP + TN + FP + FN\n",
    "\n",
    "TP, TN, FP, FN"
   ]
  },
  {
   "cell_type": "markdown",
   "id": "3ee4c686",
   "metadata": {},
   "source": [
    "### 3. Print and clearly label the following: Accuracy, true positive rate, false positive rate, true negative rate, false negative rate, precision, recall, f1-score, and support.\n",
    "\n"
   ]
  },
  {
   "cell_type": "code",
   "execution_count": 624,
   "id": "d618fa6d",
   "metadata": {},
   "outputs": [
    {
     "name": "stdout",
     "output_type": "stream",
     "text": [
      "Accuracy: 0.8146067415730337\n",
      "True Positive Rate: 0.7560975609756098\n",
      "False Positive Rate: 0.14893617021276595\n",
      "True Negative Rate: 0.851063829787234\n",
      "False Negative Rate: 0.24390243902439024\n",
      "Precision: 0.7598039215686274\n",
      "Recall: 0.7560975609756098\n",
      "F1 Score: 0.7579462102689486\n",
      "Support (0): 205\n",
      "Support (1): 329\n"
     ]
    }
   ],
   "source": [
    "accuracy = (TP + TN)/ALL\n",
    "print(f\"Accuracy: {accuracy}\")\n",
    "\n",
    "true_positive_rate = TP/(TP+FN)\n",
    "print(f\"True Positive Rate: {true_positive_rate}\")\n",
    "\n",
    "false_positive_rate = FP/(FP+TN)\n",
    "print(f\"False Positive Rate: {false_positive_rate}\")\n",
    "\n",
    "true_negative_rate = TN/(TN+FP)\n",
    "print(f\"True Negative Rate: {true_negative_rate}\")\n",
    "\n",
    "false_negative_rate = FN/(FN+TP)\n",
    "print(f\"False Negative Rate: {false_negative_rate}\")\n",
    "\n",
    "precision = TP/(TP+FP)\n",
    "print(f\"Precision: {precision}\")\n",
    "\n",
    "recall = TP/(TP+FN)\n",
    "print(f\"Recall: {recall}\")\n",
    "\n",
    "f1_score = 2*(precision*recall)/(precision+recall)\n",
    "print(f\"F1 Score: {f1_score}\")\n",
    "\n",
    "support_pos = TP + FN\n",
    "print(f\"Support (0): {support_pos}\")\n",
    "\n",
    "support_neg = FP + TN\n",
    "print(f\"Support (1): {support_neg}\")"
   ]
  },
  {
   "cell_type": "markdown",
   "id": "f30ea8ef",
   "metadata": {},
   "source": [
    "### 4. Run through steps 2-4 setting k to 10"
   ]
  },
  {
   "cell_type": "code",
   "execution_count": 625,
   "id": "fe658d2f",
   "metadata": {},
   "outputs": [],
   "source": [
    "# k = 10\n",
    "# make the thing\n",
    "knn2 = KNeighborsClassifier(n_neighbors = 10)"
   ]
  },
  {
   "cell_type": "code",
   "execution_count": 626,
   "id": "2d12a65e",
   "metadata": {},
   "outputs": [
    {
     "data": {
      "text/plain": [
       "KNeighborsClassifier(n_neighbors=10)"
      ]
     },
     "execution_count": 626,
     "metadata": {},
     "output_type": "execute_result"
    }
   ],
   "source": [
    "# fit the thing\n",
    "knn2.fit(X_titanic_train, y_titanic_train)"
   ]
  },
  {
   "cell_type": "code",
   "execution_count": 627,
   "id": "09359042",
   "metadata": {},
   "outputs": [],
   "source": [
    "# use the thing\n",
    "y_pred10 = knn2.predict(X_titanic_train)"
   ]
  },
  {
   "cell_type": "code",
   "execution_count": 628,
   "id": "761576f4",
   "metadata": {},
   "outputs": [
    {
     "data": {
      "text/plain": [
       "array([0, 1, 1, 0, 0, 0, 1, 0, 1, 1, 0, 0, 0, 0, 0, 1, 1, 0, 0, 0, 1, 0,\n",
       "       0, 0, 0, 0, 0, 0, 1, 0, 1, 0, 0, 0, 0, 0, 0, 0, 0, 0, 1, 0, 0, 0,\n",
       "       0, 0, 1, 1, 0, 0, 0, 0, 1, 1, 0, 0, 0, 1, 0, 1, 0, 0, 0, 0, 1, 1,\n",
       "       0, 1, 0, 1, 0, 1, 0, 0, 0, 0, 0, 0, 0, 0, 1, 0, 0, 1, 0, 0, 0, 1,\n",
       "       0, 0, 1, 1, 0, 0, 1, 1, 1, 0, 0, 1, 1, 1, 1, 0, 1, 1, 1, 1, 0, 0,\n",
       "       0, 0, 1, 0, 0, 0, 1, 0, 0, 0, 1, 0, 1, 0, 1, 0, 0, 0, 1, 1, 0, 1,\n",
       "       0, 1, 0, 0, 0, 0, 0, 0, 0, 0, 0, 0, 0, 1, 0, 0, 1, 1, 1, 0, 0, 0,\n",
       "       0, 1, 1, 0, 0, 0, 0, 0, 1, 0, 0, 1, 0, 1, 1, 0, 1, 1, 1, 1, 1, 0,\n",
       "       1, 0, 0, 0, 1, 0, 0, 0, 0, 0, 1, 0, 1, 0, 0, 0, 0, 0, 0, 1, 0, 0,\n",
       "       0, 1, 1, 0, 0, 0, 0, 0, 0, 0, 1, 0, 0, 0, 0, 0, 0, 0, 0, 0, 0, 0,\n",
       "       0, 0, 0, 0, 0, 0, 0, 1, 0, 0, 0, 1, 1, 1, 0, 0, 0, 0, 1, 0, 0, 1,\n",
       "       1, 1, 0, 0, 1, 0, 0, 0, 0, 0, 0, 1, 1, 0, 0, 1, 1, 0, 0, 0, 1, 0,\n",
       "       1, 0, 1, 0, 0, 0, 1, 0, 0, 0, 0, 0, 0, 0, 0, 1, 0, 1, 1, 0, 0, 0,\n",
       "       1, 1, 0, 0, 0, 1, 0, 1, 0, 1, 1, 0, 1, 0, 0, 0, 0, 0, 0, 0, 0, 0,\n",
       "       1, 1, 0, 0, 0, 0, 0, 1, 0, 0, 0, 1, 0, 0, 1, 1, 0, 0, 0, 0, 0, 0,\n",
       "       0, 0, 0, 0, 1, 0, 0, 0, 0, 0, 0, 0, 1, 0, 0, 0, 0, 1, 1, 0, 1, 0,\n",
       "       1, 0, 1, 0, 0, 1, 1, 1, 1, 0, 1, 1, 1, 0, 0, 1, 0, 1, 0, 1, 0, 1,\n",
       "       1, 0, 1, 0, 0, 1, 0, 0, 0, 1, 1, 0, 0, 0, 1, 1, 1, 1, 0, 0, 0, 0,\n",
       "       1, 0, 0, 0, 0, 0, 0, 1, 0, 0, 0, 1, 0, 0, 0, 0, 0, 0, 0, 0, 1, 1,\n",
       "       1, 0, 1, 0, 1, 0, 0, 1, 1, 0, 0, 1, 0, 1, 0, 0, 0, 0, 0, 1, 0, 0,\n",
       "       0, 1, 0, 1, 0, 0, 1, 0, 0, 0, 0, 0, 0, 1, 1, 0, 0, 1, 0, 0, 0, 0,\n",
       "       0, 1, 1, 0, 1, 1, 0, 1, 1, 0, 0, 0, 0, 0, 0, 1, 0, 1, 0, 1, 0, 0,\n",
       "       0, 0, 0, 0, 0, 1, 0, 0, 0, 0, 0, 0, 1, 1, 0, 0, 1, 1, 0, 1, 0, 0,\n",
       "       0, 0, 1, 1, 0, 0, 1, 0, 0, 0, 0, 0, 1, 1, 0, 1, 0, 1, 0, 1, 0, 0,\n",
       "       1, 0, 1, 0, 0, 1])"
      ]
     },
     "execution_count": 628,
     "metadata": {},
     "output_type": "execute_result"
    }
   ],
   "source": [
    "y_pred10"
   ]
  },
  {
   "cell_type": "code",
   "execution_count": 630,
   "id": "debb4a1f",
   "metadata": {},
   "outputs": [
    {
     "name": "stdout",
     "output_type": "stream",
     "text": [
      "              precision    recall  f1-score   support\n",
      "\n",
      "           0       0.80      0.87      0.83       329\n",
      "           1       0.75      0.64      0.69       205\n",
      "\n",
      "    accuracy                           0.78       534\n",
      "   macro avg       0.78      0.76      0.76       534\n",
      "weighted avg       0.78      0.78      0.78       534\n",
      "\n"
     ]
    }
   ],
   "source": [
    "print(classification_report(y_titanic_train, knn2.predict(X_titanic_train)))"
   ]
  },
  {
   "cell_type": "code",
   "execution_count": 631,
   "id": "72d8469f",
   "metadata": {},
   "outputs": [
    {
     "data": {
      "text/plain": [
       "array([[286,  43],\n",
       "       [ 73, 132]])"
      ]
     },
     "execution_count": 631,
     "metadata": {},
     "output_type": "execute_result"
    }
   ],
   "source": [
    "#create a confusion matrix\n",
    "cm = confusion_matrix(y_titanic_train, y_pred10)\n",
    "cm"
   ]
  },
  {
   "cell_type": "code",
   "execution_count": 632,
   "id": "b5abfbb3",
   "metadata": {},
   "outputs": [
    {
     "data": {
      "image/png": "[encoded data removed]",
      "text/plain": [
       "<Figure size 432x288 with 2 Axes>"
      ]
     },
     "metadata": {
      "needs_background": "light"
     },
     "output_type": "display_data"
    }
   ],
   "source": [
    "#create a confusion matrix\n",
    "disp = ConfusionMatrixDisplay(confusion_matrix=cm, display_labels=knn2.classes_)\n",
    "\n",
    "disp.plot()\n",
    "plt.show()"
   ]
  },
  {
   "cell_type": "code",
   "execution_count": 633,
   "id": "79c41cfb",
   "metadata": {},
   "outputs": [
    {
     "data": {
      "text/html": [
       "<div>\n",
       "<style scoped>\n",
       "    .dataframe tbody tr th:only-of-type {\n",
       "        vertical-align: middle;\n",
       "    }\n",
       "\n",
       "    .dataframe tbody tr th {\n",
       "        vertical-align: top;\n",
       "    }\n",
       "\n",
       "    .dataframe thead th {\n",
       "        text-align: right;\n",
       "    }\n",
       "</style>\n",
       "<table border=\"1\" class=\"dataframe\">\n",
       "  <thead>\n",
       "    <tr style=\"text-align: right;\">\n",
       "      <th></th>\n",
       "      <th>0</th>\n",
       "      <th>1</th>\n",
       "      <th>accuracy</th>\n",
       "      <th>macro avg</th>\n",
       "      <th>weighted avg</th>\n",
       "    </tr>\n",
       "  </thead>\n",
       "  <tbody>\n",
       "    <tr>\n",
       "      <th>precision</th>\n",
       "      <td>0.796657</td>\n",
       "      <td>0.754286</td>\n",
       "      <td>0.782772</td>\n",
       "      <td>0.775472</td>\n",
       "      <td>0.780391</td>\n",
       "    </tr>\n",
       "    <tr>\n",
       "      <th>recall</th>\n",
       "      <td>0.869301</td>\n",
       "      <td>0.643902</td>\n",
       "      <td>0.782772</td>\n",
       "      <td>0.756602</td>\n",
       "      <td>0.782772</td>\n",
       "    </tr>\n",
       "    <tr>\n",
       "      <th>f1-score</th>\n",
       "      <td>0.831395</td>\n",
       "      <td>0.694737</td>\n",
       "      <td>0.782772</td>\n",
       "      <td>0.763066</td>\n",
       "      <td>0.778933</td>\n",
       "    </tr>\n",
       "    <tr>\n",
       "      <th>support</th>\n",
       "      <td>329.000000</td>\n",
       "      <td>205.000000</td>\n",
       "      <td>0.782772</td>\n",
       "      <td>534.000000</td>\n",
       "      <td>534.000000</td>\n",
       "    </tr>\n",
       "  </tbody>\n",
       "</table>\n",
       "</div>"
      ],
      "text/plain": [
       "                    0           1  accuracy   macro avg  weighted avg\n",
       "precision    0.796657    0.754286  0.782772    0.775472      0.780391\n",
       "recall       0.869301    0.643902  0.782772    0.756602      0.782772\n",
       "f1-score     0.831395    0.694737  0.782772    0.763066      0.778933\n",
       "support    329.000000  205.000000  0.782772  534.000000    534.000000"
      ]
     },
     "execution_count": 633,
     "metadata": {},
     "output_type": "execute_result"
    }
   ],
   "source": [
    "#classification report\n",
    "pd.DataFrame(classification_report(y_titanic_train,y_pred10,output_dict= True))"
   ]
  },
  {
   "cell_type": "code",
   "execution_count": 634,
   "id": "9c2877b6",
   "metadata": {},
   "outputs": [
    {
     "data": {
      "text/plain": [
       "(132, 286, 43, 73)"
      ]
     },
     "execution_count": 634,
     "metadata": {},
     "output_type": "execute_result"
    }
   ],
   "source": [
    "# We can create our own classification report with a bit more info\n",
    "TN, FP, FN, TP = confusion_matrix(y_titanic_train,y_pred10).ravel()\n",
    "ALL = TP + TN + FP + FN\n",
    "\n",
    "TP, TN, FP, FN"
   ]
  },
  {
   "cell_type": "code",
   "execution_count": 635,
   "id": "ec017f47",
   "metadata": {},
   "outputs": [
    {
     "name": "stdout",
     "output_type": "stream",
     "text": [
      "Accuracy: 0.7827715355805244\n",
      "True Positive Rate: 0.6439024390243903\n",
      "False Positive Rate: 0.13069908814589665\n",
      "True Negative Rate: 0.8693009118541033\n",
      "False Negative Rate: 0.35609756097560974\n",
      "Precision: 0.7542857142857143\n",
      "Recall: 0.6439024390243903\n",
      "F1 Score: 0.6947368421052631\n",
      "Support (0): 205\n",
      "Support (1): 329\n"
     ]
    }
   ],
   "source": [
    "accuracy = (TP + TN)/ALL\n",
    "print(f\"Accuracy: {accuracy}\")\n",
    "\n",
    "true_positive_rate = TP/(TP+FN)\n",
    "print(f\"True Positive Rate: {true_positive_rate}\")\n",
    "\n",
    "false_positive_rate = FP/(FP+TN)\n",
    "print(f\"False Positive Rate: {false_positive_rate}\")\n",
    "\n",
    "true_negative_rate = TN/(TN+FP)\n",
    "print(f\"True Negative Rate: {true_negative_rate}\")\n",
    "\n",
    "false_negative_rate = FN/(FN+TP)\n",
    "print(f\"False Negative Rate: {false_negative_rate}\")\n",
    "\n",
    "precision = TP/(TP+FP)\n",
    "print(f\"Precision: {precision}\")\n",
    "\n",
    "recall = TP/(TP+FN)\n",
    "print(f\"Recall: {recall}\")\n",
    "\n",
    "f1_score = 2*(precision*recall)/(precision+recall)\n",
    "print(f\"F1 Score: {f1_score}\")\n",
    "\n",
    "support_pos = TP + FN\n",
    "print(f\"Support (0): {support_pos}\")\n",
    "\n",
    "support_neg = FP + TN\n",
    "print(f\"Support (1): {support_neg}\")"
   ]
  },
  {
   "cell_type": "markdown",
   "id": "84fe4839",
   "metadata": {},
   "source": [
    "### 5. Run through setps 2-4 setting k to 20"
   ]
  },
  {
   "cell_type": "code",
   "execution_count": 636,
   "id": "e59bfa4c",
   "metadata": {},
   "outputs": [],
   "source": [
    "# k = 20\n",
    "# make the thing\n",
    "knn3 = KNeighborsClassifier(n_neighbors = 20)"
   ]
  },
  {
   "cell_type": "code",
   "execution_count": 637,
   "id": "072a2daa",
   "metadata": {},
   "outputs": [
    {
     "data": {
      "text/plain": [
       "KNeighborsClassifier(n_neighbors=20)"
      ]
     },
     "execution_count": 637,
     "metadata": {},
     "output_type": "execute_result"
    }
   ],
   "source": [
    "# fit the thing\n",
    "knn3.fit(X_titanic_train, y_titanic_train)"
   ]
  },
  {
   "cell_type": "code",
   "execution_count": 638,
   "id": "b8a9c9b1",
   "metadata": {},
   "outputs": [],
   "source": [
    "# use the thing\n",
    "y_pred20 = knn3.predict(X_titanic_train)"
   ]
  },
  {
   "cell_type": "code",
   "execution_count": 639,
   "id": "8edaf1eb",
   "metadata": {},
   "outputs": [
    {
     "data": {
      "text/plain": [
       "array([0, 1, 0, 0, 0, 0, 1, 0, 0, 0, 0, 0, 0, 0, 0, 0, 1, 0, 0, 0, 1, 0,\n",
       "       0, 0, 0, 0, 0, 0, 1, 0, 1, 0, 0, 0, 0, 0, 0, 0, 0, 0, 0, 0, 0, 0,\n",
       "       0, 0, 1, 1, 0, 0, 0, 0, 0, 1, 0, 0, 0, 1, 0, 1, 0, 0, 0, 0, 1, 1,\n",
       "       1, 0, 0, 1, 0, 1, 0, 0, 0, 0, 0, 0, 0, 0, 0, 0, 0, 1, 0, 0, 0, 1,\n",
       "       0, 0, 1, 0, 0, 0, 1, 1, 1, 0, 0, 1, 0, 1, 0, 0, 1, 1, 1, 0, 0, 0,\n",
       "       0, 0, 1, 0, 0, 0, 1, 0, 0, 0, 1, 0, 1, 0, 1, 0, 0, 0, 0, 1, 0, 1,\n",
       "       0, 0, 0, 0, 0, 0, 0, 0, 0, 0, 0, 0, 0, 1, 0, 0, 1, 1, 1, 0, 0, 0,\n",
       "       0, 1, 1, 1, 0, 0, 0, 0, 1, 0, 0, 0, 0, 1, 0, 0, 1, 1, 1, 0, 1, 0,\n",
       "       1, 0, 0, 0, 1, 0, 0, 0, 0, 0, 1, 0, 1, 0, 0, 0, 0, 0, 0, 1, 0, 0,\n",
       "       0, 1, 1, 0, 0, 0, 0, 0, 0, 0, 1, 0, 0, 0, 0, 1, 0, 0, 0, 1, 0, 0,\n",
       "       0, 0, 0, 0, 0, 0, 0, 1, 0, 0, 0, 1, 1, 0, 0, 0, 0, 0, 1, 0, 0, 1,\n",
       "       1, 1, 0, 0, 1, 0, 0, 0, 1, 0, 0, 1, 1, 0, 0, 0, 1, 0, 0, 0, 1, 0,\n",
       "       0, 0, 1, 0, 0, 0, 1, 0, 0, 1, 0, 0, 0, 0, 0, 1, 0, 0, 1, 0, 0, 0,\n",
       "       1, 1, 0, 1, 0, 1, 0, 1, 0, 0, 1, 0, 0, 0, 0, 0, 0, 0, 0, 0, 0, 0,\n",
       "       1, 1, 0, 0, 0, 0, 0, 1, 0, 0, 0, 1, 0, 0, 1, 1, 0, 0, 0, 1, 0, 0,\n",
       "       0, 0, 0, 0, 0, 0, 0, 0, 0, 0, 1, 0, 1, 0, 0, 0, 0, 0, 1, 0, 0, 0,\n",
       "       1, 0, 0, 0, 0, 1, 1, 1, 1, 0, 1, 1, 1, 1, 0, 1, 0, 1, 0, 1, 0, 1,\n",
       "       1, 0, 1, 1, 1, 1, 0, 0, 0, 1, 0, 0, 0, 0, 1, 1, 1, 1, 0, 0, 1, 0,\n",
       "       1, 0, 0, 0, 0, 0, 0, 1, 0, 0, 0, 1, 0, 0, 0, 0, 0, 0, 0, 1, 0, 1,\n",
       "       1, 0, 0, 0, 1, 0, 0, 1, 1, 0, 0, 0, 0, 1, 0, 0, 0, 0, 0, 1, 0, 0,\n",
       "       0, 1, 0, 1, 0, 0, 1, 1, 0, 0, 0, 0, 0, 0, 1, 0, 0, 0, 0, 0, 0, 0,\n",
       "       0, 1, 0, 0, 0, 1, 0, 0, 1, 0, 0, 0, 0, 0, 0, 0, 0, 1, 0, 1, 0, 0,\n",
       "       0, 0, 0, 0, 0, 1, 0, 0, 0, 0, 1, 0, 1, 1, 0, 0, 1, 1, 0, 1, 0, 0,\n",
       "       0, 0, 1, 1, 0, 0, 1, 0, 0, 0, 0, 0, 1, 1, 0, 1, 0, 1, 0, 1, 0, 0,\n",
       "       0, 0, 0, 0, 0, 1])"
      ]
     },
     "execution_count": 639,
     "metadata": {},
     "output_type": "execute_result"
    }
   ],
   "source": [
    "y_pred20"
   ]
  },
  {
   "cell_type": "code",
   "execution_count": 640,
   "id": "881fde01",
   "metadata": {},
   "outputs": [
    {
     "name": "stdout",
     "output_type": "stream",
     "text": [
      "              precision    recall  f1-score   support\n",
      "\n",
      "           0       0.75      0.87      0.81       329\n",
      "           1       0.72      0.54      0.62       205\n",
      "\n",
      "    accuracy                           0.74       534\n",
      "   macro avg       0.74      0.70      0.71       534\n",
      "weighted avg       0.74      0.74      0.73       534\n",
      "\n"
     ]
    }
   ],
   "source": [
    "print(classification_report(y_titanic_train, knn3.predict(X_titanic_train)))"
   ]
  },
  {
   "cell_type": "code",
   "execution_count": 585,
   "id": "4937adea",
   "metadata": {},
   "outputs": [
    {
     "data": {
      "text/plain": [
       "array([[287,  42],\n",
       "       [ 95, 110]])"
      ]
     },
     "execution_count": 585,
     "metadata": {},
     "output_type": "execute_result"
    }
   ],
   "source": [
    "#create a confusion matrix\n",
    "cm = confusion_matrix(y_titanic_train, y_pred20)\n",
    "cm"
   ]
  },
  {
   "cell_type": "code",
   "execution_count": 641,
   "id": "dc318dae",
   "metadata": {},
   "outputs": [
    {
     "data": {
      "image/png": "[encoded data removed]",
      "text/plain": [
       "<Figure size 432x288 with 2 Axes>"
      ]
     },
     "metadata": {
      "needs_background": "light"
     },
     "output_type": "display_data"
    }
   ],
   "source": [
    "#create a confusion matrix\n",
    "disp = ConfusionMatrixDisplay(confusion_matrix=cm, display_labels=knn3.classes_)\n",
    "\n",
    "disp.plot()\n",
    "plt.show()"
   ]
  },
  {
   "cell_type": "code",
   "execution_count": 642,
   "id": "51b19a70",
   "metadata": {},
   "outputs": [
    {
     "data": {
      "text/html": [
       "<div>\n",
       "<style scoped>\n",
       "    .dataframe tbody tr th:only-of-type {\n",
       "        vertical-align: middle;\n",
       "    }\n",
       "\n",
       "    .dataframe tbody tr th {\n",
       "        vertical-align: top;\n",
       "    }\n",
       "\n",
       "    .dataframe thead th {\n",
       "        text-align: right;\n",
       "    }\n",
       "</style>\n",
       "<table border=\"1\" class=\"dataframe\">\n",
       "  <thead>\n",
       "    <tr style=\"text-align: right;\">\n",
       "      <th></th>\n",
       "      <th>0</th>\n",
       "      <th>1</th>\n",
       "      <th>accuracy</th>\n",
       "      <th>macro avg</th>\n",
       "      <th>weighted avg</th>\n",
       "    </tr>\n",
       "  </thead>\n",
       "  <tbody>\n",
       "    <tr>\n",
       "      <th>precision</th>\n",
       "      <td>0.751309</td>\n",
       "      <td>0.723684</td>\n",
       "      <td>0.743446</td>\n",
       "      <td>0.737497</td>\n",
       "      <td>0.740704</td>\n",
       "    </tr>\n",
       "    <tr>\n",
       "      <th>recall</th>\n",
       "      <td>0.872340</td>\n",
       "      <td>0.536585</td>\n",
       "      <td>0.743446</td>\n",
       "      <td>0.704463</td>\n",
       "      <td>0.743446</td>\n",
       "    </tr>\n",
       "    <tr>\n",
       "      <th>f1-score</th>\n",
       "      <td>0.807314</td>\n",
       "      <td>0.616246</td>\n",
       "      <td>0.743446</td>\n",
       "      <td>0.711780</td>\n",
       "      <td>0.733964</td>\n",
       "    </tr>\n",
       "    <tr>\n",
       "      <th>support</th>\n",
       "      <td>329.000000</td>\n",
       "      <td>205.000000</td>\n",
       "      <td>0.743446</td>\n",
       "      <td>534.000000</td>\n",
       "      <td>534.000000</td>\n",
       "    </tr>\n",
       "  </tbody>\n",
       "</table>\n",
       "</div>"
      ],
      "text/plain": [
       "                    0           1  accuracy   macro avg  weighted avg\n",
       "precision    0.751309    0.723684  0.743446    0.737497      0.740704\n",
       "recall       0.872340    0.536585  0.743446    0.704463      0.743446\n",
       "f1-score     0.807314    0.616246  0.743446    0.711780      0.733964\n",
       "support    329.000000  205.000000  0.743446  534.000000    534.000000"
      ]
     },
     "execution_count": 642,
     "metadata": {},
     "output_type": "execute_result"
    }
   ],
   "source": [
    "#classification report\n",
    "pd.DataFrame(classification_report(y_titanic_train,y_pred20,output_dict= True))"
   ]
  },
  {
   "cell_type": "code",
   "execution_count": 643,
   "id": "12dc52dc",
   "metadata": {},
   "outputs": [
    {
     "data": {
      "text/plain": [
       "(110, 287, 42, 95)"
      ]
     },
     "execution_count": 643,
     "metadata": {},
     "output_type": "execute_result"
    }
   ],
   "source": [
    "# We can create our own classification report with a bit more info\n",
    "TN, FP, FN, TP = confusion_matrix(y_titanic_train,y_pred20).ravel()\n",
    "ALL = TP + TN + FP + FN\n",
    "\n",
    "TP, TN, FP, FN"
   ]
  },
  {
   "cell_type": "code",
   "execution_count": 644,
   "id": "48e7dc56",
   "metadata": {},
   "outputs": [
    {
     "name": "stdout",
     "output_type": "stream",
     "text": [
      "Accuracy: 0.7434456928838952\n",
      "True Positive Rate: 0.5365853658536586\n",
      "False Positive Rate: 0.1276595744680851\n",
      "True Negative Rate: 0.8723404255319149\n",
      "False Negative Rate: 0.4634146341463415\n",
      "Precision: 0.7236842105263158\n",
      "Recall: 0.5365853658536586\n",
      "F1 Score: 0.6162464985994398\n",
      "Support (0): 205\n",
      "Support (1): 329\n"
     ]
    }
   ],
   "source": [
    "accuracy = (TP + TN)/ALL\n",
    "print(f\"Accuracy: {accuracy}\")\n",
    "\n",
    "true_positive_rate = TP/(TP+FN)\n",
    "print(f\"True Positive Rate: {true_positive_rate}\")\n",
    "\n",
    "false_positive_rate = FP/(FP+TN)\n",
    "print(f\"False Positive Rate: {false_positive_rate}\")\n",
    "\n",
    "true_negative_rate = TN/(TN+FP)\n",
    "print(f\"True Negative Rate: {true_negative_rate}\")\n",
    "\n",
    "false_negative_rate = FN/(FN+TP)\n",
    "print(f\"False Negative Rate: {false_negative_rate}\")\n",
    "\n",
    "precision = TP/(TP+FP)\n",
    "print(f\"Precision: {precision}\")\n",
    "\n",
    "recall = TP/(TP+FN)\n",
    "print(f\"Recall: {recall}\")\n",
    "\n",
    "f1_score = 2*(precision*recall)/(precision+recall)\n",
    "print(f\"F1 Score: {f1_score}\")\n",
    "\n",
    "support_pos = TP + FN\n",
    "print(f\"Support (0): {support_pos}\")\n",
    "\n",
    "support_neg = FP + TN\n",
    "print(f\"Support (1): {support_neg}\")"
   ]
  },
  {
   "cell_type": "markdown",
   "id": "bcb1362e",
   "metadata": {},
   "source": [
    "### 6. What are the differences in the evaluation metrics? Which performs better on your in-sample data? Why?"
   ]
  },
  {
   "cell_type": "code",
   "execution_count": 645,
   "id": "982ea2ad",
   "metadata": {},
   "outputs": [],
   "source": [
    "#my model accuracy kept on reducing while increasing k from 0 to 10 and 20\n",
    "#at K = 0 is better at an accuracy leval of 81%"
   ]
  },
  {
   "cell_type": "markdown",
   "id": "dfcb5571",
   "metadata": {},
   "source": [
    "### 7. Which model performs best on our out-of-sample data from validate?"
   ]
  },
  {
   "cell_type": "code",
   "execution_count": 647,
   "id": "fcb341f5",
   "metadata": {},
   "outputs": [
    {
     "name": "stdout",
     "output_type": "stream",
     "text": [
      "knn 1\n",
      "              precision    recall  f1-score   support\n",
      "\n",
      "           0       0.79      0.76      0.78       110\n",
      "           1       0.64      0.68      0.66        68\n",
      "\n",
      "    accuracy                           0.73       178\n",
      "   macro avg       0.72      0.72      0.72       178\n",
      "weighted avg       0.73      0.73      0.73       178\n",
      "\n",
      "knn 2\n",
      "              precision    recall  f1-score   support\n",
      "\n",
      "           0       0.75      0.79      0.77       110\n",
      "           1       0.63      0.57      0.60        68\n",
      "\n",
      "    accuracy                           0.71       178\n",
      "   macro avg       0.69      0.68      0.68       178\n",
      "weighted avg       0.70      0.71      0.71       178\n",
      "\n",
      "knn 3\n",
      "              precision    recall  f1-score   support\n",
      "\n",
      "           0       0.70      0.79      0.74       110\n",
      "           1       0.57      0.46      0.51        68\n",
      "\n",
      "    accuracy                           0.66       178\n",
      "   macro avg       0.64      0.62      0.63       178\n",
      "weighted avg       0.65      0.66      0.65       178\n",
      "\n"
     ]
    }
   ],
   "source": [
    "knn = [knn1, knn2, knn3]\n",
    "\n",
    "for index, model in enumerate(models):\n",
    "    print(f'knn {index + 1}')\n",
    "    print(classification_report(y_titanic_validate, model.predict(X_titanic_validate)))"
   ]
  },
  {
   "cell_type": "code",
   "execution_count": null,
   "id": "7729bd9c",
   "metadata": {},
   "outputs": [],
   "source": [
    "#model 1 performs best with the highest accuracy of 73%"
   ]
  }
 ],
 "metadata": {
  "kernelspec": {
   "display_name": "Python 3 (ipykernel)",
   "language": "python",
   "name": "python3"
  },
  "language_info": {
   "codemirror_mode": {
    "name": "ipython",
    "version": 3
   },
   "file_extension": ".py",
   "mimetype": "text/x-python",
   "name": "python",
   "nbconvert_exporter": "python",
   "pygments_lexer": "ipython3",
   "version": "3.9.12"
  }
 },
 "nbformat": 4,
 "nbformat_minor": 5
}
