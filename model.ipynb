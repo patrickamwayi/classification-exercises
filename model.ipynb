{
 "cells": [
  {
   "cell_type": "code",
   "execution_count": 194,
   "id": "499bc4c4",
   "metadata": {},
   "outputs": [],
   "source": [
    "import numpy as np\n",
    "import pandas as pd\n",
    "from io import StringIO\n",
    "import warnings\n",
    "warnings.filterwarnings('ignore')\n",
    "\n",
    "import acquire\n",
    "import prepare\n",
    "# grab Decision Tree Classifier and some helping friends from sklearn.tree\n",
    "from sklearn.tree import DecisionTreeClassifier, plot_tree, export_text\n",
    "# get classification report for model assessment\n",
    "from sklearn.metrics import classification_report\n",
    "import sklearn"
   ]
  },
  {
   "cell_type": "markdown",
   "id": "4bd51d47",
   "metadata": {},
   "source": [
    "### Exercises\n",
    "\n",
    "### Using the titanic data, in your classification-exercises repository, create a notebook, model.ipynb where you will do the following:\n",
    "\n"
   ]
  },
  {
   "cell_type": "markdown",
   "id": "f5d9b87d",
   "metadata": {},
   "source": [
    "### 1. What is your baseline prediction? What is your baseline accuracy? remember: your baseline prediction for a classification problem is predicting the most prevelant class in the training dataset (the mode). When you make those predictions, what is your accuracy? This is your baseline accuracy."
   ]
  },
  {
   "cell_type": "code",
   "execution_count": 195,
   "id": "31b00c36",
   "metadata": {},
   "outputs": [],
   "source": [
    "# get titanic data\n",
    "df = acquire.get_titanic_data()\n"
   ]
  },
  {
   "cell_type": "code",
   "execution_count": 196,
   "id": "f59d4e7f",
   "metadata": {},
   "outputs": [
    {
     "data": {
      "text/html": [
       "<div>\n",
       "<style scoped>\n",
       "    .dataframe tbody tr th:only-of-type {\n",
       "        vertical-align: middle;\n",
       "    }\n",
       "\n",
       "    .dataframe tbody tr th {\n",
       "        vertical-align: top;\n",
       "    }\n",
       "\n",
       "    .dataframe thead th {\n",
       "        text-align: right;\n",
       "    }\n",
       "</style>\n",
       "<table border=\"1\" class=\"dataframe\">\n",
       "  <thead>\n",
       "    <tr style=\"text-align: right;\">\n",
       "      <th></th>\n",
       "      <th>passenger_id</th>\n",
       "      <th>survived</th>\n",
       "      <th>pclass</th>\n",
       "      <th>sex</th>\n",
       "      <th>age</th>\n",
       "      <th>sibsp</th>\n",
       "      <th>parch</th>\n",
       "      <th>fare</th>\n",
       "      <th>embarked</th>\n",
       "      <th>class</th>\n",
       "      <th>deck</th>\n",
       "      <th>embark_town</th>\n",
       "      <th>alone</th>\n",
       "    </tr>\n",
       "  </thead>\n",
       "  <tbody>\n",
       "    <tr>\n",
       "      <th>0</th>\n",
       "      <td>0</td>\n",
       "      <td>0</td>\n",
       "      <td>3</td>\n",
       "      <td>male</td>\n",
       "      <td>22.0</td>\n",
       "      <td>1</td>\n",
       "      <td>0</td>\n",
       "      <td>7.2500</td>\n",
       "      <td>S</td>\n",
       "      <td>Third</td>\n",
       "      <td>NaN</td>\n",
       "      <td>Southampton</td>\n",
       "      <td>0</td>\n",
       "    </tr>\n",
       "    <tr>\n",
       "      <th>1</th>\n",
       "      <td>1</td>\n",
       "      <td>1</td>\n",
       "      <td>1</td>\n",
       "      <td>female</td>\n",
       "      <td>38.0</td>\n",
       "      <td>1</td>\n",
       "      <td>0</td>\n",
       "      <td>71.2833</td>\n",
       "      <td>C</td>\n",
       "      <td>First</td>\n",
       "      <td>C</td>\n",
       "      <td>Cherbourg</td>\n",
       "      <td>0</td>\n",
       "    </tr>\n",
       "    <tr>\n",
       "      <th>2</th>\n",
       "      <td>2</td>\n",
       "      <td>1</td>\n",
       "      <td>3</td>\n",
       "      <td>female</td>\n",
       "      <td>26.0</td>\n",
       "      <td>0</td>\n",
       "      <td>0</td>\n",
       "      <td>7.9250</td>\n",
       "      <td>S</td>\n",
       "      <td>Third</td>\n",
       "      <td>NaN</td>\n",
       "      <td>Southampton</td>\n",
       "      <td>1</td>\n",
       "    </tr>\n",
       "    <tr>\n",
       "      <th>3</th>\n",
       "      <td>3</td>\n",
       "      <td>1</td>\n",
       "      <td>1</td>\n",
       "      <td>female</td>\n",
       "      <td>35.0</td>\n",
       "      <td>1</td>\n",
       "      <td>0</td>\n",
       "      <td>53.1000</td>\n",
       "      <td>S</td>\n",
       "      <td>First</td>\n",
       "      <td>C</td>\n",
       "      <td>Southampton</td>\n",
       "      <td>0</td>\n",
       "    </tr>\n",
       "    <tr>\n",
       "      <th>4</th>\n",
       "      <td>4</td>\n",
       "      <td>0</td>\n",
       "      <td>3</td>\n",
       "      <td>male</td>\n",
       "      <td>35.0</td>\n",
       "      <td>0</td>\n",
       "      <td>0</td>\n",
       "      <td>8.0500</td>\n",
       "      <td>S</td>\n",
       "      <td>Third</td>\n",
       "      <td>NaN</td>\n",
       "      <td>Southampton</td>\n",
       "      <td>1</td>\n",
       "    </tr>\n",
       "  </tbody>\n",
       "</table>\n",
       "</div>"
      ],
      "text/plain": [
       "   passenger_id  survived  pclass     sex   age  sibsp  parch     fare  \\\n",
       "0             0         0       3    male  22.0      1      0   7.2500   \n",
       "1             1         1       1  female  38.0      1      0  71.2833   \n",
       "2             2         1       3  female  26.0      0      0   7.9250   \n",
       "3             3         1       1  female  35.0      1      0  53.1000   \n",
       "4             4         0       3    male  35.0      0      0   8.0500   \n",
       "\n",
       "  embarked  class deck  embark_town  alone  \n",
       "0        S  Third  NaN  Southampton      0  \n",
       "1        C  First    C    Cherbourg      0  \n",
       "2        S  Third  NaN  Southampton      1  \n",
       "3        S  First    C  Southampton      0  \n",
       "4        S  Third  NaN  Southampton      1  "
      ]
     },
     "execution_count": 196,
     "metadata": {},
     "output_type": "execute_result"
    }
   ],
   "source": [
    "# view first few rows\n",
    "df.head()"
   ]
  },
  {
   "cell_type": "code",
   "execution_count": 197,
   "id": "af2fb3be",
   "metadata": {},
   "outputs": [],
   "source": [
    "df1 = prepare.prep_titanic(df)"
   ]
  },
  {
   "cell_type": "code",
   "execution_count": 198,
   "id": "f9efd1c9",
   "metadata": {},
   "outputs": [
    {
     "data": {
      "text/html": [
       "<div>\n",
       "<style scoped>\n",
       "    .dataframe tbody tr th:only-of-type {\n",
       "        vertical-align: middle;\n",
       "    }\n",
       "\n",
       "    .dataframe tbody tr th {\n",
       "        vertical-align: top;\n",
       "    }\n",
       "\n",
       "    .dataframe thead th {\n",
       "        text-align: right;\n",
       "    }\n",
       "</style>\n",
       "<table border=\"1\" class=\"dataframe\">\n",
       "  <thead>\n",
       "    <tr style=\"text-align: right;\">\n",
       "      <th></th>\n",
       "      <th>survived</th>\n",
       "      <th>pclass</th>\n",
       "      <th>sibsp</th>\n",
       "      <th>parch</th>\n",
       "      <th>fare</th>\n",
       "      <th>alone</th>\n",
       "      <th>sex_male</th>\n",
       "      <th>embark_town_Queenstown</th>\n",
       "      <th>embark_town_Southampton</th>\n",
       "    </tr>\n",
       "  </thead>\n",
       "  <tbody>\n",
       "    <tr>\n",
       "      <th>0</th>\n",
       "      <td>0</td>\n",
       "      <td>3</td>\n",
       "      <td>1</td>\n",
       "      <td>0</td>\n",
       "      <td>7.2500</td>\n",
       "      <td>0</td>\n",
       "      <td>1</td>\n",
       "      <td>0</td>\n",
       "      <td>1</td>\n",
       "    </tr>\n",
       "    <tr>\n",
       "      <th>1</th>\n",
       "      <td>1</td>\n",
       "      <td>1</td>\n",
       "      <td>1</td>\n",
       "      <td>0</td>\n",
       "      <td>71.2833</td>\n",
       "      <td>0</td>\n",
       "      <td>0</td>\n",
       "      <td>0</td>\n",
       "      <td>0</td>\n",
       "    </tr>\n",
       "    <tr>\n",
       "      <th>2</th>\n",
       "      <td>1</td>\n",
       "      <td>3</td>\n",
       "      <td>0</td>\n",
       "      <td>0</td>\n",
       "      <td>7.9250</td>\n",
       "      <td>1</td>\n",
       "      <td>0</td>\n",
       "      <td>0</td>\n",
       "      <td>1</td>\n",
       "    </tr>\n",
       "    <tr>\n",
       "      <th>3</th>\n",
       "      <td>1</td>\n",
       "      <td>1</td>\n",
       "      <td>1</td>\n",
       "      <td>0</td>\n",
       "      <td>53.1000</td>\n",
       "      <td>0</td>\n",
       "      <td>0</td>\n",
       "      <td>0</td>\n",
       "      <td>1</td>\n",
       "    </tr>\n",
       "    <tr>\n",
       "      <th>4</th>\n",
       "      <td>0</td>\n",
       "      <td>3</td>\n",
       "      <td>0</td>\n",
       "      <td>0</td>\n",
       "      <td>8.0500</td>\n",
       "      <td>1</td>\n",
       "      <td>1</td>\n",
       "      <td>0</td>\n",
       "      <td>1</td>\n",
       "    </tr>\n",
       "    <tr>\n",
       "      <th>...</th>\n",
       "      <td>...</td>\n",
       "      <td>...</td>\n",
       "      <td>...</td>\n",
       "      <td>...</td>\n",
       "      <td>...</td>\n",
       "      <td>...</td>\n",
       "      <td>...</td>\n",
       "      <td>...</td>\n",
       "      <td>...</td>\n",
       "    </tr>\n",
       "    <tr>\n",
       "      <th>886</th>\n",
       "      <td>0</td>\n",
       "      <td>2</td>\n",
       "      <td>0</td>\n",
       "      <td>0</td>\n",
       "      <td>13.0000</td>\n",
       "      <td>1</td>\n",
       "      <td>1</td>\n",
       "      <td>0</td>\n",
       "      <td>1</td>\n",
       "    </tr>\n",
       "    <tr>\n",
       "      <th>887</th>\n",
       "      <td>1</td>\n",
       "      <td>1</td>\n",
       "      <td>0</td>\n",
       "      <td>0</td>\n",
       "      <td>30.0000</td>\n",
       "      <td>1</td>\n",
       "      <td>0</td>\n",
       "      <td>0</td>\n",
       "      <td>1</td>\n",
       "    </tr>\n",
       "    <tr>\n",
       "      <th>888</th>\n",
       "      <td>0</td>\n",
       "      <td>3</td>\n",
       "      <td>1</td>\n",
       "      <td>2</td>\n",
       "      <td>23.4500</td>\n",
       "      <td>0</td>\n",
       "      <td>0</td>\n",
       "      <td>0</td>\n",
       "      <td>1</td>\n",
       "    </tr>\n",
       "    <tr>\n",
       "      <th>889</th>\n",
       "      <td>1</td>\n",
       "      <td>1</td>\n",
       "      <td>0</td>\n",
       "      <td>0</td>\n",
       "      <td>30.0000</td>\n",
       "      <td>1</td>\n",
       "      <td>1</td>\n",
       "      <td>0</td>\n",
       "      <td>0</td>\n",
       "    </tr>\n",
       "    <tr>\n",
       "      <th>890</th>\n",
       "      <td>0</td>\n",
       "      <td>3</td>\n",
       "      <td>0</td>\n",
       "      <td>0</td>\n",
       "      <td>7.7500</td>\n",
       "      <td>1</td>\n",
       "      <td>1</td>\n",
       "      <td>1</td>\n",
       "      <td>0</td>\n",
       "    </tr>\n",
       "  </tbody>\n",
       "</table>\n",
       "<p>891 rows × 9 columns</p>\n",
       "</div>"
      ],
      "text/plain": [
       "     survived  pclass  sibsp  parch     fare  alone  sex_male  \\\n",
       "0           0       3      1      0   7.2500      0         1   \n",
       "1           1       1      1      0  71.2833      0         0   \n",
       "2           1       3      0      0   7.9250      1         0   \n",
       "3           1       1      1      0  53.1000      0         0   \n",
       "4           0       3      0      0   8.0500      1         1   \n",
       "..        ...     ...    ...    ...      ...    ...       ...   \n",
       "886         0       2      0      0  13.0000      1         1   \n",
       "887         1       1      0      0  30.0000      1         0   \n",
       "888         0       3      1      2  23.4500      0         0   \n",
       "889         1       1      0      0  30.0000      1         1   \n",
       "890         0       3      0      0   7.7500      1         1   \n",
       "\n",
       "     embark_town_Queenstown  embark_town_Southampton  \n",
       "0                         0                        1  \n",
       "1                         0                        0  \n",
       "2                         0                        1  \n",
       "3                         0                        1  \n",
       "4                         0                        1  \n",
       "..                      ...                      ...  \n",
       "886                       0                        1  \n",
       "887                       0                        1  \n",
       "888                       0                        1  \n",
       "889                       0                        0  \n",
       "890                       1                        0  \n",
       "\n",
       "[891 rows x 9 columns]"
      ]
     },
     "execution_count": 198,
     "metadata": {},
     "output_type": "execute_result"
    }
   ],
   "source": [
    "df1= df1.drop(columns = ['embarked', 'class',\"passenger_id\"])\n",
    "df1"
   ]
  },
  {
   "cell_type": "code",
   "execution_count": 199,
   "id": "8450e642",
   "metadata": {},
   "outputs": [
    {
     "name": "stdout",
     "output_type": "stream",
     "text": [
      "(534, 9) (178, 9) (179, 9)\n",
      "                         count       mean        std  min     25%   50%  \\\n",
      "survived                 534.0   0.383895   0.486789  0.0  0.0000   0.0   \n",
      "pclass                   534.0   2.323970   0.822928  1.0  2.0000   3.0   \n",
      "sibsp                    534.0   0.514981   1.143856  0.0  0.0000   0.0   \n",
      "parch                    534.0   0.352060   0.759941  0.0  0.0000   0.0   \n",
      "fare                     534.0  31.058106  46.866121  0.0  7.8958  13.5   \n",
      "alone                    534.0   0.627341   0.483966  0.0  0.0000   1.0   \n",
      "sex_male                 534.0   0.651685   0.476883  0.0  0.0000   1.0   \n",
      "embark_town_Queenstown   534.0   0.086142   0.280837  0.0  0.0000   0.0   \n",
      "embark_town_Southampton  534.0   0.713483   0.452558  0.0  0.0000   1.0   \n",
      "\n",
      "                             75%       max  \n",
      "survived                  1.0000    1.0000  \n",
      "pclass                    3.0000    3.0000  \n",
      "sibsp                     1.0000    8.0000  \n",
      "parch                     0.0000    5.0000  \n",
      "fare                     30.0531  512.3292  \n",
      "alone                     1.0000    1.0000  \n",
      "sex_male                  1.0000    1.0000  \n",
      "embark_town_Queenstown    0.0000    1.0000  \n",
      "embark_town_Southampton   1.0000    1.0000  \n"
     ]
    }
   ],
   "source": [
    "titanic_train, titanic_validate, titanic_test = prepare.my_train_test_split(df1,\"survived\")\n",
    "print(titanic_train.shape, titanic_validate.shape, titanic_test.shape)\n",
    "print(titanic_train.describe().T)\n"
   ]
  },
  {
   "cell_type": "code",
   "execution_count": 200,
   "id": "8cfdf243",
   "metadata": {},
   "outputs": [
    {
     "data": {
      "text/html": [
       "<div>\n",
       "<style scoped>\n",
       "    .dataframe tbody tr th:only-of-type {\n",
       "        vertical-align: middle;\n",
       "    }\n",
       "\n",
       "    .dataframe tbody tr th {\n",
       "        vertical-align: top;\n",
       "    }\n",
       "\n",
       "    .dataframe thead th {\n",
       "        text-align: right;\n",
       "    }\n",
       "</style>\n",
       "<table border=\"1\" class=\"dataframe\">\n",
       "  <thead>\n",
       "    <tr style=\"text-align: right;\">\n",
       "      <th></th>\n",
       "      <th>survived</th>\n",
       "      <th>pclass</th>\n",
       "      <th>sibsp</th>\n",
       "      <th>parch</th>\n",
       "      <th>fare</th>\n",
       "      <th>alone</th>\n",
       "      <th>sex_male</th>\n",
       "      <th>embark_town_Queenstown</th>\n",
       "      <th>embark_town_Southampton</th>\n",
       "    </tr>\n",
       "  </thead>\n",
       "  <tbody>\n",
       "    <tr>\n",
       "      <th>count</th>\n",
       "      <td>534.000000</td>\n",
       "      <td>534.000000</td>\n",
       "      <td>534.000000</td>\n",
       "      <td>534.000000</td>\n",
       "      <td>534.000000</td>\n",
       "      <td>534.000000</td>\n",
       "      <td>534.000000</td>\n",
       "      <td>534.000000</td>\n",
       "      <td>534.000000</td>\n",
       "    </tr>\n",
       "    <tr>\n",
       "      <th>mean</th>\n",
       "      <td>0.383895</td>\n",
       "      <td>2.323970</td>\n",
       "      <td>0.514981</td>\n",
       "      <td>0.352060</td>\n",
       "      <td>31.058106</td>\n",
       "      <td>0.627341</td>\n",
       "      <td>0.651685</td>\n",
       "      <td>0.086142</td>\n",
       "      <td>0.713483</td>\n",
       "    </tr>\n",
       "    <tr>\n",
       "      <th>std</th>\n",
       "      <td>0.486789</td>\n",
       "      <td>0.822928</td>\n",
       "      <td>1.143856</td>\n",
       "      <td>0.759941</td>\n",
       "      <td>46.866121</td>\n",
       "      <td>0.483966</td>\n",
       "      <td>0.476883</td>\n",
       "      <td>0.280837</td>\n",
       "      <td>0.452558</td>\n",
       "    </tr>\n",
       "    <tr>\n",
       "      <th>min</th>\n",
       "      <td>0.000000</td>\n",
       "      <td>1.000000</td>\n",
       "      <td>0.000000</td>\n",
       "      <td>0.000000</td>\n",
       "      <td>0.000000</td>\n",
       "      <td>0.000000</td>\n",
       "      <td>0.000000</td>\n",
       "      <td>0.000000</td>\n",
       "      <td>0.000000</td>\n",
       "    </tr>\n",
       "    <tr>\n",
       "      <th>25%</th>\n",
       "      <td>0.000000</td>\n",
       "      <td>2.000000</td>\n",
       "      <td>0.000000</td>\n",
       "      <td>0.000000</td>\n",
       "      <td>7.895800</td>\n",
       "      <td>0.000000</td>\n",
       "      <td>0.000000</td>\n",
       "      <td>0.000000</td>\n",
       "      <td>0.000000</td>\n",
       "    </tr>\n",
       "    <tr>\n",
       "      <th>50%</th>\n",
       "      <td>0.000000</td>\n",
       "      <td>3.000000</td>\n",
       "      <td>0.000000</td>\n",
       "      <td>0.000000</td>\n",
       "      <td>13.500000</td>\n",
       "      <td>1.000000</td>\n",
       "      <td>1.000000</td>\n",
       "      <td>0.000000</td>\n",
       "      <td>1.000000</td>\n",
       "    </tr>\n",
       "    <tr>\n",
       "      <th>75%</th>\n",
       "      <td>1.000000</td>\n",
       "      <td>3.000000</td>\n",
       "      <td>1.000000</td>\n",
       "      <td>0.000000</td>\n",
       "      <td>30.053100</td>\n",
       "      <td>1.000000</td>\n",
       "      <td>1.000000</td>\n",
       "      <td>0.000000</td>\n",
       "      <td>1.000000</td>\n",
       "    </tr>\n",
       "    <tr>\n",
       "      <th>max</th>\n",
       "      <td>1.000000</td>\n",
       "      <td>3.000000</td>\n",
       "      <td>8.000000</td>\n",
       "      <td>5.000000</td>\n",
       "      <td>512.329200</td>\n",
       "      <td>1.000000</td>\n",
       "      <td>1.000000</td>\n",
       "      <td>1.000000</td>\n",
       "      <td>1.000000</td>\n",
       "    </tr>\n",
       "  </tbody>\n",
       "</table>\n",
       "</div>"
      ],
      "text/plain": [
       "         survived      pclass       sibsp       parch        fare       alone  \\\n",
       "count  534.000000  534.000000  534.000000  534.000000  534.000000  534.000000   \n",
       "mean     0.383895    2.323970    0.514981    0.352060   31.058106    0.627341   \n",
       "std      0.486789    0.822928    1.143856    0.759941   46.866121    0.483966   \n",
       "min      0.000000    1.000000    0.000000    0.000000    0.000000    0.000000   \n",
       "25%      0.000000    2.000000    0.000000    0.000000    7.895800    0.000000   \n",
       "50%      0.000000    3.000000    0.000000    0.000000   13.500000    1.000000   \n",
       "75%      1.000000    3.000000    1.000000    0.000000   30.053100    1.000000   \n",
       "max      1.000000    3.000000    8.000000    5.000000  512.329200    1.000000   \n",
       "\n",
       "         sex_male  embark_town_Queenstown  embark_town_Southampton  \n",
       "count  534.000000              534.000000               534.000000  \n",
       "mean     0.651685                0.086142                 0.713483  \n",
       "std      0.476883                0.280837                 0.452558  \n",
       "min      0.000000                0.000000                 0.000000  \n",
       "25%      0.000000                0.000000                 0.000000  \n",
       "50%      1.000000                0.000000                 1.000000  \n",
       "75%      1.000000                0.000000                 1.000000  \n",
       "max      1.000000                1.000000                 1.000000  "
      ]
     },
     "execution_count": 200,
     "metadata": {},
     "output_type": "execute_result"
    }
   ],
   "source": [
    "titanic_train.describe()"
   ]
  },
  {
   "cell_type": "code",
   "execution_count": 201,
   "id": "3f04cdb3",
   "metadata": {},
   "outputs": [
    {
     "data": {
      "text/plain": [
       "(Index(['survived', 'pclass', 'sibsp', 'parch', 'fare', 'alone', 'sex_male',\n",
       "        'embark_town_Queenstown', 'embark_town_Southampton'],\n",
       "       dtype='object'),\n",
       " Index(['survived', 'pclass', 'sibsp', 'parch', 'fare', 'alone', 'sex_male',\n",
       "        'embark_town_Queenstown', 'embark_town_Southampton'],\n",
       "       dtype='object'))"
      ]
     },
     "execution_count": 201,
     "metadata": {},
     "output_type": "execute_result"
    }
   ],
   "source": [
    "titanic_train.columns, titanic_validate.columns\n"
   ]
  },
  {
   "cell_type": "code",
   "execution_count": 202,
   "id": "7fe5ca5f",
   "metadata": {},
   "outputs": [],
   "source": [
    "# X is indepedent variables\n",
    "# y is target variable\n",
    "\n",
    "# x and y train\n",
    "X_titanic_train = titanic_train.drop(columns = 'survived')\n",
    "y_titanic_train = titanic_train.survived\n",
    "\n",
    "# x and y validate\n",
    "X_titanic_validate = titanic_validate.drop(columns = 'survived')\n",
    "y_titanic_validate = titanic_validate.survived\n",
    "\n",
    "# x and y test\n",
    "X_titanic_test = titanic_test.drop(columns = 'survived')\n",
    "y_titanic_test = titanic_test.survived"
   ]
  },
  {
   "cell_type": "code",
   "execution_count": 203,
   "id": "71fc2a25",
   "metadata": {},
   "outputs": [
    {
     "data": {
      "text/plain": [
       "0    329\n",
       "1    205\n",
       "Name: survived, dtype: int64"
      ]
     },
     "execution_count": 203,
     "metadata": {},
     "output_type": "execute_result"
    }
   ],
   "source": [
    "# y_train data\n",
    "y_titanic_train.value_counts()"
   ]
  },
  {
   "cell_type": "code",
   "execution_count": 204,
   "id": "3b2afa70",
   "metadata": {},
   "outputs": [
    {
     "name": "stdout",
     "output_type": "stream",
     "text": [
      "The survival baseline is: 0.6161048689138576\n"
     ]
    }
   ],
   "source": [
    "# create a baseline model\n",
    "titanic_baseline = (y_titanic_train == 0).mean()\n",
    "print('The survival baseline is:', titanic_baseline)"
   ]
  },
  {
   "cell_type": "code",
   "execution_count": 205,
   "id": "3098aa87",
   "metadata": {},
   "outputs": [],
   "source": [
    "# baseline model is the mode of target varible that did not survive.\n",
    "# baseline accuracy is the survival baseline of 61.61% "
   ]
  },
  {
   "cell_type": "markdown",
   "id": "95ab82ab",
   "metadata": {},
   "source": [
    "### 2. Fit the decision tree classifier to your training sample and transform (i.e. make predictions on the training sample)\n",
    "\n"
   ]
  },
  {
   "cell_type": "code",
   "execution_count": 212,
   "id": "0b65e92a",
   "metadata": {},
   "outputs": [
    {
     "name": "stdout",
     "output_type": "stream",
     "text": [
      "training score: 79.21%\n",
      "validate score: 77.53%\n"
     ]
    }
   ],
   "source": [
    "# make the thing\n",
    "model1 = DecisionTreeClassifier(max_depth=1)\n",
    "# fit the thing\n",
    "model1.fit(X_titanic_train, y_titanic_train)\n",
    "# use the thing\n",
    "print(f'training score: {model1.score(X_titanic_train, y_titanic_train):.2%}')\n",
    "print(f'validate score: {model1.score(X_titanic_validate, y_titanic_validate):.2%}')"
   ]
  },
  {
   "cell_type": "code",
   "execution_count": 213,
   "id": "42ef0584",
   "metadata": {},
   "outputs": [
    {
     "data": {
      "image/png": "[encoded data removed]",
      "text/plain": [
       "<Figure size 1440x720 with 1 Axes>"
      ]
     },
     "metadata": {
      "needs_background": "light"
     },
     "output_type": "display_data"
    }
   ],
   "source": [
    "import matplotlib.pyplot as plt\n",
    "plt.figure(figsize=(20,10))\n",
    "plot_tree(model1, feature_names=X_titanic_train.columns.to_list(), class_names=['perished', 'survived']);"
   ]
  },
  {
   "cell_type": "code",
   "execution_count": 214,
   "id": "a8c0fa7e",
   "metadata": {},
   "outputs": [
    {
     "data": {
      "image/png": "[encoded data removed]",
      "text/plain": [
       "<Figure size 1152x648 with 1 Axes>"
      ]
     },
     "metadata": {
      "needs_background": "light"
     },
     "output_type": "display_data"
    }
   ],
   "source": [
    "plt.figure(figsize=(16, 9))\n",
    "plot_tree(\n",
    "    # what thing:\n",
    "          model1, \n",
    "    # what are the features called for the sake of the diagram?\n",
    "          feature_names=X_titanic_train.columns.tolist(), \n",
    "    # what are the classes called for the sake of the diagram?\n",
    "          class_names=['perished', 'survived'], \n",
    "    # fill the nodes with color!\n",
    "          filled=True, \n",
    "    # round the corners\n",
    "          rounded=True);\n",
    "# note the opacity associates with the gini impurity!"
   ]
  },
  {
   "cell_type": "code",
   "execution_count": 215,
   "id": "4d0f32e7",
   "metadata": {},
   "outputs": [],
   "source": [
    "# for classification you can change the algorithm to gini or entropy (information gain).  \n",
    "# Default is gini.\n",
    "\n",
    "clf = DecisionTreeClassifier(max_depth=1, random_state=123)\n"
   ]
  },
  {
   "cell_type": "code",
   "execution_count": 216,
   "id": "a555ffc6",
   "metadata": {},
   "outputs": [],
   "source": [
    "# model1.fit(X, y)\n",
    "\n",
    "clf = clf.fit(X_titanic_train, y_titanic_train)\n"
   ]
  },
  {
   "cell_type": "code",
   "execution_count": 217,
   "id": "e3c5b829",
   "metadata": {},
   "outputs": [
    {
     "data": {
      "text/plain": [
       "array([0, 1, 0, 0, 0])"
      ]
     },
     "execution_count": 217,
     "metadata": {},
     "output_type": "execute_result"
    }
   ],
   "source": [
    "# make prediction on train obeservations\n",
    "\n",
    "y_titanic_pred = clf.predict(X_titanic_train)\n",
    "y_titanic_pred[0:5]\n"
   ]
  },
  {
   "cell_type": "code",
   "execution_count": 218,
   "id": "9d3542f6",
   "metadata": {},
   "outputs": [
    {
     "name": "stdout",
     "output_type": "stream",
     "text": [
      "              precision    recall  f1-score   support\n",
      "\n",
      "           0       0.81      0.86      0.84       329\n",
      "           1       0.75      0.68      0.72       205\n",
      "\n",
      "    accuracy                           0.79       534\n",
      "   macro avg       0.78      0.77      0.78       534\n",
      "weighted avg       0.79      0.79      0.79       534\n",
      "\n"
     ]
    }
   ],
   "source": [
    "print(classification_report(y_titanic_train, y_titanic_pred))\n"
   ]
  },
  {
   "cell_type": "markdown",
   "id": "6861b1c8",
   "metadata": {},
   "source": [
    "### 3. Evaluate your in-sample results using the model score, confusion matrix, and classification report."
   ]
  },
  {
   "cell_type": "code",
   "execution_count": 219,
   "id": "4e4ff4df",
   "metadata": {},
   "outputs": [
    {
     "data": {
      "text/plain": [
       "0.7752808988764045"
      ]
     },
     "execution_count": 219,
     "metadata": {},
     "output_type": "execute_result"
    }
   ],
   "source": [
    "#model1 score\n",
    "model1.score(X_titanic_validate,y_titanic_validate)"
   ]
  },
  {
   "cell_type": "code",
   "execution_count": 220,
   "id": "2c8d24d1",
   "metadata": {},
   "outputs": [
    {
     "name": "stdout",
     "output_type": "stream",
     "text": [
      "              precision    recall  f1-score   support\n",
      "\n",
      "           0       0.81      0.86      0.84       329\n",
      "           1       0.75      0.68      0.72       205\n",
      "\n",
      "    accuracy                           0.79       534\n",
      "   macro avg       0.78      0.77      0.78       534\n",
      "weighted avg       0.79      0.79      0.79       534\n",
      "\n"
     ]
    }
   ],
   "source": [
    "#classification report\n",
    "print(classification_report(y_titanic_train, y_titanic_pred))"
   ]
  },
  {
   "cell_type": "markdown",
   "id": "29ebbca2",
   "metadata": {},
   "source": [
    "### 4. Compute: Accuracy, true positive rate, false positive rate, true negative rate, false negative rate, precision, recall, f1-score, and support."
   ]
  },
  {
   "cell_type": "code",
   "execution_count": 221,
   "id": "20921bf8",
   "metadata": {},
   "outputs": [
    {
     "data": {
      "text/plain": [
       "array([[283,  46],\n",
       "       [ 65, 140]])"
      ]
     },
     "execution_count": 221,
     "metadata": {},
     "output_type": "execute_result"
    }
   ],
   "source": [
    "# confusion matrix\n",
    "\n",
    "sklearn.metrics.confusion_matrix(y_titanic_train, y_titanic_pred)\n"
   ]
  },
  {
   "cell_type": "code",
   "execution_count": 222,
   "id": "d7e31abd",
   "metadata": {},
   "outputs": [
    {
     "data": {
      "text/plain": [
       "0    329\n",
       "1    205\n",
       "Name: survived, dtype: int64"
      ]
     },
     "execution_count": 222,
     "metadata": {},
     "output_type": "execute_result"
    }
   ],
   "source": [
    "y_titanic_train.value_counts()\n"
   ]
  },
  {
   "cell_type": "code",
   "execution_count": 223,
   "id": "5c5705a2",
   "metadata": {},
   "outputs": [
    {
     "data": {
      "text/html": [
       "<div>\n",
       "<style scoped>\n",
       "    .dataframe tbody tr th:only-of-type {\n",
       "        vertical-align: middle;\n",
       "    }\n",
       "\n",
       "    .dataframe tbody tr th {\n",
       "        vertical-align: top;\n",
       "    }\n",
       "\n",
       "    .dataframe thead th {\n",
       "        text-align: right;\n",
       "    }\n",
       "</style>\n",
       "<table border=\"1\" class=\"dataframe\">\n",
       "  <thead>\n",
       "    <tr style=\"text-align: right;\">\n",
       "      <th></th>\n",
       "      <th>0</th>\n",
       "      <th>1</th>\n",
       "    </tr>\n",
       "  </thead>\n",
       "  <tbody>\n",
       "    <tr>\n",
       "      <th>0</th>\n",
       "      <td>283</td>\n",
       "      <td>46</td>\n",
       "    </tr>\n",
       "    <tr>\n",
       "      <th>1</th>\n",
       "      <td>65</td>\n",
       "      <td>140</td>\n",
       "    </tr>\n",
       "  </tbody>\n",
       "</table>\n",
       "</div>"
      ],
      "text/plain": [
       "     0    1\n",
       "0  283   46\n",
       "1   65  140"
      ]
     },
     "execution_count": 223,
     "metadata": {},
     "output_type": "execute_result"
    }
   ],
   "source": [
    "import pandas as pd\n",
    "\n",
    "labels = sorted(y_titanic_train.unique())\n",
    "\n",
    "df1_confused = pd.DataFrame(sklearn.metrics.confusion_matrix(y_titanic_train, y_titanic_pred), index=labels, columns=labels)\n",
    "df1_confused\n"
   ]
  },
  {
   "cell_type": "markdown",
   "id": "695c81f7",
   "metadata": {},
   "source": [
    "### 5.Run through steps 2-4 using a different max_depth value.\n",
    "\n"
   ]
  },
  {
   "cell_type": "code",
   "execution_count": 224,
   "id": "1c0be55e",
   "metadata": {},
   "outputs": [
    {
     "name": "stdout",
     "output_type": "stream",
     "text": [
      "training score: 81.84%\n",
      "validate score: 79.21%\n"
     ]
    }
   ],
   "source": [
    "#model2\n",
    "# make the thing\n",
    "model2 = DecisionTreeClassifier(max_depth=3)\n",
    "# fit the thing\n",
    "model2.fit(X_titanic_train, y_titanic_train)\n",
    "# use the thing\n",
    "print(f'training score: {model2.score(X_titanic_train, y_titanic_train):.2%}')\n",
    "print(f'validate score: {model2.score(X_titanic_validate, y_titanic_validate):.2%}')"
   ]
  },
  {
   "cell_type": "code",
   "execution_count": 239,
   "id": "6e526744",
   "metadata": {},
   "outputs": [],
   "source": [
    "# model2.fit(X, y)\n",
    "\n",
    "clf = clf.fit(X_titanic_train, y_titanic_train)\n"
   ]
  },
  {
   "cell_type": "code",
   "execution_count": 226,
   "id": "8cfb15ef",
   "metadata": {},
   "outputs": [
    {
     "data": {
      "text/plain": [
       "array([0, 1, 0, 0, 0])"
      ]
     },
     "execution_count": 226,
     "metadata": {},
     "output_type": "execute_result"
    }
   ],
   "source": [
    "# make prediction on train obeservations\n",
    "\n",
    "y_titanic_pred = clf.predict(X_titanic_train)\n",
    "y_titanic_pred[0:5]\n"
   ]
  },
  {
   "cell_type": "code",
   "execution_count": 229,
   "id": "11b46f93",
   "metadata": {},
   "outputs": [
    {
     "name": "stdout",
     "output_type": "stream",
     "text": [
      "              precision    recall  f1-score   support\n",
      "\n",
      "           0       0.81      0.86      0.84       329\n",
      "           1       0.75      0.68      0.72       205\n",
      "\n",
      "    accuracy                           0.79       534\n",
      "   macro avg       0.78      0.77      0.78       534\n",
      "weighted avg       0.79      0.79      0.79       534\n",
      "\n"
     ]
    }
   ],
   "source": [
    "print(classification_report(y_titanic_train, y_titanic_pred))\n"
   ]
  },
  {
   "cell_type": "code",
   "execution_count": 230,
   "id": "7729eee1",
   "metadata": {},
   "outputs": [
    {
     "data": {
      "image/png": "[encoded data removed]",
      "text/plain": [
       "<Figure size 1440x720 with 1 Axes>"
      ]
     },
     "metadata": {
      "needs_background": "light"
     },
     "output_type": "display_data"
    }
   ],
   "source": [
    "import matplotlib.pyplot as plt\n",
    "plt.figure(figsize=(20,10))\n",
    "plot_tree(model2, feature_names=X_titanic_train.columns.to_list(), class_names=['perished', 'survived']);"
   ]
  },
  {
   "cell_type": "code",
   "execution_count": 231,
   "id": "9f082098",
   "metadata": {},
   "outputs": [],
   "source": [
    "# model2.fit(X, y)\n",
    "\n",
    "clf = clf.fit(X_titanic_train, y_titanic_train)\n"
   ]
  },
  {
   "cell_type": "code",
   "execution_count": 232,
   "id": "c9600605",
   "metadata": {},
   "outputs": [
    {
     "data": {
      "text/plain": [
       "array([0, 1, 0, 0, 0])"
      ]
     },
     "execution_count": 232,
     "metadata": {},
     "output_type": "execute_result"
    }
   ],
   "source": [
    "# make prediction on train obeservations\n",
    "\n",
    "y_titanic_pred = clf.predict(X_titanic_train)\n",
    "y_titanic_pred[0:5]\n"
   ]
  },
  {
   "cell_type": "code",
   "execution_count": 233,
   "id": "f7b7f6c5",
   "metadata": {},
   "outputs": [
    {
     "name": "stdout",
     "output_type": "stream",
     "text": [
      "              precision    recall  f1-score   support\n",
      "\n",
      "           0       0.81      0.86      0.84       329\n",
      "           1       0.75      0.68      0.72       205\n",
      "\n",
      "    accuracy                           0.79       534\n",
      "   macro avg       0.78      0.77      0.78       534\n",
      "weighted avg       0.79      0.79      0.79       534\n",
      "\n"
     ]
    }
   ],
   "source": [
    "#classification report\n",
    "print(classification_report(y_titanic_train, y_titanic_pred))\n"
   ]
  },
  {
   "cell_type": "code",
   "execution_count": 237,
   "id": "97f06a43",
   "metadata": {},
   "outputs": [
    {
     "data": {
      "text/plain": [
       "0.7921348314606742"
      ]
     },
     "execution_count": 237,
     "metadata": {},
     "output_type": "execute_result"
    }
   ],
   "source": [
    "#model2 score\n",
    "model2.score(X_titanic_validate,y_titanic_validate)"
   ]
  },
  {
   "cell_type": "code",
   "execution_count": 235,
   "id": "0052ac25",
   "metadata": {},
   "outputs": [
    {
     "data": {
      "text/plain": [
       "array([[283,  46],\n",
       "       [ 65, 140]])"
      ]
     },
     "execution_count": 235,
     "metadata": {},
     "output_type": "execute_result"
    }
   ],
   "source": [
    "# confusion matrix\n",
    "\n",
    "sklearn.metrics.confusion_matrix(y_titanic_train, y_titanic_pred)\n"
   ]
  },
  {
   "cell_type": "code",
   "execution_count": 236,
   "id": "cb13e269",
   "metadata": {},
   "outputs": [
    {
     "data": {
      "text/plain": [
       "0    329\n",
       "1    205\n",
       "Name: survived, dtype: int64"
      ]
     },
     "execution_count": 236,
     "metadata": {},
     "output_type": "execute_result"
    }
   ],
   "source": [
    "y_titanic_train.value_counts()\n"
   ]
  },
  {
   "cell_type": "markdown",
   "id": "c19f843c",
   "metadata": {},
   "source": [
    "### 6. Which model performs better on your in-sample data?"
   ]
  },
  {
   "cell_type": "code",
   "execution_count": 183,
   "id": "578ef4f1",
   "metadata": {},
   "outputs": [
    {
     "data": {
      "text/plain": [
       "0.8183520599250936"
      ]
     },
     "execution_count": 183,
     "metadata": {},
     "output_type": "execute_result"
    }
   ],
   "source": [
    "# make a new column in y_preds\n",
    "y_titanic_pred = clf.predict(X_titanic_train)\n",
    "clf.score(X_titanic_train, y_titanic_train)"
   ]
  },
  {
   "cell_type": "code",
   "execution_count": 187,
   "id": "99c9f237",
   "metadata": {},
   "outputs": [],
   "source": [
    "# loop it!\n",
    "models = []\n",
    "model_scores = []\n",
    "for i in range(2,8):\n",
    "    model = DecisionTreeClassifier(max_depth=i)\n",
    "    model.fit(X_titanic_train, y_titanic_train)\n",
    "    models.append(model)\n",
    "    model_scores.append(model.score(X_titanic_train, y_titanic_train))"
   ]
  },
  {
   "cell_type": "code",
   "execution_count": 188,
   "id": "69bdb331",
   "metadata": {},
   "outputs": [
    {
     "data": {
      "text/plain": [
       "6"
      ]
     },
     "execution_count": 188,
     "metadata": {},
     "output_type": "execute_result"
    }
   ],
   "source": [
    "len(models)"
   ]
  },
  {
   "cell_type": "code",
   "execution_count": null,
   "id": "f7585a9a",
   "metadata": {},
   "outputs": [],
   "source": [
    "# depth 1 and depth 3 accuracy,  is the same at 79%\n",
    "- "
   ]
  },
  {
   "cell_type": "markdown",
   "id": "d7435e62",
   "metadata": {},
   "source": [
    "## TELCO DATASET "
   ]
  },
  {
   "cell_type": "markdown",
   "id": "3bb703d2",
   "metadata": {},
   "source": [
    "### Exercise continuation"
   ]
  },
  {
   "cell_type": "markdown",
   "id": "ee51bbed",
   "metadata": {},
   "source": [
    "### 1. Work through these same exercises using the Telco dataset.\n",
    "### 2. Experiment with this model on other datasets with a higher number of output classes."
   ]
  },
  {
   "cell_type": "code",
   "execution_count": null,
   "id": "33112f47",
   "metadata": {},
   "outputs": [],
   "source": [
    "##### incomplete#######"
   ]
  },
  {
   "cell_type": "code",
   "execution_count": null,
   "id": "7215d575",
   "metadata": {},
   "outputs": [],
   "source": []
  },
  {
   "cell_type": "markdown",
   "id": "6b518b80",
   "metadata": {},
   "source": [
    "### RANDOM FOREST"
   ]
  },
  {
   "cell_type": "markdown",
   "id": "543f0d16",
   "metadata": {},
   "source": [
    "### Exercises\n",
    "### Continue working in your model file with titanic data to do the following:\n",
    "\n"
   ]
  },
  {
   "cell_type": "markdown",
   "id": "4eba446f",
   "metadata": {},
   "source": [
    "### 1. Fit the Random Forest classifier to your training sample and transform (i.e. make predictions on the training sample) setting the random_state accordingly and setting min_samples_leaf = 1 and max_depth = 10."
   ]
  },
  {
   "cell_type": "code",
   "execution_count": 248,
   "id": "15b20774",
   "metadata": {},
   "outputs": [],
   "source": [
    "import numpy as np\n",
    "import pandas as pd\n",
    "\n",
    "from sklearn.model_selection import train_test_split\n",
    "from sklearn.ensemble import RandomForestClassifier\n",
    "from sklearn.metrics import classification_report, confusion_matrix, ConfusionMatrixDisplay\n",
    "\n",
    "import matplotlib.pyplot as plt\n",
    "%matplotlib inline\n",
    "import seaborn as sns\n",
    "\n",
    "# ignore warnings\n",
    "import warnings\n",
    "warnings.filterwarnings(\"ignore\")"
   ]
  },
  {
   "cell_type": "code",
   "execution_count": 258,
   "id": "93ff4978",
   "metadata": {},
   "outputs": [
    {
     "data": {
      "text/html": [
       "<div>\n",
       "<style scoped>\n",
       "    .dataframe tbody tr th:only-of-type {\n",
       "        vertical-align: middle;\n",
       "    }\n",
       "\n",
       "    .dataframe tbody tr th {\n",
       "        vertical-align: top;\n",
       "    }\n",
       "\n",
       "    .dataframe thead th {\n",
       "        text-align: right;\n",
       "    }\n",
       "</style>\n",
       "<table border=\"1\" class=\"dataframe\">\n",
       "  <thead>\n",
       "    <tr style=\"text-align: right;\">\n",
       "      <th></th>\n",
       "      <th>passenger_id</th>\n",
       "      <th>survived</th>\n",
       "      <th>pclass</th>\n",
       "      <th>sex</th>\n",
       "      <th>age</th>\n",
       "      <th>sibsp</th>\n",
       "      <th>parch</th>\n",
       "      <th>fare</th>\n",
       "      <th>embarked</th>\n",
       "      <th>class</th>\n",
       "      <th>deck</th>\n",
       "      <th>embark_town</th>\n",
       "      <th>alone</th>\n",
       "    </tr>\n",
       "  </thead>\n",
       "  <tbody>\n",
       "    <tr>\n",
       "      <th>0</th>\n",
       "      <td>0</td>\n",
       "      <td>0</td>\n",
       "      <td>3</td>\n",
       "      <td>male</td>\n",
       "      <td>22.0</td>\n",
       "      <td>1</td>\n",
       "      <td>0</td>\n",
       "      <td>7.2500</td>\n",
       "      <td>S</td>\n",
       "      <td>Third</td>\n",
       "      <td>NaN</td>\n",
       "      <td>Southampton</td>\n",
       "      <td>0</td>\n",
       "    </tr>\n",
       "    <tr>\n",
       "      <th>1</th>\n",
       "      <td>1</td>\n",
       "      <td>1</td>\n",
       "      <td>1</td>\n",
       "      <td>female</td>\n",
       "      <td>38.0</td>\n",
       "      <td>1</td>\n",
       "      <td>0</td>\n",
       "      <td>71.2833</td>\n",
       "      <td>C</td>\n",
       "      <td>First</td>\n",
       "      <td>C</td>\n",
       "      <td>Cherbourg</td>\n",
       "      <td>0</td>\n",
       "    </tr>\n",
       "    <tr>\n",
       "      <th>2</th>\n",
       "      <td>2</td>\n",
       "      <td>1</td>\n",
       "      <td>3</td>\n",
       "      <td>female</td>\n",
       "      <td>26.0</td>\n",
       "      <td>0</td>\n",
       "      <td>0</td>\n",
       "      <td>7.9250</td>\n",
       "      <td>S</td>\n",
       "      <td>Third</td>\n",
       "      <td>NaN</td>\n",
       "      <td>Southampton</td>\n",
       "      <td>1</td>\n",
       "    </tr>\n",
       "    <tr>\n",
       "      <th>3</th>\n",
       "      <td>3</td>\n",
       "      <td>1</td>\n",
       "      <td>1</td>\n",
       "      <td>female</td>\n",
       "      <td>35.0</td>\n",
       "      <td>1</td>\n",
       "      <td>0</td>\n",
       "      <td>53.1000</td>\n",
       "      <td>S</td>\n",
       "      <td>First</td>\n",
       "      <td>C</td>\n",
       "      <td>Southampton</td>\n",
       "      <td>0</td>\n",
       "    </tr>\n",
       "    <tr>\n",
       "      <th>4</th>\n",
       "      <td>4</td>\n",
       "      <td>0</td>\n",
       "      <td>3</td>\n",
       "      <td>male</td>\n",
       "      <td>35.0</td>\n",
       "      <td>0</td>\n",
       "      <td>0</td>\n",
       "      <td>8.0500</td>\n",
       "      <td>S</td>\n",
       "      <td>Third</td>\n",
       "      <td>NaN</td>\n",
       "      <td>Southampton</td>\n",
       "      <td>1</td>\n",
       "    </tr>\n",
       "  </tbody>\n",
       "</table>\n",
       "</div>"
      ],
      "text/plain": [
       "   passenger_id  survived  pclass     sex   age  sibsp  parch     fare  \\\n",
       "0             0         0       3    male  22.0      1      0   7.2500   \n",
       "1             1         1       1  female  38.0      1      0  71.2833   \n",
       "2             2         1       3  female  26.0      0      0   7.9250   \n",
       "3             3         1       1  female  35.0      1      0  53.1000   \n",
       "4             4         0       3    male  35.0      0      0   8.0500   \n",
       "\n",
       "  embarked  class deck  embark_town  alone  \n",
       "0        S  Third  NaN  Southampton      0  \n",
       "1        C  First    C    Cherbourg      0  \n",
       "2        S  Third  NaN  Southampton      1  \n",
       "3        S  First    C  Southampton      0  \n",
       "4        S  Third  NaN  Southampton      1  "
      ]
     },
     "execution_count": 258,
     "metadata": {},
     "output_type": "execute_result"
    }
   ],
   "source": [
    "# get titanic data\n",
    "df = acquire.get_titanic_data()\n",
    "df.head()\n"
   ]
  },
  {
   "cell_type": "code",
   "execution_count": 259,
   "id": "9d0ccdf1",
   "metadata": {},
   "outputs": [],
   "source": [
    "def split_data(df):\n",
    "    '''\n",
    "    take in a DataFrame and return train, validate, and test DataFrames; stratify on survived.\n",
    "    return train, validate, test DataFrames.\n",
    "    '''\n",
    "    train_validate, test = train_test_split(df, test_size=.2, random_state=123, stratify=df.survived)\n",
    "    train, validate = train_test_split(train_validate, \n",
    "                                       test_size=.3, \n",
    "                                       random_state=123, \n",
    "                                       stratify=train_validate.survived)\n",
    "    return train, validate, test\n"
   ]
  },
  {
   "cell_type": "code",
   "execution_count": 261,
   "id": "c4159ffa",
   "metadata": {},
   "outputs": [
    {
     "data": {
      "text/html": [
       "<div>\n",
       "<style scoped>\n",
       "    .dataframe tbody tr th:only-of-type {\n",
       "        vertical-align: middle;\n",
       "    }\n",
       "\n",
       "    .dataframe tbody tr th {\n",
       "        vertical-align: top;\n",
       "    }\n",
       "\n",
       "    .dataframe thead th {\n",
       "        text-align: right;\n",
       "    }\n",
       "</style>\n",
       "<table border=\"1\" class=\"dataframe\">\n",
       "  <thead>\n",
       "    <tr style=\"text-align: right;\">\n",
       "      <th></th>\n",
       "      <th>survived</th>\n",
       "      <th>pclass</th>\n",
       "      <th>sibsp</th>\n",
       "      <th>parch</th>\n",
       "      <th>fare</th>\n",
       "      <th>alone</th>\n",
       "      <th>sex_male</th>\n",
       "      <th>embark_town_Queenstown</th>\n",
       "      <th>embark_town_Southampton</th>\n",
       "    </tr>\n",
       "  </thead>\n",
       "  <tbody>\n",
       "    <tr>\n",
       "      <th>count</th>\n",
       "      <td>534.000000</td>\n",
       "      <td>534.000000</td>\n",
       "      <td>534.000000</td>\n",
       "      <td>534.000000</td>\n",
       "      <td>534.000000</td>\n",
       "      <td>534.000000</td>\n",
       "      <td>534.000000</td>\n",
       "      <td>534.000000</td>\n",
       "      <td>534.000000</td>\n",
       "    </tr>\n",
       "    <tr>\n",
       "      <th>mean</th>\n",
       "      <td>0.383895</td>\n",
       "      <td>2.323970</td>\n",
       "      <td>0.514981</td>\n",
       "      <td>0.352060</td>\n",
       "      <td>31.058106</td>\n",
       "      <td>0.627341</td>\n",
       "      <td>0.651685</td>\n",
       "      <td>0.086142</td>\n",
       "      <td>0.713483</td>\n",
       "    </tr>\n",
       "    <tr>\n",
       "      <th>std</th>\n",
       "      <td>0.486789</td>\n",
       "      <td>0.822928</td>\n",
       "      <td>1.143856</td>\n",
       "      <td>0.759941</td>\n",
       "      <td>46.866121</td>\n",
       "      <td>0.483966</td>\n",
       "      <td>0.476883</td>\n",
       "      <td>0.280837</td>\n",
       "      <td>0.452558</td>\n",
       "    </tr>\n",
       "    <tr>\n",
       "      <th>min</th>\n",
       "      <td>0.000000</td>\n",
       "      <td>1.000000</td>\n",
       "      <td>0.000000</td>\n",
       "      <td>0.000000</td>\n",
       "      <td>0.000000</td>\n",
       "      <td>0.000000</td>\n",
       "      <td>0.000000</td>\n",
       "      <td>0.000000</td>\n",
       "      <td>0.000000</td>\n",
       "    </tr>\n",
       "    <tr>\n",
       "      <th>25%</th>\n",
       "      <td>0.000000</td>\n",
       "      <td>2.000000</td>\n",
       "      <td>0.000000</td>\n",
       "      <td>0.000000</td>\n",
       "      <td>7.895800</td>\n",
       "      <td>0.000000</td>\n",
       "      <td>0.000000</td>\n",
       "      <td>0.000000</td>\n",
       "      <td>0.000000</td>\n",
       "    </tr>\n",
       "    <tr>\n",
       "      <th>50%</th>\n",
       "      <td>0.000000</td>\n",
       "      <td>3.000000</td>\n",
       "      <td>0.000000</td>\n",
       "      <td>0.000000</td>\n",
       "      <td>13.500000</td>\n",
       "      <td>1.000000</td>\n",
       "      <td>1.000000</td>\n",
       "      <td>0.000000</td>\n",
       "      <td>1.000000</td>\n",
       "    </tr>\n",
       "    <tr>\n",
       "      <th>75%</th>\n",
       "      <td>1.000000</td>\n",
       "      <td>3.000000</td>\n",
       "      <td>1.000000</td>\n",
       "      <td>0.000000</td>\n",
       "      <td>30.053100</td>\n",
       "      <td>1.000000</td>\n",
       "      <td>1.000000</td>\n",
       "      <td>0.000000</td>\n",
       "      <td>1.000000</td>\n",
       "    </tr>\n",
       "    <tr>\n",
       "      <th>max</th>\n",
       "      <td>1.000000</td>\n",
       "      <td>3.000000</td>\n",
       "      <td>8.000000</td>\n",
       "      <td>5.000000</td>\n",
       "      <td>512.329200</td>\n",
       "      <td>1.000000</td>\n",
       "      <td>1.000000</td>\n",
       "      <td>1.000000</td>\n",
       "      <td>1.000000</td>\n",
       "    </tr>\n",
       "  </tbody>\n",
       "</table>\n",
       "</div>"
      ],
      "text/plain": [
       "         survived      pclass       sibsp       parch        fare       alone  \\\n",
       "count  534.000000  534.000000  534.000000  534.000000  534.000000  534.000000   \n",
       "mean     0.383895    2.323970    0.514981    0.352060   31.058106    0.627341   \n",
       "std      0.486789    0.822928    1.143856    0.759941   46.866121    0.483966   \n",
       "min      0.000000    1.000000    0.000000    0.000000    0.000000    0.000000   \n",
       "25%      0.000000    2.000000    0.000000    0.000000    7.895800    0.000000   \n",
       "50%      0.000000    3.000000    0.000000    0.000000   13.500000    1.000000   \n",
       "75%      1.000000    3.000000    1.000000    0.000000   30.053100    1.000000   \n",
       "max      1.000000    3.000000    8.000000    5.000000  512.329200    1.000000   \n",
       "\n",
       "         sex_male  embark_town_Queenstown  embark_town_Southampton  \n",
       "count  534.000000              534.000000               534.000000  \n",
       "mean     0.651685                0.086142                 0.713483  \n",
       "std      0.476883                0.280837                 0.452558  \n",
       "min      0.000000                0.000000                 0.000000  \n",
       "25%      0.000000                0.000000                 0.000000  \n",
       "50%      1.000000                0.000000                 1.000000  \n",
       "75%      1.000000                0.000000                 1.000000  \n",
       "max      1.000000                1.000000                 1.000000  "
      ]
     },
     "execution_count": 261,
     "metadata": {},
     "output_type": "execute_result"
    }
   ],
   "source": [
    "titanic_train.describe()"
   ]
  },
  {
   "cell_type": "code",
   "execution_count": 262,
   "id": "bb7cfd09",
   "metadata": {},
   "outputs": [
    {
     "data": {
      "text/plain": [
       "(Index(['survived', 'pclass', 'sibsp', 'parch', 'fare', 'alone', 'sex_male',\n",
       "        'embark_town_Queenstown', 'embark_town_Southampton'],\n",
       "       dtype='object'),\n",
       " Index(['survived', 'pclass', 'sibsp', 'parch', 'fare', 'alone', 'sex_male',\n",
       "        'embark_town_Queenstown', 'embark_town_Southampton'],\n",
       "       dtype='object'))"
      ]
     },
     "execution_count": 262,
     "metadata": {},
     "output_type": "execute_result"
    }
   ],
   "source": [
    "titanic_train.columns, titanic_validate.columns\n"
   ]
  },
  {
   "cell_type": "code",
   "execution_count": 265,
   "id": "96d9113c",
   "metadata": {},
   "outputs": [],
   "source": [
    "# X is indepedent variables\n",
    "# y is target variable\n",
    "\n",
    "# x and y train\n",
    "X_titanic_train = titanic_train.drop(columns = 'survived')\n",
    "y_titanic_train = titanic_train.survived\n",
    "\n",
    "# x and y validate\n",
    "X_titanic_validate = titanic_validate.drop(columns = 'survived')\n",
    "y_titanic_validate = titanic_validate.survived\n",
    "\n",
    "# x and y test\n",
    "X_titanic_test = titanic_test.drop(columns = 'survived')\n",
    "y_titanic_test = titanic_test.survived"
   ]
  },
  {
   "cell_type": "code",
   "execution_count": 266,
   "id": "52419479",
   "metadata": {},
   "outputs": [
    {
     "data": {
      "text/plain": [
       "0    329\n",
       "1    205\n",
       "Name: survived, dtype: int64"
      ]
     },
     "execution_count": 266,
     "metadata": {},
     "output_type": "execute_result"
    }
   ],
   "source": [
    "# y_train data\n",
    "y_titanic_train.value_counts()"
   ]
  },
  {
   "cell_type": "code",
   "execution_count": null,
   "id": "0e196368",
   "metadata": {},
   "outputs": [],
   "source": [
    "# Explore"
   ]
  },
  {
   "cell_type": "code",
   "execution_count": 276,
   "id": "802c8fbd",
   "metadata": {},
   "outputs": [
    {
     "data": {
      "text/plain": [
       "RandomForestClassifier(max_depth=10)"
      ]
     },
     "execution_count": 276,
     "metadata": {},
     "output_type": "execute_result"
    }
   ],
   "source": [
    "#create an object\n",
    "rf = RandomForestClassifier(min_samples_leaf = 1, max_depth = 10)\n",
    "rf.fit(X_titanic_train, y_titanic_train)"
   ]
  },
  {
   "cell_type": "code",
   "execution_count": 272,
   "id": "a6f45a85",
   "metadata": {},
   "outputs": [
    {
     "data": {
      "text/plain": [
       "RandomForestClassifier(max_depth=3, random_state=123)"
      ]
     },
     "execution_count": 272,
     "metadata": {},
     "output_type": "execute_result"
    }
   ],
   "source": [
    "#fit the model\n",
    "rf.fit(X_titanic_train, y_titanic_train)"
   ]
  },
  {
   "cell_type": "code",
   "execution_count": 274,
   "id": "68d5d73b",
   "metadata": {},
   "outputs": [
    {
     "data": {
      "text/plain": [
       "array([0, 1, 0, 0, 0, 0, 1, 0, 0, 1, 0, 0, 0, 0, 0, 0, 1, 0, 0, 0, 1, 1,\n",
       "       0, 0, 0, 0, 0, 0, 1, 0, 0, 0, 0, 0, 0, 0, 0, 0, 0, 1, 1, 0, 0, 1,\n",
       "       0, 0, 1, 1, 0, 0, 0, 1, 0, 1, 0, 0, 0, 0, 0, 1, 0, 0, 0, 0, 1, 1,\n",
       "       0, 1, 0, 1, 0, 1, 0, 0, 0, 0, 0, 1, 0, 0, 1, 0, 0, 1, 0, 0, 0, 1,\n",
       "       0, 0, 1, 0, 0, 0, 1, 0, 0, 0, 0, 0, 0, 1, 0, 0, 1, 1, 1, 1, 0, 0,\n",
       "       0, 0, 0, 0, 0, 0, 1, 0, 0, 0, 1, 0, 1, 0, 1, 0, 0, 0, 0, 1, 0, 1,\n",
       "       0, 0, 0, 0, 1, 0, 0, 0, 0, 0, 0, 0, 0, 0, 0, 1, 1, 1, 1, 0, 0, 0,\n",
       "       0, 0, 1, 0, 0, 0, 0, 0, 1, 0, 0, 0, 0, 1, 0, 0, 1, 0, 1, 1, 1, 0,\n",
       "       1, 0, 0, 1, 0, 0, 0, 0, 1, 0, 0, 1, 1, 0, 0, 0, 0, 0, 0, 1, 0, 0,\n",
       "       0, 0, 1, 0, 0, 0, 0, 0, 0, 0, 1, 0, 0, 0, 0, 0, 0, 0, 0, 0, 0, 0,\n",
       "       0, 0, 0, 0, 0, 1, 0, 1, 0, 0, 0, 1, 1, 1, 0, 1, 1, 0, 1, 0, 0, 1,\n",
       "       1, 1, 0, 0, 1, 1, 0, 0, 0, 0, 0, 0, 1, 0, 0, 0, 1, 0, 1, 1, 1, 0,\n",
       "       1, 0, 1, 0, 0, 1, 1, 0, 0, 1, 1, 0, 0, 0, 1, 1, 0, 1, 1, 0, 0, 0,\n",
       "       1, 1, 0, 0, 0, 1, 0, 1, 0, 0, 1, 0, 1, 0, 0, 0, 0, 0, 0, 0, 0, 1,\n",
       "       1, 1, 0, 0, 0, 1, 0, 0, 0, 0, 0, 1, 0, 0, 0, 1, 0, 0, 0, 0, 0, 0,\n",
       "       0, 0, 0, 0, 1, 0, 0, 0, 1, 0, 0, 0, 1, 0, 1, 0, 0, 0, 1, 0, 0, 0,\n",
       "       1, 0, 0, 0, 0, 1, 0, 1, 1, 0, 1, 1, 1, 1, 0, 1, 0, 1, 0, 1, 0, 0,\n",
       "       1, 0, 1, 1, 1, 1, 0, 0, 0, 0, 0, 0, 0, 0, 1, 1, 1, 0, 0, 0, 0, 1,\n",
       "       1, 0, 0, 0, 0, 0, 0, 1, 1, 0, 0, 0, 0, 0, 0, 0, 0, 0, 0, 1, 0, 1,\n",
       "       0, 0, 0, 0, 0, 0, 0, 1, 0, 0, 0, 1, 0, 1, 0, 0, 0, 0, 0, 1, 0, 0,\n",
       "       0, 0, 0, 1, 0, 0, 1, 0, 1, 0, 0, 0, 0, 0, 1, 0, 0, 1, 0, 0, 0, 0,\n",
       "       0, 1, 1, 0, 1, 0, 0, 1, 1, 0, 1, 0, 0, 0, 0, 1, 0, 1, 0, 1, 1, 0,\n",
       "       0, 0, 0, 0, 0, 1, 0, 0, 0, 0, 0, 0, 1, 1, 0, 0, 1, 1, 0, 0, 0, 0,\n",
       "       0, 0, 1, 1, 0, 0, 1, 0, 0, 0, 0, 0, 0, 1, 1, 0, 0, 0, 0, 1, 0, 0,\n",
       "       0, 0, 1, 0, 0, 1])"
      ]
     },
     "execution_count": 274,
     "metadata": {},
     "output_type": "execute_result"
    }
   ],
   "source": [
    "#predict\n",
    "rf.predict(X_titanic_train)"
   ]
  },
  {
   "cell_type": "markdown",
   "id": "7a2b7b6b",
   "metadata": {},
   "source": [
    "### 2. Evaluate your results using the model score, confusion matrix, and classification report.\n",
    "\n"
   ]
  },
  {
   "cell_type": "code",
   "execution_count": 316,
   "id": "e6c905af",
   "metadata": {},
   "outputs": [
    {
     "name": "stdout",
     "output_type": "stream",
     "text": [
      "Accuracy of random forest classifier on training set: 0.94\n"
     ]
    }
   ],
   "source": [
    "print('Accuracy of random forest classifier on training set: {:.2f}'\n",
    "     .format(rf.score(X_titanic_train, y_titanic_train)))"
   ]
  },
  {
   "cell_type": "code",
   "execution_count": 317,
   "id": "aeeaf7c1",
   "metadata": {},
   "outputs": [
    {
     "name": "stdout",
     "output_type": "stream",
     "text": [
      "[[283  46]\n",
      " [ 65 140]]\n"
     ]
    }
   ],
   "source": [
    "#create a confusion matrix\n",
    "cm = confusion_matrix(y_titanic_train, y_titanic_pred)\n",
    "print(cm)"
   ]
  },
  {
   "cell_type": "code",
   "execution_count": 318,
   "id": "1438b455",
   "metadata": {},
   "outputs": [
    {
     "data": {
      "image/png": "[encoded data removed]",
      "text/plain": [
       "<Figure size 432x288 with 2 Axes>"
      ]
     },
     "metadata": {
      "needs_background": "light"
     },
     "output_type": "display_data"
    }
   ],
   "source": [
    "#create a confusion matrix\n",
    "disp = ConfusionMatrixDisplay(confusion_matrix=cm, display_labels=rf.classes_)\n",
    "\n",
    "disp.plot()\n",
    "plt.show()"
   ]
  },
  {
   "cell_type": "code",
   "execution_count": 319,
   "id": "4083cb0d",
   "metadata": {},
   "outputs": [],
   "source": [
    "# create a classification report"
   ]
  },
  {
   "cell_type": "code",
   "execution_count": 320,
   "id": "44742fa4",
   "metadata": {},
   "outputs": [
    {
     "data": {
      "text/plain": [
       "0.9438202247191011"
      ]
     },
     "execution_count": 320,
     "metadata": {},
     "output_type": "execute_result"
    }
   ],
   "source": [
    "rf.score(X_titanic_train, y_titanic_train)"
   ]
  },
  {
   "cell_type": "markdown",
   "id": "103ec54e",
   "metadata": {},
   "source": [
    "### 3. Print and clearly label the following: Accuracy, true positive rate, false positive rate, true negative rate, false negative rate, precision, recall, f1-score, and support.\n",
    "\n"
   ]
  },
  {
   "cell_type": "code",
   "execution_count": 324,
   "id": "70501ab1",
   "metadata": {},
   "outputs": [
    {
     "data": {
      "text/plain": [
       "(140, 283, 46, 65)"
      ]
     },
     "execution_count": 324,
     "metadata": {},
     "output_type": "execute_result"
    }
   ],
   "source": [
    "# We can create our own classification report with a bit more info\n",
    "TN, FP, FN, TP = confusion_matrix(y_titanic_train,y_titanic_pred).ravel()\n",
    "ALL = TP + TN + FP + FN\n",
    "\n",
    "TP, TN, FP, FN"
   ]
  },
  {
   "cell_type": "code",
   "execution_count": 326,
   "id": "1a622b0a",
   "metadata": {},
   "outputs": [
    {
     "name": "stdout",
     "output_type": "stream",
     "text": [
      "              precision    recall  f1-score   support\n",
      "\n",
      "           0       0.93      0.99      0.96       329\n",
      "           1       0.98      0.87      0.92       205\n",
      "\n",
      "    accuracy                           0.94       534\n",
      "   macro avg       0.95      0.93      0.94       534\n",
      "weighted avg       0.95      0.94      0.94       534\n",
      "\n"
     ]
    }
   ],
   "source": [
    "print(classification_report(y_titanic_train, rf.predict(X_titanic_train)))\n"
   ]
  },
  {
   "cell_type": "code",
   "execution_count": 327,
   "id": "4ec4efbd",
   "metadata": {},
   "outputs": [
    {
     "name": "stdout",
     "output_type": "stream",
     "text": [
      "Accuracy: 0.7921348314606742\n",
      "True Positive Rate: 0.6829268292682927\n",
      "False Positive Rate: 0.1398176291793313\n",
      "True Negative Rate: 0.8601823708206687\n",
      "False Negative Rate: 0.3170731707317073\n",
      "Precision: 0.7526881720430108\n",
      "Recall: 0.6829268292682927\n",
      "F1 Score: 0.7161125319693095\n",
      "Support (0): 205\n",
      "Support (1): 329\n"
     ]
    }
   ],
   "source": [
    "accuracy = (TP + TN)/ALL\n",
    "print(f\"Accuracy: {accuracy}\")\n",
    "\n",
    "true_positive_rate = TP/(TP+FN)\n",
    "print(f\"True Positive Rate: {true_positive_rate}\")\n",
    "\n",
    "false_positive_rate = FP/(FP+TN)\n",
    "print(f\"False Positive Rate: {false_positive_rate}\")\n",
    "\n",
    "true_negative_rate = TN/(TN+FP)\n",
    "print(f\"True Negative Rate: {true_negative_rate}\")\n",
    "\n",
    "false_negative_rate = FN/(FN+TP)\n",
    "print(f\"False Negative Rate: {false_negative_rate}\")\n",
    "\n",
    "precision = TP/(TP+FP)\n",
    "print(f\"Precision: {precision}\")\n",
    "\n",
    "recall = TP/(TP+FN)\n",
    "print(f\"Recall: {recall}\")\n",
    "\n",
    "f1_score = 2*(precision*recall)/(precision+recall)\n",
    "print(f\"F1 Score: {f1_score}\")\n",
    "\n",
    "support_pos = TP + FN\n",
    "print(f\"Support (0): {support_pos}\")\n",
    "\n",
    "support_neg = FP + TN\n",
    "print(f\"Support (1): {support_neg}\")"
   ]
  },
  {
   "cell_type": "code",
   "execution_count": null,
   "id": "cfc9fd77",
   "metadata": {},
   "outputs": [],
   "source": [
    "#Accuracy: 79%\n",
    "#True Positive Rate: 68%\n",
    "#False Positive Rate: 13% \n",
    "#True Negative Rate: 86% \n",
    "#False Negative Rate: 31% \n",
    "#Support: 534"
   ]
  },
  {
   "cell_type": "markdown",
   "id": "5793df99",
   "metadata": {},
   "source": [
    "### 4. Run through steps increasing your min_samples_leaf and decreasing your max_depth.\n",
    "\n"
   ]
  },
  {
   "cell_type": "code",
   "execution_count": 289,
   "id": "73bfb32f",
   "metadata": {},
   "outputs": [
    {
     "name": "stdout",
     "output_type": "stream",
     "text": [
      "              precision    recall  f1-score   support\n",
      "\n",
      "           0       0.86      0.97      0.91       329\n",
      "           1       0.94      0.75      0.84       205\n",
      "\n",
      "    accuracy                           0.89       534\n",
      "   macro avg       0.90      0.86      0.88       534\n",
      "weighted avg       0.89      0.89      0.88       534\n",
      "\n",
      "              precision    recall  f1-score   support\n",
      "\n",
      "           0       0.85      0.96      0.90       329\n",
      "           1       0.92      0.74      0.82       205\n",
      "\n",
      "    accuracy                           0.87       534\n",
      "   macro avg       0.89      0.85      0.86       534\n",
      "weighted avg       0.88      0.87      0.87       534\n",
      "\n",
      "              precision    recall  f1-score   support\n",
      "\n",
      "           0       0.84      0.96      0.89       329\n",
      "           1       0.91      0.70      0.79       205\n",
      "\n",
      "    accuracy                           0.86       534\n",
      "   macro avg       0.87      0.83      0.84       534\n",
      "weighted avg       0.86      0.86      0.85       534\n",
      "\n",
      "              precision    recall  f1-score   support\n",
      "\n",
      "           0       0.82      0.95      0.88       329\n",
      "           1       0.89      0.66      0.76       205\n",
      "\n",
      "    accuracy                           0.84       534\n",
      "   macro avg       0.86      0.80      0.82       534\n",
      "weighted avg       0.85      0.84      0.83       534\n",
      "\n",
      "              precision    recall  f1-score   support\n",
      "\n",
      "           0       0.82      0.94      0.88       329\n",
      "           1       0.88      0.66      0.76       205\n",
      "\n",
      "    accuracy                           0.84       534\n",
      "   macro avg       0.85      0.80      0.82       534\n",
      "weighted avg       0.84      0.84      0.83       534\n",
      "\n",
      "              precision    recall  f1-score   support\n",
      "\n",
      "           0       0.81      0.93      0.86       329\n",
      "           1       0.85      0.65      0.73       205\n",
      "\n",
      "    accuracy                           0.82       534\n",
      "   macro avg       0.83      0.79      0.80       534\n",
      "weighted avg       0.82      0.82      0.81       534\n",
      "\n",
      "              precision    recall  f1-score   support\n",
      "\n",
      "           0       0.76      0.95      0.84       329\n",
      "           1       0.86      0.52      0.65       205\n",
      "\n",
      "    accuracy                           0.78       534\n",
      "   macro avg       0.81      0.73      0.74       534\n",
      "weighted avg       0.80      0.78      0.77       534\n",
      "\n",
      "              precision    recall  f1-score   support\n",
      "\n",
      "           0       0.74      0.99      0.84       329\n",
      "           1       0.96      0.43      0.60       205\n",
      "\n",
      "    accuracy                           0.78       534\n",
      "   macro avg       0.85      0.71      0.72       534\n",
      "weighted avg       0.82      0.78      0.75       534\n",
      "\n"
     ]
    }
   ],
   "source": [
    "models = [rf]\n",
    "start = 2\n",
    "stop = 10\n",
    "\n",
    "for i in range(start, stop):\n",
    "    clf = RandomForestClassifier(min_samples_leaf = i, max_depth = stop - i)\n",
    "    clf.fit(X_titanic_train, y_titanic_train)\n",
    "    print(classification_report(y_titanic_train, clf.predict(X_titanic_train)))\n",
    "    \n",
    "    models.append(clf)"
   ]
  },
  {
   "cell_type": "code",
   "execution_count": 292,
   "id": "709754c9",
   "metadata": {},
   "outputs": [
    {
     "name": "stdout",
     "output_type": "stream",
     "text": [
      "              precision    recall  f1-score   support\n",
      "\n",
      "           0       0.76      0.96      0.85       329\n",
      "           1       0.90      0.52      0.66       205\n",
      "\n",
      "    accuracy                           0.79       534\n",
      "   macro avg       0.83      0.74      0.76       534\n",
      "weighted avg       0.82      0.79      0.78       534\n",
      "\n",
      "              precision    recall  f1-score   support\n",
      "\n",
      "           0       0.81      0.93      0.87       329\n",
      "           1       0.85      0.66      0.74       205\n",
      "\n",
      "    accuracy                           0.82       534\n",
      "   macro avg       0.83      0.79      0.80       534\n",
      "weighted avg       0.83      0.82      0.82       534\n",
      "\n",
      "              precision    recall  f1-score   support\n",
      "\n",
      "           0       0.83      0.95      0.88       329\n",
      "           1       0.89      0.68      0.77       205\n",
      "\n",
      "    accuracy                           0.85       534\n",
      "   macro avg       0.86      0.82      0.83       534\n",
      "weighted avg       0.85      0.85      0.84       534\n",
      "\n",
      "              precision    recall  f1-score   support\n",
      "\n",
      "           0       0.84      0.95      0.89       329\n",
      "           1       0.91      0.71      0.79       205\n",
      "\n",
      "    accuracy                           0.86       534\n",
      "   macro avg       0.87      0.83      0.84       534\n",
      "weighted avg       0.87      0.86      0.86       534\n",
      "\n",
      "              precision    recall  f1-score   support\n",
      "\n",
      "           0       0.85      0.97      0.91       329\n",
      "           1       0.94      0.73      0.82       205\n",
      "\n",
      "    accuracy                           0.88       534\n",
      "   macro avg       0.90      0.85      0.87       534\n",
      "weighted avg       0.89      0.88      0.88       534\n",
      "\n",
      "              precision    recall  f1-score   support\n",
      "\n",
      "           0       0.88      0.97      0.92       329\n",
      "           1       0.95      0.79      0.86       205\n",
      "\n",
      "    accuracy                           0.90       534\n",
      "   macro avg       0.91      0.88      0.89       534\n",
      "weighted avg       0.91      0.90      0.90       534\n",
      "\n",
      "              precision    recall  f1-score   support\n",
      "\n",
      "           0       0.91      0.98      0.95       329\n",
      "           1       0.97      0.85      0.91       205\n",
      "\n",
      "    accuracy                           0.93       534\n",
      "   macro avg       0.94      0.92      0.93       534\n",
      "weighted avg       0.94      0.93      0.93       534\n",
      "\n",
      "              precision    recall  f1-score   support\n",
      "\n",
      "           0       0.92      0.98      0.95       329\n",
      "           1       0.97      0.87      0.92       205\n",
      "\n",
      "    accuracy                           0.94       534\n",
      "   macro avg       0.95      0.93      0.94       534\n",
      "weighted avg       0.94      0.94      0.94       534\n",
      "\n"
     ]
    }
   ],
   "source": [
    "models = [rf]\n",
    "start = 2\n",
    "stop = 10\n",
    "\n",
    "for i in range(start, stop):\n",
    "    clf = RandomForestClassifier(max_depth = i, random_state = 123)\n",
    "    clf.fit(X_titanic_train, y_titanic_train)\n",
    "    print(classification_report(y_titanic_train, clf.predict(X_titanic_train)))\n",
    "    \n",
    "    models.append(clf)"
   ]
  },
  {
   "cell_type": "code",
   "execution_count": 308,
   "id": "5d690253",
   "metadata": {},
   "outputs": [
    {
     "data": {
      "text/html": [
       "<div>\n",
       "<style scoped>\n",
       "    .dataframe tbody tr th:only-of-type {\n",
       "        vertical-align: middle;\n",
       "    }\n",
       "\n",
       "    .dataframe tbody tr th {\n",
       "        vertical-align: top;\n",
       "    }\n",
       "\n",
       "    .dataframe thead th {\n",
       "        text-align: right;\n",
       "    }\n",
       "</style>\n",
       "<table border=\"1\" class=\"dataframe\">\n",
       "  <thead>\n",
       "    <tr style=\"text-align: right;\">\n",
       "      <th></th>\n",
       "      <th>max_depth</th>\n",
       "      <th>train_accuracy</th>\n",
       "      <th>validate_accuracy</th>\n",
       "      <th>difference</th>\n",
       "    </tr>\n",
       "  </thead>\n",
       "  <tbody>\n",
       "    <tr>\n",
       "      <th>0</th>\n",
       "      <td>2</td>\n",
       "      <td>0.794007</td>\n",
       "      <td>0.786517</td>\n",
       "      <td>0.007491</td>\n",
       "    </tr>\n",
       "    <tr>\n",
       "      <th>1</th>\n",
       "      <td>3</td>\n",
       "      <td>0.823970</td>\n",
       "      <td>0.803371</td>\n",
       "      <td>0.020599</td>\n",
       "    </tr>\n",
       "    <tr>\n",
       "      <th>2</th>\n",
       "      <td>4</td>\n",
       "      <td>0.846442</td>\n",
       "      <td>0.803371</td>\n",
       "      <td>0.043071</td>\n",
       "    </tr>\n",
       "    <tr>\n",
       "      <th>3</th>\n",
       "      <td>5</td>\n",
       "      <td>0.859551</td>\n",
       "      <td>0.797753</td>\n",
       "      <td>0.061798</td>\n",
       "    </tr>\n",
       "    <tr>\n",
       "      <th>4</th>\n",
       "      <td>6</td>\n",
       "      <td>0.880150</td>\n",
       "      <td>0.786517</td>\n",
       "      <td>0.093633</td>\n",
       "    </tr>\n",
       "    <tr>\n",
       "      <th>5</th>\n",
       "      <td>7</td>\n",
       "      <td>0.902622</td>\n",
       "      <td>0.792135</td>\n",
       "      <td>0.110487</td>\n",
       "    </tr>\n",
       "    <tr>\n",
       "      <th>6</th>\n",
       "      <td>8</td>\n",
       "      <td>0.932584</td>\n",
       "      <td>0.775281</td>\n",
       "      <td>0.157303</td>\n",
       "    </tr>\n",
       "    <tr>\n",
       "      <th>7</th>\n",
       "      <td>9</td>\n",
       "      <td>0.940075</td>\n",
       "      <td>0.775281</td>\n",
       "      <td>0.164794</td>\n",
       "    </tr>\n",
       "    <tr>\n",
       "      <th>8</th>\n",
       "      <td>10</td>\n",
       "      <td>0.943820</td>\n",
       "      <td>0.758427</td>\n",
       "      <td>0.185393</td>\n",
       "    </tr>\n",
       "    <tr>\n",
       "      <th>9</th>\n",
       "      <td>11</td>\n",
       "      <td>0.943820</td>\n",
       "      <td>0.764045</td>\n",
       "      <td>0.179775</td>\n",
       "    </tr>\n",
       "    <tr>\n",
       "      <th>10</th>\n",
       "      <td>12</td>\n",
       "      <td>0.945693</td>\n",
       "      <td>0.764045</td>\n",
       "      <td>0.181648</td>\n",
       "    </tr>\n",
       "    <tr>\n",
       "      <th>11</th>\n",
       "      <td>13</td>\n",
       "      <td>0.945693</td>\n",
       "      <td>0.758427</td>\n",
       "      <td>0.187266</td>\n",
       "    </tr>\n",
       "    <tr>\n",
       "      <th>12</th>\n",
       "      <td>14</td>\n",
       "      <td>0.945693</td>\n",
       "      <td>0.764045</td>\n",
       "      <td>0.181648</td>\n",
       "    </tr>\n",
       "    <tr>\n",
       "      <th>13</th>\n",
       "      <td>15</td>\n",
       "      <td>0.945693</td>\n",
       "      <td>0.758427</td>\n",
       "      <td>0.187266</td>\n",
       "    </tr>\n",
       "    <tr>\n",
       "      <th>14</th>\n",
       "      <td>16</td>\n",
       "      <td>0.945693</td>\n",
       "      <td>0.764045</td>\n",
       "      <td>0.181648</td>\n",
       "    </tr>\n",
       "    <tr>\n",
       "      <th>15</th>\n",
       "      <td>17</td>\n",
       "      <td>0.945693</td>\n",
       "      <td>0.764045</td>\n",
       "      <td>0.181648</td>\n",
       "    </tr>\n",
       "    <tr>\n",
       "      <th>16</th>\n",
       "      <td>18</td>\n",
       "      <td>0.945693</td>\n",
       "      <td>0.764045</td>\n",
       "      <td>0.181648</td>\n",
       "    </tr>\n",
       "    <tr>\n",
       "      <th>17</th>\n",
       "      <td>19</td>\n",
       "      <td>0.945693</td>\n",
       "      <td>0.764045</td>\n",
       "      <td>0.181648</td>\n",
       "    </tr>\n",
       "  </tbody>\n",
       "</table>\n",
       "</div>"
      ],
      "text/plain": [
       "    max_depth  train_accuracy  validate_accuracy  difference\n",
       "0           2        0.794007           0.786517    0.007491\n",
       "1           3        0.823970           0.803371    0.020599\n",
       "2           4        0.846442           0.803371    0.043071\n",
       "3           5        0.859551           0.797753    0.061798\n",
       "4           6        0.880150           0.786517    0.093633\n",
       "5           7        0.902622           0.792135    0.110487\n",
       "6           8        0.932584           0.775281    0.157303\n",
       "7           9        0.940075           0.775281    0.164794\n",
       "8          10        0.943820           0.758427    0.185393\n",
       "9          11        0.943820           0.764045    0.179775\n",
       "10         12        0.945693           0.764045    0.181648\n",
       "11         13        0.945693           0.758427    0.187266\n",
       "12         14        0.945693           0.764045    0.181648\n",
       "13         15        0.945693           0.758427    0.187266\n",
       "14         16        0.945693           0.764045    0.181648\n",
       "15         17        0.945693           0.764045    0.181648\n",
       "16         18        0.945693           0.764045    0.181648\n",
       "17         19        0.945693           0.764045    0.181648"
      ]
     },
     "execution_count": 308,
     "metadata": {},
     "output_type": "execute_result"
    }
   ],
   "source": [
    "# compare in-sample to out-of-sample\n",
    "metrics = []\n",
    "\n",
    "for i in range(2, 20):\n",
    "    # Make the thing\n",
    "    rf = RandomForestClassifier(max_depth=i, random_state=123)\n",
    "\n",
    "    # Fit the thing\n",
    "    rf = rf.fit(X_titanic_train, y_titanic_train)\n",
    "\n",
    "    # Use the thing\n",
    "    in_sample_accuracy = rf.score(X_titanic_train, y_titanic_train)\n",
    "    \n",
    "    out_of_sample_accuracy = rf.score(X_titanic_validate, y_titanic_validate)\n",
    "\n",
    "    output = {\n",
    "        \"max_depth\": i,\n",
    "        \"train_accuracy\": in_sample_accuracy,\n",
    "        \"validate_accuracy\": out_of_sample_accuracy\n",
    "    }\n",
    "    \n",
    "    metrics.append(output)\n",
    "    \n",
    "df = pd.DataFrame(metrics)\n",
    "df[\"difference\"] = df.train_accuracy - df.validate_accuracy\n",
    "df"
   ]
  },
  {
   "cell_type": "code",
   "execution_count": 306,
   "id": "3403e1a0",
   "metadata": {},
   "outputs": [
    {
     "data": {
      "image/png": "[encoded data removed]",
      "text/plain": [
       "<Figure size 1296x648 with 1 Axes>"
      ]
     },
     "metadata": {
      "needs_background": "light"
     },
     "output_type": "display_data"
    }
   ],
   "source": [
    "#plot different accuracies and differences\n",
    "df.set_index('max_depth').plot(figsize = (18,9))\n",
    "plt.ylabel('Accuracy')\n",
    "plt.xticks(np.arange(0,21,1))\n",
    "plt.grid()"
   ]
  },
  {
   "cell_type": "code",
   "execution_count": 313,
   "id": "b9defea8",
   "metadata": {},
   "outputs": [
    {
     "data": {
      "text/html": [
       "<div>\n",
       "<style scoped>\n",
       "    .dataframe tbody tr th:only-of-type {\n",
       "        vertical-align: middle;\n",
       "    }\n",
       "\n",
       "    .dataframe tbody tr th {\n",
       "        vertical-align: top;\n",
       "    }\n",
       "\n",
       "    .dataframe thead th {\n",
       "        text-align: right;\n",
       "    }\n",
       "</style>\n",
       "<table border=\"1\" class=\"dataframe\">\n",
       "  <thead>\n",
       "    <tr style=\"text-align: right;\">\n",
       "      <th></th>\n",
       "      <th>min_samples_per_leaf</th>\n",
       "      <th>max_depth</th>\n",
       "      <th>train_accuracy</th>\n",
       "      <th>validate_accuracy</th>\n",
       "      <th>difference</th>\n",
       "    </tr>\n",
       "  </thead>\n",
       "  <tbody>\n",
       "    <tr>\n",
       "      <th>0</th>\n",
       "      <td>2</td>\n",
       "      <td>18</td>\n",
       "      <td>0.895131</td>\n",
       "      <td>0.786517</td>\n",
       "      <td>0.108614</td>\n",
       "    </tr>\n",
       "    <tr>\n",
       "      <th>1</th>\n",
       "      <td>3</td>\n",
       "      <td>17</td>\n",
       "      <td>0.880150</td>\n",
       "      <td>0.786517</td>\n",
       "      <td>0.093633</td>\n",
       "    </tr>\n",
       "    <tr>\n",
       "      <th>2</th>\n",
       "      <td>4</td>\n",
       "      <td>16</td>\n",
       "      <td>0.865169</td>\n",
       "      <td>0.803371</td>\n",
       "      <td>0.061798</td>\n",
       "    </tr>\n",
       "    <tr>\n",
       "      <th>3</th>\n",
       "      <td>5</td>\n",
       "      <td>15</td>\n",
       "      <td>0.846442</td>\n",
       "      <td>0.803371</td>\n",
       "      <td>0.043071</td>\n",
       "    </tr>\n",
       "    <tr>\n",
       "      <th>4</th>\n",
       "      <td>6</td>\n",
       "      <td>14</td>\n",
       "      <td>0.842697</td>\n",
       "      <td>0.808989</td>\n",
       "      <td>0.033708</td>\n",
       "    </tr>\n",
       "    <tr>\n",
       "      <th>5</th>\n",
       "      <td>7</td>\n",
       "      <td>13</td>\n",
       "      <td>0.840824</td>\n",
       "      <td>0.786517</td>\n",
       "      <td>0.054307</td>\n",
       "    </tr>\n",
       "    <tr>\n",
       "      <th>6</th>\n",
       "      <td>8</td>\n",
       "      <td>12</td>\n",
       "      <td>0.837079</td>\n",
       "      <td>0.792135</td>\n",
       "      <td>0.044944</td>\n",
       "    </tr>\n",
       "    <tr>\n",
       "      <th>7</th>\n",
       "      <td>9</td>\n",
       "      <td>11</td>\n",
       "      <td>0.833333</td>\n",
       "      <td>0.803371</td>\n",
       "      <td>0.029963</td>\n",
       "    </tr>\n",
       "    <tr>\n",
       "      <th>8</th>\n",
       "      <td>10</td>\n",
       "      <td>10</td>\n",
       "      <td>0.833333</td>\n",
       "      <td>0.808989</td>\n",
       "      <td>0.024345</td>\n",
       "    </tr>\n",
       "    <tr>\n",
       "      <th>9</th>\n",
       "      <td>11</td>\n",
       "      <td>9</td>\n",
       "      <td>0.823970</td>\n",
       "      <td>0.803371</td>\n",
       "      <td>0.020599</td>\n",
       "    </tr>\n",
       "    <tr>\n",
       "      <th>10</th>\n",
       "      <td>12</td>\n",
       "      <td>8</td>\n",
       "      <td>0.823970</td>\n",
       "      <td>0.808989</td>\n",
       "      <td>0.014981</td>\n",
       "    </tr>\n",
       "    <tr>\n",
       "      <th>11</th>\n",
       "      <td>13</td>\n",
       "      <td>7</td>\n",
       "      <td>0.822097</td>\n",
       "      <td>0.808989</td>\n",
       "      <td>0.013109</td>\n",
       "    </tr>\n",
       "    <tr>\n",
       "      <th>12</th>\n",
       "      <td>14</td>\n",
       "      <td>6</td>\n",
       "      <td>0.831461</td>\n",
       "      <td>0.814607</td>\n",
       "      <td>0.016854</td>\n",
       "    </tr>\n",
       "    <tr>\n",
       "      <th>13</th>\n",
       "      <td>15</td>\n",
       "      <td>5</td>\n",
       "      <td>0.823970</td>\n",
       "      <td>0.808989</td>\n",
       "      <td>0.014981</td>\n",
       "    </tr>\n",
       "    <tr>\n",
       "      <th>14</th>\n",
       "      <td>16</td>\n",
       "      <td>4</td>\n",
       "      <td>0.820225</td>\n",
       "      <td>0.797753</td>\n",
       "      <td>0.022472</td>\n",
       "    </tr>\n",
       "    <tr>\n",
       "      <th>15</th>\n",
       "      <td>17</td>\n",
       "      <td>3</td>\n",
       "      <td>0.822097</td>\n",
       "      <td>0.803371</td>\n",
       "      <td>0.018727</td>\n",
       "    </tr>\n",
       "    <tr>\n",
       "      <th>16</th>\n",
       "      <td>18</td>\n",
       "      <td>2</td>\n",
       "      <td>0.794007</td>\n",
       "      <td>0.786517</td>\n",
       "      <td>0.007491</td>\n",
       "    </tr>\n",
       "    <tr>\n",
       "      <th>17</th>\n",
       "      <td>19</td>\n",
       "      <td>1</td>\n",
       "      <td>0.754682</td>\n",
       "      <td>0.764045</td>\n",
       "      <td>-0.009363</td>\n",
       "    </tr>\n",
       "  </tbody>\n",
       "</table>\n",
       "</div>"
      ],
      "text/plain": [
       "    min_samples_per_leaf  max_depth  train_accuracy  validate_accuracy  \\\n",
       "0                      2         18        0.895131           0.786517   \n",
       "1                      3         17        0.880150           0.786517   \n",
       "2                      4         16        0.865169           0.803371   \n",
       "3                      5         15        0.846442           0.803371   \n",
       "4                      6         14        0.842697           0.808989   \n",
       "5                      7         13        0.840824           0.786517   \n",
       "6                      8         12        0.837079           0.792135   \n",
       "7                      9         11        0.833333           0.803371   \n",
       "8                     10         10        0.833333           0.808989   \n",
       "9                     11          9        0.823970           0.803371   \n",
       "10                    12          8        0.823970           0.808989   \n",
       "11                    13          7        0.822097           0.808989   \n",
       "12                    14          6        0.831461           0.814607   \n",
       "13                    15          5        0.823970           0.808989   \n",
       "14                    16          4        0.820225           0.797753   \n",
       "15                    17          3        0.822097           0.803371   \n",
       "16                    18          2        0.794007           0.786517   \n",
       "17                    19          1        0.754682           0.764045   \n",
       "\n",
       "    difference  \n",
       "0     0.108614  \n",
       "1     0.093633  \n",
       "2     0.061798  \n",
       "3     0.043071  \n",
       "4     0.033708  \n",
       "5     0.054307  \n",
       "6     0.044944  \n",
       "7     0.029963  \n",
       "8     0.024345  \n",
       "9     0.020599  \n",
       "10    0.014981  \n",
       "11    0.013109  \n",
       "12    0.016854  \n",
       "13    0.014981  \n",
       "14    0.022472  \n",
       "15    0.018727  \n",
       "16    0.007491  \n",
       "17   -0.009363  "
      ]
     },
     "execution_count": 313,
     "metadata": {},
     "output_type": "execute_result"
    }
   ],
   "source": [
    "# Increasing min_samples_per_leaf, decreasing max_depth\n",
    "metrics = []\n",
    "max_depth = 20\n",
    "\n",
    "for i in range(2, max_depth):\n",
    "    # Make the thing\n",
    "    depth = max_depth - i\n",
    "    n_samples = i\n",
    "    rf = RandomForestClassifier(max_depth=depth, min_samples_leaf=n_samples, random_state=123)\n",
    "\n",
    "    # Fit the thing\n",
    "    rf = rf.fit(X_titanic_train, y_titanic_train)\n",
    "\n",
    "    # Use the thing\n",
    "    in_sample_accuracy = rf.score(X_titanic_train, y_titanic_train)\n",
    "    \n",
    "    out_of_sample_accuracy = rf.score(X_titanic_validate, y_titanic_validate)\n",
    "\n",
    "    output = {\n",
    "        \"min_samples_per_leaf\": n_samples,\n",
    "        \"max_depth\": depth,\n",
    "        \"train_accuracy\": in_sample_accuracy,\n",
    "        \"validate_accuracy\": out_of_sample_accuracy\n",
    "    }\n",
    "    \n",
    "    metrics.append(output)\n",
    "    \n",
    "df = pd.DataFrame(metrics)\n",
    "df[\"difference\"] = df.train_accuracy - df.validate_accuracy\n",
    "df"
   ]
  },
  {
   "cell_type": "code",
   "execution_count": 314,
   "id": "0c1bce93",
   "metadata": {},
   "outputs": [
    {
     "data": {
      "image/png": "[encoded data removed]",
      "text/plain": [
       "<Figure size 1296x648 with 1 Axes>"
      ]
     },
     "metadata": {
      "needs_background": "light"
     },
     "output_type": "display_data"
    }
   ],
   "source": [
    "df.set_index('max_depth')[['train_accuracy', 'validate_accuracy','difference']].plot(figsize = (18,9))\n",
    "plt.ylabel('Accuracy')\n",
    "plt.xticks(np.arange(0,21,1))\n",
    "plt.grid()"
   ]
  },
  {
   "cell_type": "markdown",
   "id": "1f643d48",
   "metadata": {},
   "source": [
    "### 5. What are the differences in the evaluation metrics? Which performs better on your in-sample data? Why?"
   ]
  },
  {
   "cell_type": "code",
   "execution_count": null,
   "id": "a9bc404b",
   "metadata": {},
   "outputs": [],
   "source": [
    "# there's differences in evaluation as seen above because we increased sample sizes and depth"
   ]
  }
 ],
 "metadata": {
  "kernelspec": {
   "display_name": "Python 3 (ipykernel)",
   "language": "python",
   "name": "python3"
  },
  "language_info": {
   "codemirror_mode": {
    "name": "ipython",
    "version": 3
   },
   "file_extension": ".py",
   "mimetype": "text/x-python",
   "name": "python",
   "nbconvert_exporter": "python",
   "pygments_lexer": "ipython3",
   "version": "3.9.12"
  }
 },
 "nbformat": 4,
 "nbformat_minor": 5
}
