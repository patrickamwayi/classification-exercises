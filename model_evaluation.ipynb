{
 "cells": [
  {
   "cell_type": "code",
   "execution_count": 7,
   "id": "d63e31a0",
   "metadata": {},
   "outputs": [],
   "source": [
    "import pandas as pd\n",
    "from sklearn.metrics import confusion_matrix"
   ]
  },
  {
   "cell_type": "markdown",
   "id": "3799a9ad",
   "metadata": {},
   "source": [
    "## Exercises"
   ]
  },
  {
   "cell_type": "markdown",
   "id": "4a3c9ffc",
   "metadata": {},
   "source": [
    "### 1. Create a new file named model_evaluation.py or model_evaluation.ipynb for these exercises."
   ]
  },
  {
   "cell_type": "markdown",
   "id": "9862d315",
   "metadata": {},
   "source": [
    "### 2. Given the following confusion matrix, evaluate (by hand) the model's performance.\n",
    "\n",
    "\n"
   ]
  },
  {
   "cell_type": "markdown",
   "id": "b9dd9093",
   "metadata": {},
   "source": [
    "|               | pred dog   | pred cat   |\n",
    "|:------------  |-----------:|-----------:|\n",
    "| actual dog    |         46 |         7  |\n",
    "| actual cat    |         13 |         34 |\n"
   ]
  },
  {
   "cell_type": "code",
   "execution_count": 8,
   "id": "36a44d4c",
   "metadata": {},
   "outputs": [],
   "source": [
    "#by hand\n",
    "#                 pred dog  pred cat\n",
    "# actual dog         46        7\n",
    "# actual cat         13       34\n",
    "\n",
    "#given the above confusion matrix, we will take a positive prediction to be a dog while negative will be a cat\n",
    "\n",
    "#for our baseline, we will predict a dog all the time because it has the most prections as seen below:\n",
    "\n",
    "\n",
    "#                 pred dog  pred cat  pred dog    pred cat\n",
    "# actual dog         46        7       53            0\n",
    "# actual cat         13       34       47            0\n",
    "\n",
    "\n"
   ]
  },
  {
   "cell_type": "markdown",
   "id": "9464d970",
   "metadata": {},
   "source": [
    "### In the context of this problem, what is a false positive?\n",
    "### In the context of this problem, what is a false negative?\n",
    "### How would you describe this model?"
   ]
  },
  {
   "cell_type": "code",
   "execution_count": 9,
   "id": "8d47c9c6",
   "metadata": {},
   "outputs": [
    {
     "name": "stdout",
     "output_type": "stream",
     "text": [
      " accuracy: 66.12%\n",
      " precision: 86.79%\n",
      " recall: 77.97%\n"
     ]
    }
   ],
   "source": [
    "\n",
    "#                 pred dog  pred cat\n",
    "# actual dog         46        7\n",
    "# actual cat         13       34\n",
    "\n",
    "#false positive\n",
    "# it's a correct prediction\n",
    "# the actual label is a cat but the prediction is a dog\n",
    "\n",
    "#false negative\n",
    "# it's an incorrect prediction\n",
    "# the actual label is a dog but the prediction is a cat\n",
    "\n",
    "#model description\n",
    "# a recall\n",
    "\n",
    "TP = 46\n",
    "FP = 7\n",
    "FN = 13\n",
    "TN = 34\n",
    "#accuracy = (TP + TN) / # of observations\n",
    "accuracy = (TP + TN) / (TP + TN + FP + TN)\n",
    "\n",
    "#accuracy = (46 + 34) / (46 + 34 + 7 + 34)\n",
    "#accuracy = 80/121\n",
    "#accuracy = 0.6611\n",
    "\n",
    "precision = TP / (TP + FP)\n",
    "#precision = 46 / (46 + 7)\n",
    "#precision = 0.8679\n",
    "\n",
    "recall = TP / (TP + FN)\n",
    "#recall = 46 / (46 + 13)\n",
    "#recall = 0.7796\n",
    "\n",
    "#print results\n",
    "\n",
    "print(f' accuracy: {accuracy:.2%}')\n",
    "print(f' precision: {precision:.2%}')\n",
    "print(f' recall: {recall:.2%}')\n"
   ]
  },
  {
   "cell_type": "markdown",
   "id": "6da6b40b",
   "metadata": {},
   "source": [
    "### 3. You are working as a datascientist working for Codeup Cody Creator (C3 for short), a rubber-duck manufacturing plant.\n",
    "\n",
    "### Unfortunately, some of the rubber ducks that are produced will have defects. Your team has built several models that try to predict those defects, and the data from their predictions can be found here.\n"
   ]
  },
  {
   "cell_type": "code",
   "execution_count": 15,
   "id": "cf182536",
   "metadata": {},
   "outputs": [
    {
     "data": {
      "text/html": [
       "<div>\n",
       "<style scoped>\n",
       "    .dataframe tbody tr th:only-of-type {\n",
       "        vertical-align: middle;\n",
       "    }\n",
       "\n",
       "    .dataframe tbody tr th {\n",
       "        vertical-align: top;\n",
       "    }\n",
       "\n",
       "    .dataframe thead th {\n",
       "        text-align: right;\n",
       "    }\n",
       "</style>\n",
       "<table border=\"1\" class=\"dataframe\">\n",
       "  <thead>\n",
       "    <tr style=\"text-align: right;\">\n",
       "      <th></th>\n",
       "      <th>actual</th>\n",
       "      <th>model1</th>\n",
       "      <th>model2</th>\n",
       "      <th>model3</th>\n",
       "    </tr>\n",
       "  </thead>\n",
       "  <tbody>\n",
       "    <tr>\n",
       "      <th>0</th>\n",
       "      <td>No Defect</td>\n",
       "      <td>No Defect</td>\n",
       "      <td>Defect</td>\n",
       "      <td>No Defect</td>\n",
       "    </tr>\n",
       "    <tr>\n",
       "      <th>1</th>\n",
       "      <td>No Defect</td>\n",
       "      <td>No Defect</td>\n",
       "      <td>Defect</td>\n",
       "      <td>Defect</td>\n",
       "    </tr>\n",
       "    <tr>\n",
       "      <th>2</th>\n",
       "      <td>No Defect</td>\n",
       "      <td>No Defect</td>\n",
       "      <td>Defect</td>\n",
       "      <td>No Defect</td>\n",
       "    </tr>\n",
       "    <tr>\n",
       "      <th>3</th>\n",
       "      <td>No Defect</td>\n",
       "      <td>Defect</td>\n",
       "      <td>Defect</td>\n",
       "      <td>Defect</td>\n",
       "    </tr>\n",
       "    <tr>\n",
       "      <th>4</th>\n",
       "      <td>No Defect</td>\n",
       "      <td>No Defect</td>\n",
       "      <td>Defect</td>\n",
       "      <td>No Defect</td>\n",
       "    </tr>\n",
       "  </tbody>\n",
       "</table>\n",
       "</div>"
      ],
      "text/plain": [
       "      actual     model1  model2     model3\n",
       "0  No Defect  No Defect  Defect  No Defect\n",
       "1  No Defect  No Defect  Defect     Defect\n",
       "2  No Defect  No Defect  Defect  No Defect\n",
       "3  No Defect     Defect  Defect     Defect\n",
       "4  No Defect  No Defect  Defect  No Defect"
      ]
     },
     "execution_count": 15,
     "metadata": {},
     "output_type": "execute_result"
    }
   ],
   "source": [
    "c3 = pd.read_csv('c3.csv')\n",
    "c3.head()"
   ]
  },
  {
   "cell_type": "markdown",
   "id": "c7af95b4",
   "metadata": {},
   "source": [
    "### Use the predictions dataset and pandas to help answer the following questions:\n"
   ]
  },
  {
   "cell_type": "markdown",
   "id": "ab0fdc00",
   "metadata": {},
   "source": [
    "#### (i) An internal team wants to investigate the cause of the manufacturing defects. They tell you that they want to identify as many of            the ducks that have a defect as possible. Which evaluation metric would be appropriate here? Which model would be the best fit            for this use case?"
   ]
  },
  {
   "cell_type": "code",
   "execution_count": 22,
   "id": "bbd8457e",
   "metadata": {},
   "outputs": [
    {
     "data": {
      "text/html": [
       "<div>\n",
       "<style scoped>\n",
       "    .dataframe tbody tr th:only-of-type {\n",
       "        vertical-align: middle;\n",
       "    }\n",
       "\n",
       "    .dataframe tbody tr th {\n",
       "        vertical-align: top;\n",
       "    }\n",
       "\n",
       "    .dataframe thead th {\n",
       "        text-align: right;\n",
       "    }\n",
       "</style>\n",
       "<table border=\"1\" class=\"dataframe\">\n",
       "  <thead>\n",
       "    <tr style=\"text-align: right;\">\n",
       "      <th></th>\n",
       "      <th>actual</th>\n",
       "      <th>model1</th>\n",
       "      <th>model2</th>\n",
       "      <th>model3</th>\n",
       "    </tr>\n",
       "  </thead>\n",
       "  <tbody>\n",
       "    <tr>\n",
       "      <th>0</th>\n",
       "      <td>0</td>\n",
       "      <td>0</td>\n",
       "      <td>1</td>\n",
       "      <td>0</td>\n",
       "    </tr>\n",
       "    <tr>\n",
       "      <th>1</th>\n",
       "      <td>0</td>\n",
       "      <td>0</td>\n",
       "      <td>1</td>\n",
       "      <td>1</td>\n",
       "    </tr>\n",
       "    <tr>\n",
       "      <th>2</th>\n",
       "      <td>0</td>\n",
       "      <td>0</td>\n",
       "      <td>1</td>\n",
       "      <td>0</td>\n",
       "    </tr>\n",
       "    <tr>\n",
       "      <th>3</th>\n",
       "      <td>0</td>\n",
       "      <td>1</td>\n",
       "      <td>1</td>\n",
       "      <td>1</td>\n",
       "    </tr>\n",
       "    <tr>\n",
       "      <th>4</th>\n",
       "      <td>0</td>\n",
       "      <td>0</td>\n",
       "      <td>1</td>\n",
       "      <td>0</td>\n",
       "    </tr>\n",
       "  </tbody>\n",
       "</table>\n",
       "</div>"
      ],
      "text/plain": [
       "   actual  model1  model2  model3\n",
       "0       0       0       1       0\n",
       "1       0       0       1       1\n",
       "2       0       0       1       0\n",
       "3       0       1       1       1\n",
       "4       0       0       1       0"
      ]
     },
     "execution_count": 22,
     "metadata": {},
     "output_type": "execute_result"
    }
   ],
   "source": [
    "#df.c3.map({'Defect':1, 'No Defect':0})\n",
    "c3_encode = c3.replace({'Defect':1, 'No Defect':0})\n",
    "c3_encode.head()"
   ]
  },
  {
   "cell_type": "code",
   "execution_count": 37,
   "id": "dc8b9f04",
   "metadata": {},
   "outputs": [
    {
     "name": "stdout",
     "output_type": "stream",
     "text": [
      "<class 'pandas.core.frame.DataFrame'>\n",
      "RangeIndex: 200 entries, 0 to 199\n",
      "Data columns (total 4 columns):\n",
      " #   Column  Non-Null Count  Dtype \n",
      "---  ------  --------------  ----- \n",
      " 0   actual  200 non-null    object\n",
      " 1   model1  200 non-null    object\n",
      " 2   model2  200 non-null    object\n",
      " 3   model3  200 non-null    object\n",
      "dtypes: object(4)\n",
      "memory usage: 6.4+ KB\n"
     ]
    }
   ],
   "source": [
    "c3.info()"
   ]
  },
  {
   "cell_type": "code",
   "execution_count": 64,
   "id": "486e7476",
   "metadata": {},
   "outputs": [
    {
     "data": {
      "text/plain": [
       "No Defect    184\n",
       "Defect        16\n",
       "Name: actual, dtype: int64"
      ]
     },
     "execution_count": 64,
     "metadata": {},
     "output_type": "execute_result"
    }
   ],
   "source": [
    "c3.actual.value_counts()"
   ]
  },
  {
   "cell_type": "code",
   "execution_count": 68,
   "id": "4694793c",
   "metadata": {},
   "outputs": [
    {
     "name": "stdout",
     "output_type": "stream",
     "text": [
      " recall: 8.00%\n"
     ]
    }
   ],
   "source": [
    "#use recall model\n",
    "\n",
    "#                    pred defect  pred no defect\n",
    "# actual defect         16             0\n",
    "# actual no defect     184             0       \n",
    "\n",
    "TP = 16\n",
    "FP = 0\n",
    "FN = 184\n",
    "TN = 0\n",
    "\n",
    "recall = TP / (TP + FN)\n",
    "\n",
    "#print results\n",
    "\n",
    "print(f' recall: {recall:.2%}')\n"
   ]
  },
  {
   "cell_type": "code",
   "execution_count": 72,
   "id": "3d1eed35",
   "metadata": {},
   "outputs": [
    {
     "data": {
      "text/plain": [
       "No Defect    190\n",
       "Defect        10\n",
       "Name: model1, dtype: int64"
      ]
     },
     "execution_count": 72,
     "metadata": {},
     "output_type": "execute_result"
    }
   ],
   "source": [
    "c3.model1.value_counts()"
   ]
  },
  {
   "cell_type": "code",
   "execution_count": 73,
   "id": "016e159e",
   "metadata": {},
   "outputs": [
    {
     "name": "stdout",
     "output_type": "stream",
     "text": [
      " recall: 5.00%\n"
     ]
    }
   ],
   "source": [
    "#use recall model\n",
    "\n",
    "#                    pred defect  pred no defect\n",
    "# model1 defect         10             0\n",
    "# model1 no defect     190             0       \n",
    "\n",
    "TP = 10\n",
    "FP = 0\n",
    "FN = 190\n",
    "TN = 0\n",
    "\n",
    "recall = TP / (TP + FN)\n",
    "\n",
    "#print results\n",
    "\n",
    "print(f' recall: {recall:.2%}')\n"
   ]
  },
  {
   "cell_type": "code",
   "execution_count": 74,
   "id": "dbc7fba3",
   "metadata": {},
   "outputs": [
    {
     "data": {
      "text/plain": [
       "No Defect    110\n",
       "Defect        90\n",
       "Name: model2, dtype: int64"
      ]
     },
     "execution_count": 74,
     "metadata": {},
     "output_type": "execute_result"
    }
   ],
   "source": [
    "c3.model2.value_counts()"
   ]
  },
  {
   "cell_type": "code",
   "execution_count": 75,
   "id": "c60fdfca",
   "metadata": {},
   "outputs": [
    {
     "name": "stdout",
     "output_type": "stream",
     "text": [
      " recall: 45.00%\n"
     ]
    }
   ],
   "source": [
    "#use recall model\n",
    "\n",
    "#                    pred defect  pred no defect\n",
    "# model2 defect         90             0\n",
    "# model2 no defect     110             0       \n",
    "\n",
    "TP = 90\n",
    "FP = 0\n",
    "FN = 110\n",
    "TN = 0\n",
    "\n",
    "recall = TP / (TP + FN)\n",
    "\n",
    "#print results\n",
    "\n",
    "print(f' recall: {recall:.2%}')\n"
   ]
  },
  {
   "cell_type": "code",
   "execution_count": 76,
   "id": "6681280d",
   "metadata": {},
   "outputs": [
    {
     "data": {
      "text/plain": [
       "No Defect    101\n",
       "Defect        99\n",
       "Name: model3, dtype: int64"
      ]
     },
     "execution_count": 76,
     "metadata": {},
     "output_type": "execute_result"
    }
   ],
   "source": [
    "c3.model3.value_counts()"
   ]
  },
  {
   "cell_type": "code",
   "execution_count": 79,
   "id": "d708151e",
   "metadata": {},
   "outputs": [
    {
     "name": "stdout",
     "output_type": "stream",
     "text": [
      " recall: 49.50%\n"
     ]
    }
   ],
   "source": [
    "#use recall model\n",
    "\n",
    "#                    pred defect  pred no defect\n",
    "# model3 defect         99             0\n",
    "# model3 no defect     101             0       \n",
    "\n",
    "TP = 99\n",
    "FP = 0\n",
    "FN = 101\n",
    "TN = 0\n",
    "\n",
    "recall = TP / (TP + FN)\n",
    "\n",
    "#print results\n",
    "\n",
    "print(f' recall: {recall:.2%}')\n"
   ]
  },
  {
   "cell_type": "code",
   "execution_count": null,
   "id": "60cc09b5",
   "metadata": {},
   "outputs": [],
   "source": [
    "# model3 should be used to predict defects"
   ]
  },
  {
   "cell_type": "markdown",
   "id": "5b12eea3",
   "metadata": {},
   "source": [
    "#### (ii) Recently several stories in the local news have come out highlighting customers who received a rubber duck with a defect, and portraying C3 in a bad light. The PR team has decided to launch a program that gives customers with a defective duck a vacation to Hawaii. They need you to predict which ducks will have defects, but tell you the really don't want to accidentally give out a vacation package when the duck really doesn't have a defect. Which evaluation metric would be appropriate here? Which model would be the best fit for this use case?"
   ]
  },
  {
   "cell_type": "code",
   "execution_count": 70,
   "id": "199450e2",
   "metadata": {},
   "outputs": [
    {
     "name": "stdout",
     "output_type": "stream",
     "text": [
      " precision: 100.00%\n"
     ]
    }
   ],
   "source": [
    "#use precision model\n",
    "# to minimize false positives\n",
    "\n",
    "#                    pred defect  pred no defect\n",
    "# actual defect         16             0\n",
    "# actual no defect     184             0       \n",
    "\n",
    "TP = 16\n",
    "FP = 0\n",
    "FN = 184\n",
    "TN = 0\n",
    "\n",
    "precision = TP / (TP + FP)\n",
    "\n",
    "#print predictions\n",
    "\n",
    "print(f' precision: {precision:.2%}')\n"
   ]
  },
  {
   "cell_type": "code",
   "execution_count": 80,
   "id": "39e18c7d",
   "metadata": {},
   "outputs": [
    {
     "name": "stdout",
     "output_type": "stream",
     "text": [
      " recall: 100.00%\n"
     ]
    }
   ],
   "source": [
    "#use precision model\n",
    "\n",
    "#                    pred defect  pred no defect\n",
    "# model1 defect         10             0\n",
    "# model1 no defect     190             0       \n",
    "\n",
    "TP = 10\n",
    "FP = 0\n",
    "FN = 190\n",
    "TN = 0\n",
    "\n",
    "recall = TP / (TP + FP)\n",
    "\n",
    "#print results\n",
    "\n",
    "print(f' recall: {recall:.2%}')\n"
   ]
  },
  {
   "cell_type": "code",
   "execution_count": 81,
   "id": "3122300a",
   "metadata": {},
   "outputs": [
    {
     "name": "stdout",
     "output_type": "stream",
     "text": [
      " recall: 100.00%\n"
     ]
    }
   ],
   "source": [
    "#use precison model\n",
    "\n",
    "#                    pred defect  pred no defect\n",
    "# model2 defect         90             0\n",
    "# model2 no defect     110             0       \n",
    "\n",
    "TP = 90\n",
    "FP = 0\n",
    "FN = 110\n",
    "TN = 0\n",
    "\n",
    "recall = TP / (TP + FP)\n",
    "\n",
    "#print results\n",
    "\n",
    "print(f' recall: {recall:.2%}')\n"
   ]
  },
  {
   "cell_type": "code",
   "execution_count": 82,
   "id": "7a89f163",
   "metadata": {},
   "outputs": [
    {
     "name": "stdout",
     "output_type": "stream",
     "text": [
      " recall: 100.00%\n"
     ]
    }
   ],
   "source": [
    "#use precision model\n",
    "\n",
    "#                    pred defect  pred no defect\n",
    "# model3 defect         99             0\n",
    "# model3 no defect     101             0       \n",
    "\n",
    "TP = 99\n",
    "FP = 0\n",
    "FN = 101\n",
    "TN = 0\n",
    "\n",
    "recall = TP / (TP + FP)\n",
    "\n",
    "#print results\n",
    "\n",
    "print(f' recall: {recall:.2%}')\n"
   ]
  },
  {
   "cell_type": "code",
   "execution_count": null,
   "id": "ab71f746",
   "metadata": {},
   "outputs": [],
   "source": [
    "# use best model to predict false positives"
   ]
  },
  {
   "cell_type": "markdown",
   "id": "f31cc895",
   "metadata": {},
   "source": [
    "### 4. You are working as a data scientist for Gives You Paws ™, a subscription based service that shows you cute pictures of dogs or cats (or both for an additional fee).\n",
    "\n",
    "### At Gives You Paws, anyone can upload pictures of their cats or dogs. The photos are then put through a two step process. First an automated algorithm tags pictures as either a cat or a dog (Phase I). Next, the photos that have been initially identified are put through another round of review, possibly with some human oversight, before being presented to the users (Phase II).\n",
    "\n",
    "### Several models have already been developed with the data, and you can find their results here."
   ]
  },
  {
   "cell_type": "code",
   "execution_count": 56,
   "id": "066f4ccd",
   "metadata": {},
   "outputs": [
    {
     "data": {
      "text/html": [
       "<div>\n",
       "<style scoped>\n",
       "    .dataframe tbody tr th:only-of-type {\n",
       "        vertical-align: middle;\n",
       "    }\n",
       "\n",
       "    .dataframe tbody tr th {\n",
       "        vertical-align: top;\n",
       "    }\n",
       "\n",
       "    .dataframe thead th {\n",
       "        text-align: right;\n",
       "    }\n",
       "</style>\n",
       "<table border=\"1\" class=\"dataframe\">\n",
       "  <thead>\n",
       "    <tr style=\"text-align: right;\">\n",
       "      <th></th>\n",
       "      <th>actual</th>\n",
       "      <th>model1</th>\n",
       "      <th>model2</th>\n",
       "      <th>model3</th>\n",
       "      <th>model4</th>\n",
       "    </tr>\n",
       "  </thead>\n",
       "  <tbody>\n",
       "    <tr>\n",
       "      <th>0</th>\n",
       "      <td>cat</td>\n",
       "      <td>cat</td>\n",
       "      <td>dog</td>\n",
       "      <td>cat</td>\n",
       "      <td>dog</td>\n",
       "    </tr>\n",
       "    <tr>\n",
       "      <th>1</th>\n",
       "      <td>dog</td>\n",
       "      <td>dog</td>\n",
       "      <td>cat</td>\n",
       "      <td>cat</td>\n",
       "      <td>dog</td>\n",
       "    </tr>\n",
       "    <tr>\n",
       "      <th>2</th>\n",
       "      <td>dog</td>\n",
       "      <td>cat</td>\n",
       "      <td>cat</td>\n",
       "      <td>cat</td>\n",
       "      <td>dog</td>\n",
       "    </tr>\n",
       "    <tr>\n",
       "      <th>3</th>\n",
       "      <td>dog</td>\n",
       "      <td>dog</td>\n",
       "      <td>dog</td>\n",
       "      <td>cat</td>\n",
       "      <td>dog</td>\n",
       "    </tr>\n",
       "    <tr>\n",
       "      <th>4</th>\n",
       "      <td>cat</td>\n",
       "      <td>cat</td>\n",
       "      <td>cat</td>\n",
       "      <td>dog</td>\n",
       "      <td>dog</td>\n",
       "    </tr>\n",
       "  </tbody>\n",
       "</table>\n",
       "</div>"
      ],
      "text/plain": [
       "  actual model1 model2 model3 model4\n",
       "0    cat    cat    dog    cat    dog\n",
       "1    dog    dog    cat    cat    dog\n",
       "2    dog    cat    cat    cat    dog\n",
       "3    dog    dog    dog    cat    dog\n",
       "4    cat    cat    cat    dog    dog"
      ]
     },
     "execution_count": 56,
     "metadata": {},
     "output_type": "execute_result"
    }
   ],
   "source": [
    "c3 = pd.read_csv('c3.csv')\n",
    "c3.head()\n",
    "\n",
    "gives_you_paws = pd.read_csv('gives_you_paws.csv')\n",
    "gives_you_paws.head()"
   ]
  },
  {
   "cell_type": "code",
   "execution_count": 63,
   "id": "e0754c9e",
   "metadata": {},
   "outputs": [
    {
     "data": {
      "text/plain": [
       "dog    3254\n",
       "cat    1746\n",
       "Name: actual, dtype: int64"
      ]
     },
     "execution_count": 63,
     "metadata": {},
     "output_type": "execute_result"
    }
   ],
   "source": [
    "gives_you_paws.actual.value_counts()"
   ]
  },
  {
   "cell_type": "code",
   "execution_count": 86,
   "id": "a6661081",
   "metadata": {},
   "outputs": [
    {
     "data": {
      "text/plain": [
       "dog    2937\n",
       "cat    2063\n",
       "Name: model1, dtype: int64"
      ]
     },
     "execution_count": 86,
     "metadata": {},
     "output_type": "execute_result"
    }
   ],
   "source": [
    "gives_you_paws.model1.value_counts()"
   ]
  },
  {
   "cell_type": "code",
   "execution_count": 87,
   "id": "15a80304",
   "metadata": {},
   "outputs": [
    {
     "data": {
      "text/plain": [
       "cat    3212\n",
       "dog    1788\n",
       "Name: model2, dtype: int64"
      ]
     },
     "execution_count": 87,
     "metadata": {},
     "output_type": "execute_result"
    }
   ],
   "source": [
    "gives_you_paws.model2.value_counts()"
   ]
  },
  {
   "cell_type": "code",
   "execution_count": 88,
   "id": "299aae1d",
   "metadata": {},
   "outputs": [
    {
     "data": {
      "text/plain": [
       "dog    2508\n",
       "cat    2492\n",
       "Name: model3, dtype: int64"
      ]
     },
     "execution_count": 88,
     "metadata": {},
     "output_type": "execute_result"
    }
   ],
   "source": [
    "gives_you_paws.model3.value_counts()"
   ]
  },
  {
   "cell_type": "code",
   "execution_count": null,
   "id": "3682a947",
   "metadata": {},
   "outputs": [],
   "source": []
  }
 ],
 "metadata": {
  "kernelspec": {
   "display_name": "Python 3 (ipykernel)",
   "language": "python",
   "name": "python3"
  },
  "language_info": {
   "codemirror_mode": {
    "name": "ipython",
    "version": 3
   },
   "file_extension": ".py",
   "mimetype": "text/x-python",
   "name": "python",
   "nbconvert_exporter": "python",
   "pygments_lexer": "ipython3",
   "version": "3.9.12"
  }
 },
 "nbformat": 4,
 "nbformat_minor": 5
}
