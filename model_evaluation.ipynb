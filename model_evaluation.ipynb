{
 "cells": [
  {
   "cell_type": "code",
   "execution_count": 201,
   "id": "414fdb9b",
   "metadata": {},
   "outputs": [],
   "source": [
    "import pandas as pd\n",
    "from sklearn.metrics import confusion_matrix"
   ]
  },
  {
   "cell_type": "markdown",
   "id": "b33956b1",
   "metadata": {},
   "source": [
    "## Exercises"
   ]
  },
  {
   "cell_type": "markdown",
   "id": "e0ce58d3",
   "metadata": {},
   "source": [
    "### 1. Create a new file named model_evaluation.py or model_evaluation.ipynb for these exercises."
   ]
  },
  {
   "cell_type": "markdown",
   "id": "ff7644af",
   "metadata": {},
   "source": [
    "### 2. Given the following confusion matrix, evaluate (by hand) the model's performance.\n",
    "\n",
    "\n"
   ]
  },
  {
   "cell_type": "markdown",
   "id": "9441f395",
   "metadata": {},
   "source": [
    "|               | pred dog   | pred cat   |\n",
    "|:------------  |-----------:|-----------:|\n",
    "| actual dog    |         46 |         7  |\n",
    "| actual cat    |         13 |         34 |\n"
   ]
  },
  {
   "cell_type": "code",
   "execution_count": 202,
   "id": "97671ba7",
   "metadata": {},
   "outputs": [],
   "source": [
    "#by hand\n",
    "#                 pred dog  pred cat\n",
    "# actual dog         46        7\n",
    "# actual cat         13       34\n",
    "\n",
    "#given the above confusion matrix, we will take a positive prediction to be a dog while negative will be a cat\n",
    "\n",
    "#for our baseline, we will predict a dog all the time because it has the most prections as seen below:\n",
    "\n",
    "\n",
    "#                 pred dog  pred cat  pred dog    pred cat\n",
    "# actual dog         46        7       53            0\n",
    "# actual cat         13       34       47            0\n",
    "\n",
    "\n"
   ]
  },
  {
   "cell_type": "markdown",
   "id": "4272868b",
   "metadata": {},
   "source": [
    "### In the context of this problem, what is a false positive?\n",
    "### In the context of this problem, what is a false negative?\n",
    "### How would you describe this model?"
   ]
  },
  {
   "cell_type": "code",
   "execution_count": 203,
   "id": "f3c5f687",
   "metadata": {},
   "outputs": [
    {
     "name": "stdout",
     "output_type": "stream",
     "text": [
      " accuracy: 62.99%\n",
      " precision: 77.97%\n",
      " recall: 86.79%\n"
     ]
    }
   ],
   "source": [
    "\n",
    "#                 pred dog  pred cat               #assume:\n",
    "# actual dog         46        7                   #dog is positive\n",
    "# actual cat         13       34                   #cat is negative\n",
    "\n",
    "#true positive/TP = 46\n",
    "#the actual label is a dog and it is a dog\n",
    "\n",
    "#true negative/TN = 34\n",
    "#the actual label is a cat and it is a cat\n",
    "\n",
    "#false positive/FP = 13\n",
    "# it's a correct prediction\n",
    "# the actual label is a cat but the prediction is a dog\n",
    "\n",
    "#false negative/FN = 7\n",
    "# it's an incorrect prediction\n",
    "# the actual label is a dog but the prediction is a cat\n",
    "\n",
    "#model description\n",
    "# a recall\n",
    "\n",
    "TP = 46\n",
    "FP = 13   \n",
    "FN = 7   \n",
    "TN = 34   \n",
    "#accuracy = (TP + TN) / # of observations\n",
    "accuracy = (TP + TN) / (TP + TN + FP + FN)\n",
    "\n",
    "precision = TP / (TP + FP)\n",
    "#precision = 46 / (46 + 7)\n",
    "#precision = 0.8679\n",
    "\n",
    "recall = TP / (TP + FN)\n",
    "#recall = 46 / (46 + 13)\n",
    "#recall = 0.7796\n",
    "\n",
    "#print results\n",
    "\n",
    "print(f' accuracy: {accuracy:.2%}')\n",
    "print(f' precision: {precision:.2%}')\n",
    "print(f' recall: {recall:.2%}')\n"
   ]
  },
  {
   "cell_type": "code",
   "execution_count": 89,
   "id": "a44975d2",
   "metadata": {},
   "outputs": [],
   "source": [
    "#recall is about real positives. \n",
    "#precision is about predictive positives. "
   ]
  },
  {
   "cell_type": "markdown",
   "id": "55b4a628",
   "metadata": {},
   "source": [
    "### 3. You are working as a datascientist working for Codeup Cody Creator (C3 for short), a rubber-duck manufacturing plant.\n",
    "\n",
    "### Unfortunately, some of the rubber ducks that are produced will have defects. Your team has built several models that try to predict those defects, and the data from their predictions can be found here.\n"
   ]
  },
  {
   "cell_type": "code",
   "execution_count": 133,
   "id": "fce5d1d4",
   "metadata": {},
   "outputs": [
    {
     "data": {
      "text/html": [
       "<div>\n",
       "<style scoped>\n",
       "    .dataframe tbody tr th:only-of-type {\n",
       "        vertical-align: middle;\n",
       "    }\n",
       "\n",
       "    .dataframe tbody tr th {\n",
       "        vertical-align: top;\n",
       "    }\n",
       "\n",
       "    .dataframe thead th {\n",
       "        text-align: right;\n",
       "    }\n",
       "</style>\n",
       "<table border=\"1\" class=\"dataframe\">\n",
       "  <thead>\n",
       "    <tr style=\"text-align: right;\">\n",
       "      <th></th>\n",
       "      <th>actual</th>\n",
       "      <th>model1</th>\n",
       "      <th>model2</th>\n",
       "      <th>model3</th>\n",
       "    </tr>\n",
       "  </thead>\n",
       "  <tbody>\n",
       "    <tr>\n",
       "      <th>0</th>\n",
       "      <td>No Defect</td>\n",
       "      <td>No Defect</td>\n",
       "      <td>Defect</td>\n",
       "      <td>No Defect</td>\n",
       "    </tr>\n",
       "    <tr>\n",
       "      <th>1</th>\n",
       "      <td>No Defect</td>\n",
       "      <td>No Defect</td>\n",
       "      <td>Defect</td>\n",
       "      <td>Defect</td>\n",
       "    </tr>\n",
       "    <tr>\n",
       "      <th>2</th>\n",
       "      <td>No Defect</td>\n",
       "      <td>No Defect</td>\n",
       "      <td>Defect</td>\n",
       "      <td>No Defect</td>\n",
       "    </tr>\n",
       "    <tr>\n",
       "      <th>3</th>\n",
       "      <td>No Defect</td>\n",
       "      <td>Defect</td>\n",
       "      <td>Defect</td>\n",
       "      <td>Defect</td>\n",
       "    </tr>\n",
       "    <tr>\n",
       "      <th>4</th>\n",
       "      <td>No Defect</td>\n",
       "      <td>No Defect</td>\n",
       "      <td>Defect</td>\n",
       "      <td>No Defect</td>\n",
       "    </tr>\n",
       "  </tbody>\n",
       "</table>\n",
       "</div>"
      ],
      "text/plain": [
       "      actual     model1  model2     model3\n",
       "0  No Defect  No Defect  Defect  No Defect\n",
       "1  No Defect  No Defect  Defect     Defect\n",
       "2  No Defect  No Defect  Defect  No Defect\n",
       "3  No Defect     Defect  Defect     Defect\n",
       "4  No Defect  No Defect  Defect  No Defect"
      ]
     },
     "execution_count": 133,
     "metadata": {},
     "output_type": "execute_result"
    }
   ],
   "source": [
    "c3 = pd.read_csv('c3.csv')\n",
    "c3.head()"
   ]
  },
  {
   "cell_type": "markdown",
   "id": "509c289b",
   "metadata": {},
   "source": [
    "### Use the predictions dataset and pandas to help answer the following questions:\n"
   ]
  },
  {
   "cell_type": "markdown",
   "id": "44cdb1a6",
   "metadata": {},
   "source": [
    "#### (i) An internal team wants to investigate the cause of the manufacturing defects. They tell you that they want to identify as many of            the ducks that have a defect as possible. Which evaluation metric would be appropriate here? Which model would be the best fit            for this use case?"
   ]
  },
  {
   "cell_type": "code",
   "execution_count": 107,
   "id": "209ef9f8",
   "metadata": {},
   "outputs": [
    {
     "data": {
      "text/html": [
       "<div>\n",
       "<style scoped>\n",
       "    .dataframe tbody tr th:only-of-type {\n",
       "        vertical-align: middle;\n",
       "    }\n",
       "\n",
       "    .dataframe tbody tr th {\n",
       "        vertical-align: top;\n",
       "    }\n",
       "\n",
       "    .dataframe thead th {\n",
       "        text-align: right;\n",
       "    }\n",
       "</style>\n",
       "<table border=\"1\" class=\"dataframe\">\n",
       "  <thead>\n",
       "    <tr style=\"text-align: right;\">\n",
       "      <th></th>\n",
       "      <th>actual</th>\n",
       "      <th>model1</th>\n",
       "      <th>model2</th>\n",
       "      <th>model3</th>\n",
       "    </tr>\n",
       "  </thead>\n",
       "  <tbody>\n",
       "    <tr>\n",
       "      <th>0</th>\n",
       "      <td>0</td>\n",
       "      <td>0</td>\n",
       "      <td>1</td>\n",
       "      <td>0</td>\n",
       "    </tr>\n",
       "    <tr>\n",
       "      <th>1</th>\n",
       "      <td>0</td>\n",
       "      <td>0</td>\n",
       "      <td>1</td>\n",
       "      <td>1</td>\n",
       "    </tr>\n",
       "    <tr>\n",
       "      <th>2</th>\n",
       "      <td>0</td>\n",
       "      <td>0</td>\n",
       "      <td>1</td>\n",
       "      <td>0</td>\n",
       "    </tr>\n",
       "    <tr>\n",
       "      <th>3</th>\n",
       "      <td>0</td>\n",
       "      <td>1</td>\n",
       "      <td>1</td>\n",
       "      <td>1</td>\n",
       "    </tr>\n",
       "    <tr>\n",
       "      <th>4</th>\n",
       "      <td>0</td>\n",
       "      <td>0</td>\n",
       "      <td>1</td>\n",
       "      <td>0</td>\n",
       "    </tr>\n",
       "  </tbody>\n",
       "</table>\n",
       "</div>"
      ],
      "text/plain": [
       "   actual  model1  model2  model3\n",
       "0       0       0       1       0\n",
       "1       0       0       1       1\n",
       "2       0       0       1       0\n",
       "3       0       1       1       1\n",
       "4       0       0       1       0"
      ]
     },
     "execution_count": 107,
     "metadata": {},
     "output_type": "execute_result"
    }
   ],
   "source": [
    "\n",
    "c3_encode = c3.replace({'Defect':1, 'No Defect':0})\n",
    "c3_encode.head()"
   ]
  },
  {
   "cell_type": "code",
   "execution_count": 108,
   "id": "86d9642b",
   "metadata": {},
   "outputs": [
    {
     "name": "stdout",
     "output_type": "stream",
     "text": [
      "<class 'pandas.core.frame.DataFrame'>\n",
      "RangeIndex: 200 entries, 0 to 199\n",
      "Data columns (total 4 columns):\n",
      " #   Column  Non-Null Count  Dtype \n",
      "---  ------  --------------  ----- \n",
      " 0   actual  200 non-null    object\n",
      " 1   model1  200 non-null    object\n",
      " 2   model2  200 non-null    object\n",
      " 3   model3  200 non-null    object\n",
      "dtypes: object(4)\n",
      "memory usage: 6.4+ KB\n"
     ]
    }
   ],
   "source": [
    "c3.info()"
   ]
  },
  {
   "cell_type": "code",
   "execution_count": 109,
   "id": "26b4729b",
   "metadata": {},
   "outputs": [
    {
     "data": {
      "text/plain": [
       "No Defect    184\n",
       "Defect        16\n",
       "Name: actual, dtype: int64"
      ]
     },
     "execution_count": 109,
     "metadata": {},
     "output_type": "execute_result"
    }
   ],
   "source": [
    "c3.actual.value_counts()"
   ]
  },
  {
   "cell_type": "code",
   "execution_count": 110,
   "id": "bb6f082c",
   "metadata": {},
   "outputs": [
    {
     "name": "stdout",
     "output_type": "stream",
     "text": [
      " recall: 0.08\n"
     ]
    }
   ],
   "source": [
    "#use recall model\n",
    "#actual\n",
    "#                    pred defect  pred no defect\n",
    "# actual defect         16             0\n",
    "# actual no defect     184             0       \n",
    "\n",
    "TP = 16\n",
    "FP = 0\n",
    "FN = 184\n",
    "TN = 0\n",
    "\n",
    "recall = TP / (TP + FN)\n",
    "\n",
    "#print results\n",
    "\n",
    "print(f' recall: {recall:.2}')\n"
   ]
  },
  {
   "cell_type": "code",
   "execution_count": 111,
   "id": "29312cf9",
   "metadata": {},
   "outputs": [
    {
     "data": {
      "text/plain": [
       "No Defect    190\n",
       "Defect        10\n",
       "Name: model1, dtype: int64"
      ]
     },
     "execution_count": 111,
     "metadata": {},
     "output_type": "execute_result"
    }
   ],
   "source": [
    "c3.model1.value_counts()"
   ]
  },
  {
   "cell_type": "code",
   "execution_count": 112,
   "id": "44aeaebd",
   "metadata": {},
   "outputs": [
    {
     "name": "stdout",
     "output_type": "stream",
     "text": [
      " recall: 5.00%\n"
     ]
    }
   ],
   "source": [
    "#use recall model\n",
    "#model1\n",
    "#                    pred defect  pred no defect\n",
    "# model1 defect         10             0\n",
    "# model1 no defect     190             0       \n",
    "\n",
    "TP = 10\n",
    "FP = 0\n",
    "FN = 190\n",
    "TN = 0\n",
    "\n",
    "recall = TP / (TP + FN)\n",
    "\n",
    "#print results\n",
    "\n",
    "print(f' recall: {recall:.2%}')\n"
   ]
  },
  {
   "cell_type": "code",
   "execution_count": 113,
   "id": "d865b4d1",
   "metadata": {},
   "outputs": [
    {
     "data": {
      "text/plain": [
       "No Defect    110\n",
       "Defect        90\n",
       "Name: model2, dtype: int64"
      ]
     },
     "execution_count": 113,
     "metadata": {},
     "output_type": "execute_result"
    }
   ],
   "source": [
    "c3.model2.value_counts()"
   ]
  },
  {
   "cell_type": "code",
   "execution_count": 114,
   "id": "cecf3061",
   "metadata": {},
   "outputs": [
    {
     "name": "stdout",
     "output_type": "stream",
     "text": [
      " recall: 45.00%\n"
     ]
    }
   ],
   "source": [
    "#use recall model\n",
    "#model2\n",
    "#                    pred defect  pred no defect\n",
    "# model2 defect         90             0\n",
    "# model2 no defect     110             0       \n",
    "\n",
    "TP = 90\n",
    "FP = 0\n",
    "FN = 110\n",
    "TN = 0\n",
    "\n",
    "recall = TP / (TP + FN)\n",
    "\n",
    "#print results\n",
    "\n",
    "print(f' recall: {recall:.2%}')\n"
   ]
  },
  {
   "cell_type": "code",
   "execution_count": 115,
   "id": "674cd4cc",
   "metadata": {},
   "outputs": [
    {
     "data": {
      "text/plain": [
       "No Defect    101\n",
       "Defect        99\n",
       "Name: model3, dtype: int64"
      ]
     },
     "execution_count": 115,
     "metadata": {},
     "output_type": "execute_result"
    }
   ],
   "source": [
    "c3.model3.value_counts()"
   ]
  },
  {
   "cell_type": "code",
   "execution_count": 116,
   "id": "11b9ef40",
   "metadata": {},
   "outputs": [
    {
     "name": "stdout",
     "output_type": "stream",
     "text": [
      " recall: 49.50%\n"
     ]
    }
   ],
   "source": [
    "#use recall model\n",
    "#model3\n",
    "#                    pred defect  pred no defect\n",
    "# model3 defect         99             0\n",
    "# model3 no defect     101             0       \n",
    "\n",
    "TP = 99\n",
    "FP = 0\n",
    "FN = 101\n",
    "TN = 0\n",
    "\n",
    "recall = TP / (TP + FN)\n",
    "\n",
    "#print results\n",
    "\n",
    "print(f' recall: {recall:.2%}')\n"
   ]
  },
  {
   "cell_type": "code",
   "execution_count": 117,
   "id": "a6401dcf",
   "metadata": {},
   "outputs": [],
   "source": [
    "#Takeaways:\n",
    "# model 3 should be used to predict defects because it has a higher recall\n"
   ]
  },
  {
   "cell_type": "markdown",
   "id": "c773d05c",
   "metadata": {},
   "source": [
    "#### (ii) Recently several stories in the local news have come out highlighting customers who received a rubber duck with a defect, and portraying C3 in a bad light. The PR team has decided to launch a program that gives customers with a defective duck a vacation to Hawaii. They need you to predict which ducks will have defects, but tell you the really don't want to accidentally give out a vacation package when the duck really doesn't have a defect. Which evaluation metric would be appropriate here? Which model would be the best fit for this use case?"
   ]
  },
  {
   "cell_type": "code",
   "execution_count": 140,
   "id": "7f51a39b",
   "metadata": {},
   "outputs": [
    {
     "name": "stdout",
     "output_type": "stream",
     "text": [
      " precision: 32.00%\n"
     ]
    }
   ],
   "source": [
    "#use precision model\n",
    "# to minimize false positives\n",
    "\n",
    "#                    pred defect  pred no defect\n",
    "# actual defect         16             34(assume34)\n",
    "# actual no defect     184             50(assume50)      \n",
    "\n",
    "TP = 16\n",
    "FP = 34\n",
    "FN = 184\n",
    "TN = 50\n",
    "\n",
    "precision = TP / (TP + FP)\n",
    "\n",
    "#print predictions\n",
    "\n",
    "print(f' precision: {precision:.2%}')\n"
   ]
  },
  {
   "cell_type": "code",
   "execution_count": 131,
   "id": "627c8e86",
   "metadata": {},
   "outputs": [
    {
     "data": {
      "text/plain": [
       "0       False\n",
       "1       False\n",
       "2       False\n",
       "3       False\n",
       "4       False\n",
       "        ...  \n",
       "4995    False\n",
       "4996    False\n",
       "4997    False\n",
       "4998    False\n",
       "4999    False\n",
       "Name: model1, Length: 5000, dtype: bool"
      ]
     },
     "execution_count": 131,
     "metadata": {},
     "output_type": "execute_result"
    }
   ],
   "source": [
    "# choose subset of model1 where we only select 'positive predictions'\n",
    "df.model1 == 'Defect'\n",
    "\n"
   ]
  },
  {
   "cell_type": "code",
   "execution_count": 141,
   "id": "5ac4a72e",
   "metadata": {},
   "outputs": [
    {
     "name": "stdout",
     "output_type": "stream",
     "text": [
      " recall: 22.73%\n"
     ]
    }
   ],
   "source": [
    "#use precision model\n",
    "\n",
    "#                    pred defect  pred no defect\n",
    "# model1 defect         10             34(assume34)\n",
    "# model1 no defect     190             50(assume50)       \n",
    "\n",
    "TP = 10\n",
    "FP = 34\n",
    "FN = 190\n",
    "TN = 50\n",
    "\n",
    "recall = TP / (TP + FP)\n",
    "\n",
    "#print results\n",
    "\n",
    "print(f' recall: {recall:.2%}')\n"
   ]
  },
  {
   "cell_type": "code",
   "execution_count": 142,
   "id": "1ebc09a3",
   "metadata": {},
   "outputs": [
    {
     "name": "stdout",
     "output_type": "stream",
     "text": [
      " recall: 72.58%\n"
     ]
    }
   ],
   "source": [
    "#use precison model\n",
    "\n",
    "#                    pred defect  pred no defect\n",
    "# model2 defect         90             34(assume34)\n",
    "# model2 no defect     110             50(assume50)       \n",
    "\n",
    "TP = 90\n",
    "FP = 34\n",
    "FN = 110\n",
    "TN = 50\n",
    "\n",
    "recall = TP / (TP + FP)\n",
    "\n",
    "#print results\n",
    "\n",
    "print(f' recall: {recall:.2%}')\n"
   ]
  },
  {
   "cell_type": "code",
   "execution_count": 143,
   "id": "a28234c6",
   "metadata": {},
   "outputs": [
    {
     "name": "stdout",
     "output_type": "stream",
     "text": [
      " recall: 74.44%\n"
     ]
    }
   ],
   "source": [
    "#use precision model\n",
    "\n",
    "#                    pred defect  pred no defect\n",
    "# model3 defect         99             34(assume34)\n",
    "# model3 no defect     101             50(assume50)       \n",
    "\n",
    "TP = 99\n",
    "FP = 34\n",
    "FN = 101\n",
    "TN = 50\n",
    "\n",
    "recall = TP / (TP + FP)\n",
    "\n",
    "#print results\n",
    "\n",
    "print(f' recall: {recall:.2%}')\n"
   ]
  },
  {
   "cell_type": "code",
   "execution_count": null,
   "id": "c4cd9066",
   "metadata": {},
   "outputs": [],
   "source": [
    "#Takeaways:\n",
    "# use best model, model 1 since it minimizes to predict false positives\n",
    "\n"
   ]
  },
  {
   "cell_type": "markdown",
   "id": "4babd23f",
   "metadata": {},
   "source": [
    "### 4. You are working as a data scientist for Gives You Paws ™, a subscription based service that shows you cute pictures of dogs or cats (or both for an additional fee).\n",
    "\n",
    "### At Gives You Paws, anyone can upload pictures of their cats or dogs. The photos are then put through a two step process. First an automated algorithm tags pictures as either a cat or a dog (Phase I). Next, the photos that have been initially identified are put through another round of review, possibly with some human oversight, before being presented to the users (Phase II).\n",
    "\n",
    "### Several models have already been developed with the data, and you can find their results here."
   ]
  },
  {
   "cell_type": "code",
   "execution_count": 168,
   "id": "c9ed4a51",
   "metadata": {},
   "outputs": [
    {
     "data": {
      "text/html": [
       "<div>\n",
       "<style scoped>\n",
       "    .dataframe tbody tr th:only-of-type {\n",
       "        vertical-align: middle;\n",
       "    }\n",
       "\n",
       "    .dataframe tbody tr th {\n",
       "        vertical-align: top;\n",
       "    }\n",
       "\n",
       "    .dataframe thead th {\n",
       "        text-align: right;\n",
       "    }\n",
       "</style>\n",
       "<table border=\"1\" class=\"dataframe\">\n",
       "  <thead>\n",
       "    <tr style=\"text-align: right;\">\n",
       "      <th></th>\n",
       "      <th>actual</th>\n",
       "      <th>model1</th>\n",
       "      <th>model2</th>\n",
       "      <th>model3</th>\n",
       "      <th>model4</th>\n",
       "    </tr>\n",
       "  </thead>\n",
       "  <tbody>\n",
       "    <tr>\n",
       "      <th>0</th>\n",
       "      <td>cat</td>\n",
       "      <td>cat</td>\n",
       "      <td>dog</td>\n",
       "      <td>cat</td>\n",
       "      <td>dog</td>\n",
       "    </tr>\n",
       "    <tr>\n",
       "      <th>1</th>\n",
       "      <td>dog</td>\n",
       "      <td>dog</td>\n",
       "      <td>cat</td>\n",
       "      <td>cat</td>\n",
       "      <td>dog</td>\n",
       "    </tr>\n",
       "    <tr>\n",
       "      <th>2</th>\n",
       "      <td>dog</td>\n",
       "      <td>cat</td>\n",
       "      <td>cat</td>\n",
       "      <td>cat</td>\n",
       "      <td>dog</td>\n",
       "    </tr>\n",
       "    <tr>\n",
       "      <th>3</th>\n",
       "      <td>dog</td>\n",
       "      <td>dog</td>\n",
       "      <td>dog</td>\n",
       "      <td>cat</td>\n",
       "      <td>dog</td>\n",
       "    </tr>\n",
       "    <tr>\n",
       "      <th>4</th>\n",
       "      <td>cat</td>\n",
       "      <td>cat</td>\n",
       "      <td>cat</td>\n",
       "      <td>dog</td>\n",
       "      <td>dog</td>\n",
       "    </tr>\n",
       "  </tbody>\n",
       "</table>\n",
       "</div>"
      ],
      "text/plain": [
       "  actual model1 model2 model3 model4\n",
       "0    cat    cat    dog    cat    dog\n",
       "1    dog    dog    cat    cat    dog\n",
       "2    dog    cat    cat    cat    dog\n",
       "3    dog    dog    dog    cat    dog\n",
       "4    cat    cat    cat    dog    dog"
      ]
     },
     "execution_count": 168,
     "metadata": {},
     "output_type": "execute_result"
    }
   ],
   "source": [
    "c3 = pd.read_csv('c3.csv')\n",
    "c3.head()\n",
    "\n",
    "gives_you_paws = pd.read_csv('gives_you_paws.csv')\n",
    "gives_you_paws.head()"
   ]
  },
  {
   "cell_type": "code",
   "execution_count": 169,
   "id": "3daebaf8",
   "metadata": {},
   "outputs": [
    {
     "data": {
      "text/plain": [
       "dog    3254\n",
       "cat    1746\n",
       "Name: actual, dtype: int64"
      ]
     },
     "execution_count": 169,
     "metadata": {},
     "output_type": "execute_result"
    }
   ],
   "source": [
    "gives_you_paws.actual.value_counts()"
   ]
  },
  {
   "cell_type": "code",
   "execution_count": 170,
   "id": "fce6918e",
   "metadata": {},
   "outputs": [
    {
     "data": {
      "text/plain": [
       "dog    2937\n",
       "cat    2063\n",
       "Name: model1, dtype: int64"
      ]
     },
     "execution_count": 170,
     "metadata": {},
     "output_type": "execute_result"
    }
   ],
   "source": [
    "gives_you_paws.model1.value_counts()"
   ]
  },
  {
   "cell_type": "code",
   "execution_count": 171,
   "id": "fc20e353",
   "metadata": {},
   "outputs": [
    {
     "data": {
      "text/plain": [
       "cat    3212\n",
       "dog    1788\n",
       "Name: model2, dtype: int64"
      ]
     },
     "execution_count": 171,
     "metadata": {},
     "output_type": "execute_result"
    }
   ],
   "source": [
    "gives_you_paws.model2.value_counts()"
   ]
  },
  {
   "cell_type": "code",
   "execution_count": 172,
   "id": "e6ac3d75",
   "metadata": {},
   "outputs": [
    {
     "data": {
      "text/plain": [
       "dog    2508\n",
       "cat    2492\n",
       "Name: model3, dtype: int64"
      ]
     },
     "execution_count": 172,
     "metadata": {},
     "output_type": "execute_result"
    }
   ],
   "source": [
    "gives_you_paws.model3.value_counts()"
   ]
  },
  {
   "cell_type": "markdown",
   "id": "4077065d",
   "metadata": {},
   "source": [
    "### Given this dataset, use pandas to create a baseline model (i.e. a model that just predicts the most common class) and answer the following questions:\n",
    "\n"
   ]
  },
  {
   "cell_type": "code",
   "execution_count": 173,
   "id": "279b8306",
   "metadata": {},
   "outputs": [
    {
     "data": {
      "text/html": [
       "<div>\n",
       "<style scoped>\n",
       "    .dataframe tbody tr th:only-of-type {\n",
       "        vertical-align: middle;\n",
       "    }\n",
       "\n",
       "    .dataframe tbody tr th {\n",
       "        vertical-align: top;\n",
       "    }\n",
       "\n",
       "    .dataframe thead th {\n",
       "        text-align: right;\n",
       "    }\n",
       "</style>\n",
       "<table border=\"1\" class=\"dataframe\">\n",
       "  <thead>\n",
       "    <tr style=\"text-align: right;\">\n",
       "      <th></th>\n",
       "      <th>actual</th>\n",
       "      <th>model1</th>\n",
       "      <th>model2</th>\n",
       "      <th>model3</th>\n",
       "      <th>model4</th>\n",
       "    </tr>\n",
       "  </thead>\n",
       "  <tbody>\n",
       "    <tr>\n",
       "      <th>0</th>\n",
       "      <td>cat</td>\n",
       "      <td>cat</td>\n",
       "      <td>dog</td>\n",
       "      <td>cat</td>\n",
       "      <td>dog</td>\n",
       "    </tr>\n",
       "    <tr>\n",
       "      <th>1</th>\n",
       "      <td>dog</td>\n",
       "      <td>dog</td>\n",
       "      <td>cat</td>\n",
       "      <td>cat</td>\n",
       "      <td>dog</td>\n",
       "    </tr>\n",
       "    <tr>\n",
       "      <th>2</th>\n",
       "      <td>dog</td>\n",
       "      <td>cat</td>\n",
       "      <td>cat</td>\n",
       "      <td>cat</td>\n",
       "      <td>dog</td>\n",
       "    </tr>\n",
       "    <tr>\n",
       "      <th>3</th>\n",
       "      <td>dog</td>\n",
       "      <td>dog</td>\n",
       "      <td>dog</td>\n",
       "      <td>cat</td>\n",
       "      <td>dog</td>\n",
       "    </tr>\n",
       "    <tr>\n",
       "      <th>4</th>\n",
       "      <td>cat</td>\n",
       "      <td>cat</td>\n",
       "      <td>cat</td>\n",
       "      <td>dog</td>\n",
       "      <td>dog</td>\n",
       "    </tr>\n",
       "    <tr>\n",
       "      <th>...</th>\n",
       "      <td>...</td>\n",
       "      <td>...</td>\n",
       "      <td>...</td>\n",
       "      <td>...</td>\n",
       "      <td>...</td>\n",
       "    </tr>\n",
       "    <tr>\n",
       "      <th>4995</th>\n",
       "      <td>dog</td>\n",
       "      <td>dog</td>\n",
       "      <td>dog</td>\n",
       "      <td>dog</td>\n",
       "      <td>dog</td>\n",
       "    </tr>\n",
       "    <tr>\n",
       "      <th>4996</th>\n",
       "      <td>dog</td>\n",
       "      <td>dog</td>\n",
       "      <td>cat</td>\n",
       "      <td>cat</td>\n",
       "      <td>dog</td>\n",
       "    </tr>\n",
       "    <tr>\n",
       "      <th>4997</th>\n",
       "      <td>dog</td>\n",
       "      <td>cat</td>\n",
       "      <td>cat</td>\n",
       "      <td>dog</td>\n",
       "      <td>dog</td>\n",
       "    </tr>\n",
       "    <tr>\n",
       "      <th>4998</th>\n",
       "      <td>cat</td>\n",
       "      <td>cat</td>\n",
       "      <td>cat</td>\n",
       "      <td>cat</td>\n",
       "      <td>dog</td>\n",
       "    </tr>\n",
       "    <tr>\n",
       "      <th>4999</th>\n",
       "      <td>dog</td>\n",
       "      <td>dog</td>\n",
       "      <td>dog</td>\n",
       "      <td>dog</td>\n",
       "      <td>dog</td>\n",
       "    </tr>\n",
       "  </tbody>\n",
       "</table>\n",
       "<p>5000 rows × 5 columns</p>\n",
       "</div>"
      ],
      "text/plain": [
       "     actual model1 model2 model3 model4\n",
       "0       cat    cat    dog    cat    dog\n",
       "1       dog    dog    cat    cat    dog\n",
       "2       dog    cat    cat    cat    dog\n",
       "3       dog    dog    dog    cat    dog\n",
       "4       cat    cat    cat    dog    dog\n",
       "...     ...    ...    ...    ...    ...\n",
       "4995    dog    dog    dog    dog    dog\n",
       "4996    dog    dog    cat    cat    dog\n",
       "4997    dog    cat    cat    dog    dog\n",
       "4998    cat    cat    cat    cat    dog\n",
       "4999    dog    dog    dog    dog    dog\n",
       "\n",
       "[5000 rows x 5 columns]"
      ]
     },
     "execution_count": 173,
     "metadata": {},
     "output_type": "execute_result"
    }
   ],
   "source": [
    "#baseline\n",
    "gives_you_paws = pd.read_csv('gives_you_paws.csv')\n",
    "gives_you_paws"
   ]
  },
  {
   "cell_type": "code",
   "execution_count": 174,
   "id": "41fbdd2e",
   "metadata": {},
   "outputs": [],
   "source": [
    "gives_you_paws['baseline'] = 'dog'"
   ]
  },
  {
   "cell_type": "code",
   "execution_count": 175,
   "id": "862fe2ad",
   "metadata": {},
   "outputs": [],
   "source": [
    "cols = gives_you_paws.columns.drop('actual')"
   ]
  },
  {
   "cell_type": "markdown",
   "id": "d1cdd53c",
   "metadata": {},
   "source": [
    "#### (a) In terms of accuracy, how do the various models compare to the baseline model? Are any of the models better than the baseline?\n"
   ]
  },
  {
   "cell_type": "code",
   "execution_count": 176,
   "id": "180f5cf8",
   "metadata": {},
   "outputs": [
    {
     "data": {
      "text/plain": [
       "['model1 accuracy: 0.8074',\n",
       " 'model2 accuracy: 0.6304',\n",
       " 'model3 accuracy: 0.5096',\n",
       " 'model4 accuracy: 0.7426',\n",
       " 'baseline accuracy: 0.6508']"
      ]
     },
     "execution_count": 176,
     "metadata": {},
     "output_type": "execute_result"
    }
   ],
   "source": [
    "comparison_acc = []\n",
    "\n",
    "for col in cols:\n",
    "    comparison_acc.append(col + ' accuracy: ' + str((gives_you_paws.actual == gives_you_paws[col]).mean()))\n",
    "comparison_acc"
   ]
  },
  {
   "cell_type": "code",
   "execution_count": null,
   "id": "88f90c84",
   "metadata": {},
   "outputs": [],
   "source": [
    "#Takeways:\n",
    "\n",
    "#in terms of accuracy, model 1 and model 4 perform better than baseline"
   ]
  },
  {
   "cell_type": "markdown",
   "id": "500ce635",
   "metadata": {},
   "source": [
    "#### (b)Suppose you are working on a team that solely deals with dog pictures. Which of these models would you recomend for Phase I? For Phase II?\n"
   ]
  },
  {
   "cell_type": "code",
   "execution_count": 184,
   "id": "58687b8f",
   "metadata": {},
   "outputs": [
    {
     "name": "stdout",
     "output_type": "stream",
     "text": [
      "model1 precision is: 0.8900238338440586\n",
      "model2 precision is: 0.8931767337807607\n",
      "model3 precision is: 0.6598883572567783\n",
      "model4 precision is: 0.7312485304490948\n",
      "baseline precision is: 0.6508\n"
     ]
    }
   ],
   "source": [
    "# precision model\n",
    "# i would recommend this model on Phase II for model 2&4 to catch as many dog pictures as possible\n",
    "for col in cols:\n",
    "    subset = gives_you_paws[gives_you_paws[col] == 'dog']\n",
    "    print(f'{col} precision is: {(subset[col] == subset.actual).mean()}')"
   ]
  },
  {
   "cell_type": "code",
   "execution_count": 183,
   "id": "94df8a87",
   "metadata": {},
   "outputs": [
    {
     "name": "stdout",
     "output_type": "stream",
     "text": [
      "model1 recall is: 0.803318992009834\n",
      "model2 recall is: 0.49078057775046097\n",
      "model3 recall is: 0.5086047940995697\n",
      "model4 recall is: 0.9557467732022127\n",
      "baseline recall is: 1.0\n"
     ]
    }
   ],
   "source": [
    "# recall model\n",
    "# i would recommend this model on Phase I\n",
    "subset = gives_you_paws[gives_you_paws.actual == 'dog']\n",
    "for col in cols:\n",
    "    print(f'{col} recall is: {(subset[col] == subset.actual).mean()}')"
   ]
  },
  {
   "cell_type": "markdown",
   "id": "67c74073",
   "metadata": {},
   "source": [
    "#### (c) Suppose you are working on a team that solely deals with cat pictures. Which of these models would you recomend for Phase I? For Phase II?\n"
   ]
  },
  {
   "cell_type": "code",
   "execution_count": null,
   "id": "a57daa24",
   "metadata": {},
   "outputs": [],
   "source": [
    "# use precision for phase I which has model 2 to give the lowest chance of assigning cats as dogs. "
   ]
  },
  {
   "cell_type": "markdown",
   "id": "0b829fd0",
   "metadata": {},
   "source": [
    "### 5. Follow the links below to read the documentation about each function, then apply those functions to the data from the previous problem."
   ]
  },
  {
   "cell_type": "markdown",
   "id": "edefa4b2",
   "metadata": {},
   "source": [
    "#### sklearn.metrics.accuracy_score\n",
    "#### sklearn.metrics.precision_score\n",
    "#### sklearn.metrics.recall_score\n",
    "#### sklearn.metrics.classification_report"
   ]
  },
  {
   "cell_type": "code",
   "execution_count": 193,
   "id": "0e406008",
   "metadata": {},
   "outputs": [],
   "source": [
    "import sklearn\n",
    "from sklearn.model_selection import train_test_split\n",
    "from sklearn.impute import SimpleImputer"
   ]
  },
  {
   "cell_type": "code",
   "execution_count": 194,
   "id": "10fac3ab",
   "metadata": {},
   "outputs": [
    {
     "name": "stdout",
     "output_type": "stream",
     "text": [
      "model1 accuracy: 0.8074\n",
      "model2 accuracy: 0.6304\n",
      "model3 accuracy: 0.5096\n",
      "model4 accuracy: 0.7426\n",
      "baseline accuracy: 0.6508\n"
     ]
    }
   ],
   "source": [
    "# accuracy\n",
    "for col in cols:\n",
    "    print(f'{col} accuracy: {sklearn.metrics.accuracy_score(gives_you_paws.actual, gives_you_paws[col])}')"
   ]
  },
  {
   "cell_type": "code",
   "execution_count": 198,
   "id": "87f65c08",
   "metadata": {},
   "outputs": [
    {
     "name": "stdout",
     "output_type": "stream",
     "text": [
      "model1 recall: 0.803318992009834\n",
      "model2 recall: 0.49078057775046097\n",
      "model3 recall: 0.5086047940995697\n",
      "model4 recall: 0.9557467732022127\n",
      "baseline recall: 1.0\n"
     ]
    }
   ],
   "source": [
    "# recall\n",
    "for col in cols:\n",
    "    print(f'{col} recall: {sklearn.metrics.recall_score(gives_you_paws.actual, gives_you_paws[col], pos_label=\"dog\")}')"
   ]
  },
  {
   "cell_type": "code",
   "execution_count": 200,
   "id": "090a1b81",
   "metadata": {},
   "outputs": [
    {
     "name": "stdout",
     "output_type": "stream",
     "text": [
      "model1 precision: 0.8900238338440586\n",
      "model2 precision: 0.8931767337807607\n",
      "model3 precision: 0.6598883572567783\n",
      "model4 precision: 0.7312485304490948\n",
      "baseline precision: 0.6508\n"
     ]
    }
   ],
   "source": [
    "# precision\n",
    "for col in cols:\n",
    "    print(f'{col} precision: {sklearn.metrics.precision_score(gives_you_paws.actual, gives_you_paws[col], pos_label=\"dog\")}')"
   ]
  },
  {
   "cell_type": "code",
   "execution_count": null,
   "id": "ad92211c",
   "metadata": {},
   "outputs": [],
   "source": []
  }
 ],
 "metadata": {
  "kernelspec": {
   "display_name": "Python 3 (ipykernel)",
   "language": "python",
   "name": "python3"
  },
  "language_info": {
   "codemirror_mode": {
    "name": "ipython",
    "version": 3
   },
   "file_extension": ".py",
   "mimetype": "text/x-python",
   "name": "python",
   "nbconvert_exporter": "python",
   "pygments_lexer": "ipython3",
   "version": "3.9.12"
  }
 },
 "nbformat": 4,
 "nbformat_minor": 5
}
